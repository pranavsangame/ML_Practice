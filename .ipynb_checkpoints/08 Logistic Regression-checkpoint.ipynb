{
 "cells": [
  {
   "cell_type": "raw",
   "id": "5b98a000",
   "metadata": {},
   "source": [
    "Logistic Regression:\n",
    "    \n",
    "    It is a supervised machine learning algorithm which uses linear model however here the targeted variable is a categorical value & the independent variables can be categorical or numerical.\n",
    "    \n",
    "    It is a machine learning classification algorithm which is used to predict the probability of the targeted variable to which class the observation may belong.\n",
    "    \n",
    "    Targeted column >> Categorical / Discrete values.\n",
    "    \n",
    "It is called as logistic regression bcz we use the concept of linearity or the linear equation & additionally we use the log function to find the log of odds so is the name.\n",
    "\n",
    "\n",
    "classes in targetedted variable:\n",
    "    Binary class:\n",
    "        0 or 1\n",
    "        Yes/No\n",
    "        True/False\n",
    "        Success/Failure\n",
    "        High/Low\n",
    "        Male/Female\n",
    "        \n",
    "    Multi class classier:\n",
    "        Ordinal classification:\n",
    "            High, medium, low\n",
    "            high, higher, heighest\n",
    "            good, better, best\n",
    "            nano, micro, macro\n",
    "            \n",
    "        unordinal classification:\n",
    "            Apple, banana, peach\n",
    "            male, female, transgender\n",
    "            red, blue, green, yellow\n",
    "            \n",
    "            \n",
    "OVR >> one versus rest\n",
    "Red or not red(blue, green, yellow)"
   ]
  },
  {
   "cell_type": "raw",
   "id": "4de9c7b7",
   "metadata": {},
   "source": [
    "Why not use linear Regression ?\n",
    "\n",
    "1. New Data points will changes the bfs.\n",
    "2. negative value and greater than 1 positive difficult to handle"
   ]
  },
  {
   "cell_type": "raw",
   "id": "679f004a",
   "metadata": {},
   "source": [
    "Why Cant we use MSE as cost function ???\n",
    "\n",
    "1. non - linear function.\n",
    "2. Global minia diffucult to find \n",
    "3. 0 to 1 high precision value to store is difficult "
   ]
  },
  {
   "cell_type": "markdown",
   "id": "8aaa70a9-c1eb-4940-8776-b6fa0dc77190",
   "metadata": {},
   "source": [
    "### Requirement "
   ]
  },
  {
   "cell_type": "code",
   "execution_count": null,
   "id": "e8d0fe47-1216-437e-ae30-0b7a64ff7bfa",
   "metadata": {},
   "outputs": [],
   "source": [
    "1. Data should be linearly or almost lineary separated "
   ]
  },
  {
   "cell_type": "code",
   "execution_count": null,
   "id": "2441c9de-a1b6-4378-bee2-fa3463acc849",
   "metadata": {},
   "outputs": [],
   "source": [
    "Target Variable is binary class"
   ]
  },
  {
   "cell_type": "code",
   "execution_count": null,
   "id": "1a02bcfa-229a-4def-a9b0-0d9b41eebe4b",
   "metadata": {},
   "outputs": [],
   "source": [
    "Why not use linear Regression ?\n",
    "\n",
    "1. New Data points will changes the bfs.\n",
    "2. negative value and greater than 1 positive difficult to handle"
   ]
  },
  {
   "cell_type": "code",
   "execution_count": 1,
   "id": "01eb3d47-e7af-4325-9c82-cdf7530c77e6",
   "metadata": {},
   "outputs": [],
   "source": [
    "import numpy as np"
   ]
  },
  {
   "cell_type": "code",
   "execution_count": 3,
   "id": "06c019d1-d8da-47b4-88bb-8b50cc0f73d3",
   "metadata": {},
   "outputs": [
    {
     "data": {
      "text/plain": [
       "0.05129329438755058"
      ]
     },
     "execution_count": 3,
     "metadata": {},
     "output_type": "execute_result"
    }
   ],
   "source": [
    "-np.log(0.95)"
   ]
  },
  {
   "cell_type": "code",
   "execution_count": 4,
   "id": "97aae749-3e52-4de2-9c41-91a07276c4a8",
   "metadata": {},
   "outputs": [
    {
     "data": {
      "text/plain": [
       "0.022276394711152253"
      ]
     },
     "execution_count": 4,
     "metadata": {},
     "output_type": "execute_result"
    }
   ],
   "source": [
    "-np.log10(0.95)"
   ]
  },
  {
   "cell_type": "code",
   "execution_count": 5,
   "id": "061eb9d4-db6a-40e4-bdbd-35564ce83cca",
   "metadata": {},
   "outputs": [
    {
     "data": {
      "text/plain": [
       "0.07400058144377693"
      ]
     },
     "execution_count": 5,
     "metadata": {},
     "output_type": "execute_result"
    }
   ],
   "source": [
    "-np.log2(0.95)"
   ]
  },
  {
   "cell_type": "code",
   "execution_count": 7,
   "id": "c40f8c2c-0099-40fa-aaba-8f9e908c30bf",
   "metadata": {},
   "outputs": [
    {
     "name": "stderr",
     "output_type": "stream",
     "text": [
      "C:\\Users\\Shridhar\\AppData\\Local\\Temp\\ipykernel_6100\\3511895068.py:1: RuntimeWarning: invalid value encountered in log\n",
      "  1 / (1 + np.log(-0.95))\n"
     ]
    },
    {
     "data": {
      "text/plain": [
       "nan"
      ]
     },
     "execution_count": 7,
     "metadata": {},
     "output_type": "execute_result"
    }
   ],
   "source": [
    "1 / (1 + np.log(-0.95))"
   ]
  },
  {
   "cell_type": "code",
   "execution_count": null,
   "id": "4cbac92d-dc1f-4a34-b1ec-aff796dba207",
   "metadata": {},
   "outputs": [],
   "source": [
    "1 / (1 - np.log(0.95))"
   ]
  },
  {
   "cell_type": "code",
   "execution_count": 8,
   "id": "8150f508-c533-4574-87ef-0102a96667d5",
   "metadata": {},
   "outputs": [
    {
     "data": {
      "text/plain": [
       "-0.05129329438755058"
      ]
     },
     "execution_count": 8,
     "metadata": {},
     "output_type": "execute_result"
    }
   ],
   "source": [
    "np.log(0.95)"
   ]
  },
  {
   "cell_type": "code",
   "execution_count": 9,
   "id": "7488215b-e920-44db-a16e-34326edf8e7a",
   "metadata": {},
   "outputs": [
    {
     "data": {
      "text/plain": [
       "0.05129329438755058"
      ]
     },
     "execution_count": 9,
     "metadata": {},
     "output_type": "execute_result"
    }
   ],
   "source": [
    "-np.log(0.95)"
   ]
  },
  {
   "cell_type": "code",
   "execution_count": 10,
   "id": "0a2bd83c-d530-4e2f-9619-8888905f34a4",
   "metadata": {},
   "outputs": [
    {
     "data": {
      "text/plain": [
       "0.9512093393333851"
      ]
     },
     "execution_count": 10,
     "metadata": {},
     "output_type": "execute_result"
    }
   ],
   "source": [
    "1 / (1 - np.log(0.95))"
   ]
  },
  {
   "cell_type": "code",
   "execution_count": 11,
   "id": "6729049b-aba2-4a09-a9b3-c3f317292bf0",
   "metadata": {},
   "outputs": [
    {
     "data": {
      "text/plain": [
       "0.45372610680005215"
      ]
     },
     "execution_count": 11,
     "metadata": {},
     "output_type": "execute_result"
    }
   ],
   "source": [
    "1 / (1 - np.log(0.3))"
   ]
  },
  {
   "cell_type": "markdown",
   "id": "631c9757-0a57-4089-9a40-7d76732f0787",
   "metadata": {
    "tags": []
   },
   "source": [
    "### Logloss Function >> Cost function"
   ]
  },
  {
   "cell_type": "code",
   "execution_count": null,
   "id": "b5cc8057-f51a-4fcf-983c-e60c84caa7b2",
   "metadata": {},
   "outputs": [],
   "source": [
    "LL = -sum [Ya * log(p(ya)) + (1-Ya) * log(1-p(ya))] / N\n",
    "\n",
    "\n",
    "class: Y_a = 1\n",
    "\n",
    "LL = -log(p(ya))\n",
    "\n",
    "\n",
    "class : y_a = 0\n",
    "\n",
    "LL = -log(1-p(ya))"
   ]
  },
  {
   "cell_type": "markdown",
   "id": "0df43527-6585-4297-8c6e-134e065a021d",
   "metadata": {
    "tags": []
   },
   "source": [
    "# Case1 : "
   ]
  },
  {
   "cell_type": "code",
   "execution_count": null,
   "id": "d384c7e7-0abc-40ea-93e7-eb87a7c236cd",
   "metadata": {},
   "outputs": [],
   "source": [
    "y_actual = 1 >> Correctly classify \n",
    "p = 0.95\n",
    "\n",
    "Log Loss  function [Cost function]  should less\n",
    "\n",
    "LL = \n"
   ]
  },
  {
   "cell_type": "code",
   "execution_count": 14,
   "id": "a51bf8a6-f8a5-4668-a0e0-83c35dd8d846",
   "metadata": {},
   "outputs": [
    {
     "data": {
      "text/plain": [
       "0.05129329438755058"
      ]
     },
     "execution_count": 14,
     "metadata": {},
     "output_type": "execute_result"
    }
   ],
   "source": [
    "LL = -np.log(0.95)\n",
    "LL"
   ]
  },
  {
   "cell_type": "markdown",
   "id": "56ded2e4-b03f-46b8-98b1-b3b59829bc06",
   "metadata": {},
   "source": [
    "# Case 2:"
   ]
  },
  {
   "cell_type": "code",
   "execution_count": null,
   "id": "d6a50eca-ad12-482a-ace0-bb720b24a82a",
   "metadata": {},
   "outputs": [],
   "source": [
    "y_actual = 1 >> missclassified classify  / wrong classified\n",
    "p = 0.30\n",
    "\n"
   ]
  },
  {
   "cell_type": "code",
   "execution_count": 15,
   "id": "43399070-dd4a-4fe1-b706-8510f424ee04",
   "metadata": {},
   "outputs": [
    {
     "data": {
      "text/plain": [
       "1.2039728043259361"
      ]
     },
     "execution_count": 15,
     "metadata": {},
     "output_type": "execute_result"
    }
   ],
   "source": [
    "LL = -np.log(0.3)\n",
    "LL"
   ]
  },
  {
   "cell_type": "markdown",
   "id": "b86d9262-984a-4a76-842b-7129402ce071",
   "metadata": {},
   "source": [
    "# Case 3"
   ]
  },
  {
   "cell_type": "code",
   "execution_count": null,
   "id": "86a3a15c-a4cf-46d1-be6d-54329c4ee514",
   "metadata": {},
   "outputs": [],
   "source": [
    "y_actual = 0 >> correctly classified\n",
    "p = 0.12 \n",
    "\n",
    "\n",
    "ll =    [less]"
   ]
  },
  {
   "cell_type": "code",
   "execution_count": 16,
   "id": "33453654-f0a5-4fee-bbce-3d29b730071b",
   "metadata": {},
   "outputs": [
    {
     "data": {
      "text/plain": [
       "0.12783337150988489"
      ]
     },
     "execution_count": 16,
     "metadata": {},
     "output_type": "execute_result"
    }
   ],
   "source": [
    "LL = -np.log(1-0.12)\n",
    "LL"
   ]
  },
  {
   "cell_type": "markdown",
   "id": "7770ce00-1292-45ef-9770-22fa3c4f9176",
   "metadata": {},
   "source": [
    "# Case 4"
   ]
  },
  {
   "cell_type": "code",
   "execution_count": null,
   "id": "833ad4c0-2494-43fd-9d65-e84ecccedcd1",
   "metadata": {},
   "outputs": [],
   "source": [
    "y_actaul = 0 >> incorrectly classifed \n",
    "p = 0.90\n",
    "\n",
    "\n",
    "ll == more"
   ]
  },
  {
   "cell_type": "code",
   "execution_count": 17,
   "id": "aacf7371-ee33-4e68-b3b8-6b74c67da330",
   "metadata": {},
   "outputs": [
    {
     "data": {
      "text/plain": [
       "2.302585092994046"
      ]
     },
     "execution_count": 17,
     "metadata": {},
     "output_type": "execute_result"
    }
   ],
   "source": [
    "LL = -np.log(1-0.90)\n",
    "LL"
   ]
  },
  {
   "cell_type": "code",
   "execution_count": null,
   "id": "8009a334-1add-4390-a266-d90940d6f32c",
   "metadata": {},
   "outputs": [],
   "source": [
    "case1  = 1 | 1 >> ## Correct \n",
    "case2  = 1 | 0 >> ## incorrect\n",
    "case3  = 0 | 0 >> ## correct\n",
    "case4  = 0 | 1 >> ## incorrect"
   ]
  },
  {
   "cell_type": "code",
   "execution_count": null,
   "id": "e8a9a022-0129-453f-ac3c-98c858c3fb05",
   "metadata": {},
   "outputs": [],
   "source": [
    "Why Cant we use MSE as cost function ???\n",
    "\n",
    "1. non - linear function.\n",
    "2. Global minia diffucult to find \n",
    "3. 0 to 1 high precision value to store is difficult "
   ]
  },
  {
   "cell_type": "markdown",
   "id": "1b8cd280-0fb2-4f1e-a3b1-56d3ef366fe8",
   "metadata": {},
   "source": [
    "# Assumptions for logistic Regression "
   ]
  },
  {
   "cell_type": "raw",
   "id": "968113a9",
   "metadata": {},
   "source": [
    "1. Linearity between indepedent variable and logit odd function (dependant variable)\n",
    "2. No Multicolinearity between indepedent variable. >> corr\n",
    "                                                    >> VIF\n",
    "                                                    >> heatmap"
   ]
  },
  {
   "cell_type": "markdown",
   "id": "0305681b",
   "metadata": {},
   "source": [
    "# Model Evaluation Parameters"
   ]
  },
  {
   "cell_type": "raw",
   "id": "b28e472b",
   "metadata": {},
   "source": [
    "Accuracy = (Tp+Tn) / (Tp+Fp+Tn+Fn)\n",
    "Precision = Tp / Tp+Fp\n",
    "Recall,Sensitivity,TPR(True Positive Rate) = Tp/Tp+Fn\n",
    "\n",
    "Specificity, FPR(False Positive Rate) = Tn/Tn+Fp\n",
    "\n",
    "F-Beta Score = (1+B) *(Pr*Re)/(B**2)*(Pr+Re)\n",
    "\n",
    "when,\n",
    "Fp or precision is imp ------ B<1\n",
    "Fn or recall is imp --------- B>1\n",
    "if both are imp -----------   B=1\n",
    "\n",
    "So,\n",
    "F-1 score = 2*Precision*Recall / Precision+Recall"
   ]
  },
  {
   "cell_type": "markdown",
   "id": "1acc18c2-21c3-4d76-8f5b-3a12a85b1f47",
   "metadata": {},
   "source": [
    "## Confusion Matrix "
   ]
  },
  {
   "cell_type": "code",
   "execution_count": null,
   "id": "efb06402-1d02-4c3c-a59f-ddf995956a1b",
   "metadata": {},
   "outputs": [],
   "source": [
    "TP | FP\n",
    "FN | TN"
   ]
  },
  {
   "cell_type": "code",
   "execution_count": null,
   "id": "77b84e16-9172-445c-a34e-b055df470a66",
   "metadata": {},
   "outputs": [],
   "source": [
    "acc socre = TP + TN / TP +TN +FP + FN ## Balanced Data "
   ]
  },
  {
   "cell_type": "code",
   "execution_count": null,
   "id": "e60c88cd-8024-42df-9903-81322c37192f",
   "metadata": {},
   "outputs": [],
   "source": [
    "Imbanaced data Accuracy metric"
   ]
  },
  {
   "cell_type": "markdown",
   "id": "f9381924-e274-476a-8b14-86156817a92a",
   "metadata": {},
   "source": [
    "## 1. TPR"
   ]
  },
  {
   "cell_type": "raw",
   "id": "42477f09",
   "metadata": {},
   "source": [
    "TPR >> True Positive Rate \n",
    "Sesitivity >> Recall \n",
    "\n",
    "TPR = TP / TP + FN\n",
    "\n",
    "TPR = Proportion of positive class got correctly classified by classifier"
   ]
  },
  {
   "cell_type": "markdown",
   "id": "8835503e-4b63-4836-875f-d62292b32cbd",
   "metadata": {},
   "source": [
    "## 2. FNR"
   ]
  },
  {
   "cell_type": "raw",
   "id": "ddc43315",
   "metadata": {},
   "source": [
    "FNR >> False Negative Rate \n",
    "\n",
    "FNR = FN / TP+ FN\n",
    "FNR == Proportion of positive class got incorrectly classified by classifier"
   ]
  },
  {
   "cell_type": "markdown",
   "id": "6f7577a1-68c1-4c25-9b0a-88b3e56e47bb",
   "metadata": {},
   "source": [
    "## 3.  TNR "
   ]
  },
  {
   "cell_type": "raw",
   "id": "e14fc526",
   "metadata": {},
   "source": [
    "TNR >> True Negative Rate\n",
    "specificity\n",
    "TNR = Tn / TN +FP\n",
    "\n",
    "TNR >> Proportion of negative class got correctly classified by classifier"
   ]
  },
  {
   "cell_type": "markdown",
   "id": "102a1985-8729-4d8b-9686-c995b2c6cea1",
   "metadata": {},
   "source": [
    "## 4. FPR "
   ]
  },
  {
   "cell_type": "raw",
   "id": "45686ea0",
   "metadata": {},
   "source": [
    "FPR >> False Positive Rate \n",
    "\n",
    "FPR = FP / TN + FP\n",
    "\n",
    "FPR >> Proportion of negative class got incorrectly classified by classifier"
   ]
  },
  {
   "cell_type": "markdown",
   "id": "47224315-4c65-40d8-8ec0-2ed4ef22ab82",
   "metadata": {},
   "source": [
    "### classification Report "
   ]
  },
  {
   "cell_type": "raw",
   "id": "a72bd41d",
   "metadata": {},
   "source": [
    "1. Precision\n",
    "2. recall \n",
    "3. F (beta) score"
   ]
  },
  {
   "attachments": {
    "image.png": {
     "image/png": "[encoded data removed]"
    }
   },
   "cell_type": "markdown",
   "id": "b53cdc71",
   "metadata": {},
   "source": [
    "![image.png](attachment:image.png)"
   ]
  },
  {
   "cell_type": "markdown",
   "id": "a0c4b0e0-14dc-4ecf-aba1-fb2570a7e613",
   "metadata": {},
   "source": [
    "## 1. Precision"
   ]
  },
  {
   "cell_type": "raw",
   "id": "31daee3f",
   "metadata": {},
   "source": [
    "Precision = TP / TP + FP\n",
    "\n",
    "Precision >> Out of total predicted positive values , how many results are actual positive "
   ]
  },
  {
   "cell_type": "markdown",
   "id": "08ea213a-3988-4848-8c13-e6b433aaaecf",
   "metadata": {},
   "source": [
    "## 2. Recall"
   ]
  },
  {
   "cell_type": "raw",
   "id": "a9f0560e",
   "metadata": {},
   "source": [
    "Recall = TPR [Proportion of positive class got correctly classified by classifier]\n",
    "\n",
    "recall = TP / TP + FN\n",
    "\n",
    "Recall >> Out of actaul positive values, how many results are actual positive\n"
   ]
  },
  {
   "cell_type": "markdown",
   "id": "971223b8-7597-4c92-a8f0-970c075f229c",
   "metadata": {},
   "source": [
    "## 3. f1- Score"
   ]
  },
  {
   "cell_type": "raw",
   "id": "38a09e6b",
   "metadata": {},
   "source": [
    "f beta -score  = (1+ b^2) (precision * Recall) / (b^2 * Precision + Recall)"
   ]
  },
  {
   "cell_type": "markdown",
   "id": "e086a0fc",
   "metadata": {},
   "source": [
    "# Overfitting & Underrfitting"
   ]
  },
  {
   "cell_type": "raw",
   "id": "5c7ae713",
   "metadata": {},
   "source": [
    "Overfitting:\n",
    "    Training accuracy >> High\n",
    "    Testing accuracy >> Low\n",
    "    \n",
    "    Low Bias & High Variance\n",
    "    \n",
    "    \n",
    "Underfitting:\n",
    "    Training Accuracy >> Low\n",
    "    Testing Accuracy >> Low\n",
    "    \n",
    "    High Bias & Low Variance\n",
    "    \n",
    "Best Fit:\n",
    "    Training accuracy >> Good\n",
    "    Testing accuracy >> Good\n",
    "    \n",
    "    Low Bias & Low Variance\n",
    "    \n",
    "    \n",
    "Bias : How close the points are to the line (Linear Regression) | Diff. b/w actaul points & predicted points (Logistic Regression)\n",
    "    \n",
    "    High Bias : Model is not capturing the pattern of the data.>> training accuracy = Low\n",
    "    Low Bias : Model is capturing the pattern of the data.>> training accuracy = High\n",
    "        \n",
    "Variance:\n",
    "    Spread of points all over the plot.\n",
    "    High Variance >> Spead of points is away from each other & from the mean point.\n",
    "    \n",
    "    Low Variance:\n",
    "        Training Accuracy : High>>90%\n",
    "        Testing Accuracy: High >>89%\n",
    "            \n",
    "            \n",
    "    High Variance:\n",
    "        Case1:\n",
    "            Training Accuracy : High>>75%\n",
    "            Testing Accuracy: High >>74% \n",
    "                \n",
    "        Case2:\n",
    "            Training Accuracy : High>>75%\n",
    "            Testing Accuracy: High >>76%"
   ]
  },
  {
   "cell_type": "raw",
   "id": "f9441878",
   "metadata": {},
   "source": [
    "How to avoid Overfitting:\n",
    "    Dropping the features(60>>50)\n",
    "    Treating outliers\n",
    "    Prunning ( cutting the branches of decision tree)\n",
    "    Cross Validation\n",
    "    Regularization\n",
    "    Ensembling Algorithms(Bagginf & Boosting)\n",
    "    \n",
    "How to avaoid underfitting:\n",
    "    Treating Outliers\n",
    "    add more features\n",
    "    add more data\n",
    "    use correlated features\n",
    "    Null Values treatment\n",
    "    Using Boosting algorithms"
   ]
  },
  {
   "cell_type": "raw",
   "id": "b46b8216",
   "metadata": {},
   "source": [
    "Assumption:\n",
    "    1. The targeed column should be a categorial value.\n",
    "    2. input features can be continuos or categorical.\n",
    "    3. Independent variables are linearly related to the log of odds.\n",
    "    4. No multicolinearity between inidependent variables.\n",
    "    5. Logistic regression typically required a large sample size.\n",
    "    \n",
    "  In Linear Regression independent and dependent variables are related linearly. But Logistic Regression needs that independent variables are linearly related to the log odds (log(p/(1-p))."
   ]
  },
  {
   "cell_type": "raw",
   "id": "f74edb68",
   "metadata": {},
   "source": [
    "Application:\n",
    "    1. Loan appoval or denial.\n",
    "    2. cancer prediction\n",
    "    3. whether forecast (sunny, rainy, overcast,cloudy)\n",
    "    4. stock classification (large cap, mid cap, small cap)\n",
    "    "
   ]
  },
  {
   "cell_type": "raw",
   "id": "0e34a07a",
   "metadata": {},
   "source": [
    "\t1.1.2  2. Advantages\n",
    "\tAdvantages of Logistics Regression\n",
    "    \n",
    "\t\t1. Logistic Regression Are very easy to understand\n",
    "\t\t2. It requires less training\n",
    "\t\t3. Good accuracy for many simple data sets and it performs well when the dataset is linearly separable.\n",
    "\t\t4. It makes no assumptions about distributions of classes in feature space.\n",
    "\t\t5. Logistic regression is less inclined to over-fitting but it can overfit in high dimensional datasets. One may consider Regularization (L1 and L2) techniques to avoid over-fitting in these scenarios.\n",
    "\t\t6. Logistic regression is easier to implement, interpret, and very efficient to train.\n",
    "        \n",
    "        \n",
    "        \n",
    "\t1.1.3  3. Disadvantages\n",
    "    \n",
    "\t\t1. Sometimes Lot of Feature Engineering Is required\n",
    "\t\t2. If the independent features are correlated it may affect performance\n",
    "\t\t3. It is often quite prone to noise and overfitting\n",
    "\t\t4. If the number of observations is lesser than the number of features, Logistic Regression should not be used, otherwise, it may lead to overfitting.\n",
    "\t\t5. Non-linear problems can’t be solved with logistic regression because it has a linear decision surface. Linearly separable data is rarely found in real-world scenarios.\n",
    "\t\t6. It is tough to obtain complex relationships using logistic regression. More powerful and compact algorithms such as Neural Networks can easily outperform this algorithm.\n",
    "        \n"
   ]
  }
 ],
 "metadata": {
  "kernelspec": {
   "display_name": "Python 3 (ipykernel)",
   "language": "python",
   "name": "python3"
  },
  "language_info": {
   "codemirror_mode": {
    "name": "ipython",
    "version": 3
   },
   "file_extension": ".py",
   "mimetype": "text/x-python",
   "name": "python",
   "nbconvert_exporter": "python",
   "pygments_lexer": "ipython3",
   "version": "3.9.7"
  },
  "toc": {
   "base_numbering": 1,
   "nav_menu": {},
   "number_sections": true,
   "sideBar": true,
   "skip_h1_title": false,
   "title_cell": "Table of Contents",
   "title_sidebar": "Contents",
   "toc_cell": false,
   "toc_position": {},
   "toc_section_display": true,
   "toc_window_display": false
  }
 },
 "nbformat": 4,
 "nbformat_minor": 5
}
