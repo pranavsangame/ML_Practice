{
 "cells": [
  {
   "cell_type": "markdown",
   "id": "a3f7b93c",
   "metadata": {},
   "source": [
    "# importing Libraries"
   ]
  },
  {
   "cell_type": "code",
   "execution_count": 56,
   "id": "5775f4cb",
   "metadata": {},
   "outputs": [],
   "source": [
    "import pandas as pd\n",
    "import numpy as np\n",
    "import seaborn as sns\n",
    "import matplotlib.pyplot as plt\n",
    "\n",
    "from sklearn.linear_model import LogisticRegression\n",
    "from sklearn.model_selection import train_test_split\n",
    "from sklearn.metrics import accuracy_score,precision_score,recall_score,roc_auc_score\n",
    "from sklearn.metrics import f1_score,roc_curve,confusion_matrix,classification_report,multilabel_confusion_matrix\n"
   ]
  },
  {
   "cell_type": "markdown",
   "id": "b499dc07",
   "metadata": {},
   "source": [
    "# Problem statement : to train a classification model on survivals of Titanic travelers"
   ]
  },
  {
   "cell_type": "markdown",
   "id": "1ccad4f5",
   "metadata": {},
   "source": [
    "## Data Gathering"
   ]
  },
  {
   "cell_type": "code",
   "execution_count": 2,
   "id": "b436d87b",
   "metadata": {},
   "outputs": [
    {
     "data": {
      "text/html": [
       "<div>\n",
       "<style scoped>\n",
       "    .dataframe tbody tr th:only-of-type {\n",
       "        vertical-align: middle;\n",
       "    }\n",
       "\n",
       "    .dataframe tbody tr th {\n",
       "        vertical-align: top;\n",
       "    }\n",
       "\n",
       "    .dataframe thead th {\n",
       "        text-align: right;\n",
       "    }\n",
       "</style>\n",
       "<table border=\"1\" class=\"dataframe\">\n",
       "  <thead>\n",
       "    <tr style=\"text-align: right;\">\n",
       "      <th></th>\n",
       "      <th>PassengerId</th>\n",
       "      <th>Survived</th>\n",
       "      <th>Pclass</th>\n",
       "      <th>Name</th>\n",
       "      <th>Gender</th>\n",
       "      <th>Age</th>\n",
       "      <th>SibSp</th>\n",
       "      <th>Parch</th>\n",
       "      <th>Ticket</th>\n",
       "      <th>Fare</th>\n",
       "      <th>Cabin</th>\n",
       "      <th>Embarked</th>\n",
       "    </tr>\n",
       "  </thead>\n",
       "  <tbody>\n",
       "    <tr>\n",
       "      <th>0</th>\n",
       "      <td>1</td>\n",
       "      <td>0</td>\n",
       "      <td>3</td>\n",
       "      <td>Braund, Mr. Owen Harris</td>\n",
       "      <td>male</td>\n",
       "      <td>22.0</td>\n",
       "      <td>1</td>\n",
       "      <td>0</td>\n",
       "      <td>A/5 21171</td>\n",
       "      <td>7.2500</td>\n",
       "      <td>NaN</td>\n",
       "      <td>S</td>\n",
       "    </tr>\n",
       "    <tr>\n",
       "      <th>1</th>\n",
       "      <td>2</td>\n",
       "      <td>1</td>\n",
       "      <td>1</td>\n",
       "      <td>Cumings, Mrs. John Bradley (Florence Briggs Th...</td>\n",
       "      <td>female</td>\n",
       "      <td>38.0</td>\n",
       "      <td>1</td>\n",
       "      <td>0</td>\n",
       "      <td>PC 17599</td>\n",
       "      <td>71.2833</td>\n",
       "      <td>C85</td>\n",
       "      <td>C</td>\n",
       "    </tr>\n",
       "    <tr>\n",
       "      <th>2</th>\n",
       "      <td>3</td>\n",
       "      <td>1</td>\n",
       "      <td>3</td>\n",
       "      <td>Heikkinen, Miss. Laina</td>\n",
       "      <td>female</td>\n",
       "      <td>26.0</td>\n",
       "      <td>0</td>\n",
       "      <td>0</td>\n",
       "      <td>STON/O2. 3101282</td>\n",
       "      <td>7.9250</td>\n",
       "      <td>NaN</td>\n",
       "      <td>S</td>\n",
       "    </tr>\n",
       "    <tr>\n",
       "      <th>3</th>\n",
       "      <td>4</td>\n",
       "      <td>1</td>\n",
       "      <td>1</td>\n",
       "      <td>Futrelle, Mrs. Jacques Heath (Lily May Peel)</td>\n",
       "      <td>female</td>\n",
       "      <td>35.0</td>\n",
       "      <td>1</td>\n",
       "      <td>0</td>\n",
       "      <td>113803</td>\n",
       "      <td>53.1000</td>\n",
       "      <td>C123</td>\n",
       "      <td>S</td>\n",
       "    </tr>\n",
       "    <tr>\n",
       "      <th>4</th>\n",
       "      <td>5</td>\n",
       "      <td>0</td>\n",
       "      <td>3</td>\n",
       "      <td>Allen, Mr. William Henry</td>\n",
       "      <td>male</td>\n",
       "      <td>35.0</td>\n",
       "      <td>0</td>\n",
       "      <td>0</td>\n",
       "      <td>373450</td>\n",
       "      <td>8.0500</td>\n",
       "      <td>NaN</td>\n",
       "      <td>S</td>\n",
       "    </tr>\n",
       "    <tr>\n",
       "      <th>...</th>\n",
       "      <td>...</td>\n",
       "      <td>...</td>\n",
       "      <td>...</td>\n",
       "      <td>...</td>\n",
       "      <td>...</td>\n",
       "      <td>...</td>\n",
       "      <td>...</td>\n",
       "      <td>...</td>\n",
       "      <td>...</td>\n",
       "      <td>...</td>\n",
       "      <td>...</td>\n",
       "      <td>...</td>\n",
       "    </tr>\n",
       "    <tr>\n",
       "      <th>886</th>\n",
       "      <td>887</td>\n",
       "      <td>0</td>\n",
       "      <td>2</td>\n",
       "      <td>Montvila, Rev. Juozas</td>\n",
       "      <td>male</td>\n",
       "      <td>27.0</td>\n",
       "      <td>0</td>\n",
       "      <td>0</td>\n",
       "      <td>211536</td>\n",
       "      <td>13.0000</td>\n",
       "      <td>NaN</td>\n",
       "      <td>S</td>\n",
       "    </tr>\n",
       "    <tr>\n",
       "      <th>887</th>\n",
       "      <td>888</td>\n",
       "      <td>1</td>\n",
       "      <td>1</td>\n",
       "      <td>Graham, Miss. Margaret Edith</td>\n",
       "      <td>female</td>\n",
       "      <td>19.0</td>\n",
       "      <td>0</td>\n",
       "      <td>0</td>\n",
       "      <td>112053</td>\n",
       "      <td>30.0000</td>\n",
       "      <td>B42</td>\n",
       "      <td>S</td>\n",
       "    </tr>\n",
       "    <tr>\n",
       "      <th>888</th>\n",
       "      <td>889</td>\n",
       "      <td>0</td>\n",
       "      <td>3</td>\n",
       "      <td>Johnston, Miss. Catherine Helen \"Carrie\"</td>\n",
       "      <td>female</td>\n",
       "      <td>NaN</td>\n",
       "      <td>1</td>\n",
       "      <td>2</td>\n",
       "      <td>W./C. 6607</td>\n",
       "      <td>23.4500</td>\n",
       "      <td>NaN</td>\n",
       "      <td>S</td>\n",
       "    </tr>\n",
       "    <tr>\n",
       "      <th>889</th>\n",
       "      <td>890</td>\n",
       "      <td>1</td>\n",
       "      <td>1</td>\n",
       "      <td>Behr, Mr. Karl Howell</td>\n",
       "      <td>male</td>\n",
       "      <td>26.0</td>\n",
       "      <td>0</td>\n",
       "      <td>0</td>\n",
       "      <td>111369</td>\n",
       "      <td>30.0000</td>\n",
       "      <td>C148</td>\n",
       "      <td>C</td>\n",
       "    </tr>\n",
       "    <tr>\n",
       "      <th>890</th>\n",
       "      <td>891</td>\n",
       "      <td>0</td>\n",
       "      <td>3</td>\n",
       "      <td>Dooley, Mr. Patrick</td>\n",
       "      <td>male</td>\n",
       "      <td>32.0</td>\n",
       "      <td>0</td>\n",
       "      <td>0</td>\n",
       "      <td>370376</td>\n",
       "      <td>7.7500</td>\n",
       "      <td>NaN</td>\n",
       "      <td>Q</td>\n",
       "    </tr>\n",
       "  </tbody>\n",
       "</table>\n",
       "<p>891 rows × 12 columns</p>\n",
       "</div>"
      ],
      "text/plain": [
       "     PassengerId  Survived  Pclass  \\\n",
       "0              1         0       3   \n",
       "1              2         1       1   \n",
       "2              3         1       3   \n",
       "3              4         1       1   \n",
       "4              5         0       3   \n",
       "..           ...       ...     ...   \n",
       "886          887         0       2   \n",
       "887          888         1       1   \n",
       "888          889         0       3   \n",
       "889          890         1       1   \n",
       "890          891         0       3   \n",
       "\n",
       "                                                  Name  Gender   Age  SibSp  \\\n",
       "0                              Braund, Mr. Owen Harris    male  22.0      1   \n",
       "1    Cumings, Mrs. John Bradley (Florence Briggs Th...  female  38.0      1   \n",
       "2                               Heikkinen, Miss. Laina  female  26.0      0   \n",
       "3         Futrelle, Mrs. Jacques Heath (Lily May Peel)  female  35.0      1   \n",
       "4                             Allen, Mr. William Henry    male  35.0      0   \n",
       "..                                                 ...     ...   ...    ...   \n",
       "886                              Montvila, Rev. Juozas    male  27.0      0   \n",
       "887                       Graham, Miss. Margaret Edith  female  19.0      0   \n",
       "888           Johnston, Miss. Catherine Helen \"Carrie\"  female   NaN      1   \n",
       "889                              Behr, Mr. Karl Howell    male  26.0      0   \n",
       "890                                Dooley, Mr. Patrick    male  32.0      0   \n",
       "\n",
       "     Parch            Ticket     Fare Cabin Embarked  \n",
       "0        0         A/5 21171   7.2500   NaN        S  \n",
       "1        0          PC 17599  71.2833   C85        C  \n",
       "2        0  STON/O2. 3101282   7.9250   NaN        S  \n",
       "3        0            113803  53.1000  C123        S  \n",
       "4        0            373450   8.0500   NaN        S  \n",
       "..     ...               ...      ...   ...      ...  \n",
       "886      0            211536  13.0000   NaN        S  \n",
       "887      0            112053  30.0000   B42        S  \n",
       "888      2        W./C. 6607  23.4500   NaN        S  \n",
       "889      0            111369  30.0000  C148        C  \n",
       "890      0            370376   7.7500   NaN        Q  \n",
       "\n",
       "[891 rows x 12 columns]"
      ]
     },
     "execution_count": 2,
     "metadata": {},
     "output_type": "execute_result"
    }
   ],
   "source": [
    "df = pd.read_csv('titanic.csv')\n",
    "df"
   ]
  },
  {
   "cell_type": "code",
   "execution_count": 3,
   "id": "ac6e1535",
   "metadata": {},
   "outputs": [
    {
     "name": "stdout",
     "output_type": "stream",
     "text": [
      "<class 'pandas.core.frame.DataFrame'>\n",
      "RangeIndex: 891 entries, 0 to 890\n",
      "Data columns (total 12 columns):\n",
      " #   Column       Non-Null Count  Dtype  \n",
      "---  ------       --------------  -----  \n",
      " 0   PassengerId  891 non-null    int64  \n",
      " 1   Survived     891 non-null    int64  \n",
      " 2   Pclass       891 non-null    int64  \n",
      " 3   Name         891 non-null    object \n",
      " 4   Gender       891 non-null    object \n",
      " 5   Age          714 non-null    float64\n",
      " 6   SibSp        891 non-null    int64  \n",
      " 7   Parch        891 non-null    int64  \n",
      " 8   Ticket       891 non-null    object \n",
      " 9   Fare         891 non-null    float64\n",
      " 10  Cabin        204 non-null    object \n",
      " 11  Embarked     889 non-null    object \n",
      "dtypes: float64(2), int64(5), object(5)\n",
      "memory usage: 83.7+ KB\n"
     ]
    }
   ],
   "source": [
    "df.info()"
   ]
  },
  {
   "cell_type": "code",
   "execution_count": 4,
   "id": "c87e65b2",
   "metadata": {},
   "outputs": [
    {
     "data": {
      "text/html": [
       "<div>\n",
       "<style scoped>\n",
       "    .dataframe tbody tr th:only-of-type {\n",
       "        vertical-align: middle;\n",
       "    }\n",
       "\n",
       "    .dataframe tbody tr th {\n",
       "        vertical-align: top;\n",
       "    }\n",
       "\n",
       "    .dataframe thead th {\n",
       "        text-align: right;\n",
       "    }\n",
       "</style>\n",
       "<table border=\"1\" class=\"dataframe\">\n",
       "  <thead>\n",
       "    <tr style=\"text-align: right;\">\n",
       "      <th></th>\n",
       "      <th>PassengerId</th>\n",
       "      <th>Survived</th>\n",
       "      <th>Pclass</th>\n",
       "      <th>Age</th>\n",
       "      <th>SibSp</th>\n",
       "      <th>Parch</th>\n",
       "      <th>Fare</th>\n",
       "    </tr>\n",
       "  </thead>\n",
       "  <tbody>\n",
       "    <tr>\n",
       "      <th>count</th>\n",
       "      <td>891.000000</td>\n",
       "      <td>891.000000</td>\n",
       "      <td>891.000000</td>\n",
       "      <td>714.000000</td>\n",
       "      <td>891.000000</td>\n",
       "      <td>891.000000</td>\n",
       "      <td>891.000000</td>\n",
       "    </tr>\n",
       "    <tr>\n",
       "      <th>mean</th>\n",
       "      <td>446.000000</td>\n",
       "      <td>0.392817</td>\n",
       "      <td>2.308642</td>\n",
       "      <td>29.699118</td>\n",
       "      <td>0.523008</td>\n",
       "      <td>0.381594</td>\n",
       "      <td>32.204208</td>\n",
       "    </tr>\n",
       "    <tr>\n",
       "      <th>std</th>\n",
       "      <td>257.353842</td>\n",
       "      <td>0.504490</td>\n",
       "      <td>0.836071</td>\n",
       "      <td>14.526497</td>\n",
       "      <td>1.102743</td>\n",
       "      <td>0.806057</td>\n",
       "      <td>49.693429</td>\n",
       "    </tr>\n",
       "    <tr>\n",
       "      <th>min</th>\n",
       "      <td>1.000000</td>\n",
       "      <td>0.000000</td>\n",
       "      <td>1.000000</td>\n",
       "      <td>0.420000</td>\n",
       "      <td>0.000000</td>\n",
       "      <td>0.000000</td>\n",
       "      <td>0.000000</td>\n",
       "    </tr>\n",
       "    <tr>\n",
       "      <th>25%</th>\n",
       "      <td>223.500000</td>\n",
       "      <td>0.000000</td>\n",
       "      <td>2.000000</td>\n",
       "      <td>20.125000</td>\n",
       "      <td>0.000000</td>\n",
       "      <td>0.000000</td>\n",
       "      <td>7.910400</td>\n",
       "    </tr>\n",
       "    <tr>\n",
       "      <th>50%</th>\n",
       "      <td>446.000000</td>\n",
       "      <td>0.000000</td>\n",
       "      <td>3.000000</td>\n",
       "      <td>28.000000</td>\n",
       "      <td>0.000000</td>\n",
       "      <td>0.000000</td>\n",
       "      <td>14.454200</td>\n",
       "    </tr>\n",
       "    <tr>\n",
       "      <th>75%</th>\n",
       "      <td>668.500000</td>\n",
       "      <td>1.000000</td>\n",
       "      <td>3.000000</td>\n",
       "      <td>38.000000</td>\n",
       "      <td>1.000000</td>\n",
       "      <td>0.000000</td>\n",
       "      <td>31.000000</td>\n",
       "    </tr>\n",
       "    <tr>\n",
       "      <th>max</th>\n",
       "      <td>891.000000</td>\n",
       "      <td>4.000000</td>\n",
       "      <td>3.000000</td>\n",
       "      <td>80.000000</td>\n",
       "      <td>8.000000</td>\n",
       "      <td>6.000000</td>\n",
       "      <td>512.329200</td>\n",
       "    </tr>\n",
       "  </tbody>\n",
       "</table>\n",
       "</div>"
      ],
      "text/plain": [
       "       PassengerId    Survived      Pclass         Age       SibSp  \\\n",
       "count   891.000000  891.000000  891.000000  714.000000  891.000000   \n",
       "mean    446.000000    0.392817    2.308642   29.699118    0.523008   \n",
       "std     257.353842    0.504490    0.836071   14.526497    1.102743   \n",
       "min       1.000000    0.000000    1.000000    0.420000    0.000000   \n",
       "25%     223.500000    0.000000    2.000000   20.125000    0.000000   \n",
       "50%     446.000000    0.000000    3.000000   28.000000    0.000000   \n",
       "75%     668.500000    1.000000    3.000000   38.000000    1.000000   \n",
       "max     891.000000    4.000000    3.000000   80.000000    8.000000   \n",
       "\n",
       "            Parch        Fare  \n",
       "count  891.000000  891.000000  \n",
       "mean     0.381594   32.204208  \n",
       "std      0.806057   49.693429  \n",
       "min      0.000000    0.000000  \n",
       "25%      0.000000    7.910400  \n",
       "50%      0.000000   14.454200  \n",
       "75%      0.000000   31.000000  \n",
       "max      6.000000  512.329200  "
      ]
     },
     "execution_count": 4,
     "metadata": {},
     "output_type": "execute_result"
    }
   ],
   "source": [
    "df.describe()"
   ]
  },
  {
   "cell_type": "code",
   "execution_count": 5,
   "id": "5f6d20c4",
   "metadata": {},
   "outputs": [
    {
     "data": {
      "text/plain": [
       "891"
      ]
     },
     "execution_count": 5,
     "metadata": {},
     "output_type": "execute_result"
    }
   ],
   "source": [
    "df.PassengerId.nunique()"
   ]
  },
  {
   "cell_type": "code",
   "execution_count": 6,
   "id": "7a7f8f0f",
   "metadata": {},
   "outputs": [
    {
     "data": {
      "text/plain": [
       "array([0, 1, 2, 4], dtype=int64)"
      ]
     },
     "execution_count": 6,
     "metadata": {},
     "output_type": "execute_result"
    }
   ],
   "source": [
    "df.Survived.unique()"
   ]
  },
  {
   "cell_type": "code",
   "execution_count": 7,
   "id": "ebf9ac88",
   "metadata": {},
   "outputs": [
    {
     "data": {
      "text/html": [
       "<div>\n",
       "<style scoped>\n",
       "    .dataframe tbody tr th:only-of-type {\n",
       "        vertical-align: middle;\n",
       "    }\n",
       "\n",
       "    .dataframe tbody tr th {\n",
       "        vertical-align: top;\n",
       "    }\n",
       "\n",
       "    .dataframe thead th {\n",
       "        text-align: right;\n",
       "    }\n",
       "</style>\n",
       "<table border=\"1\" class=\"dataframe\">\n",
       "  <thead>\n",
       "    <tr style=\"text-align: right;\">\n",
       "      <th></th>\n",
       "      <th>PassengerId</th>\n",
       "      <th>Survived</th>\n",
       "      <th>Pclass</th>\n",
       "      <th>Name</th>\n",
       "      <th>Gender</th>\n",
       "      <th>Age</th>\n",
       "      <th>SibSp</th>\n",
       "      <th>Parch</th>\n",
       "      <th>Ticket</th>\n",
       "      <th>Fare</th>\n",
       "      <th>Cabin</th>\n",
       "      <th>Embarked</th>\n",
       "    </tr>\n",
       "  </thead>\n",
       "  <tbody>\n",
       "    <tr>\n",
       "      <th>24</th>\n",
       "      <td>25</td>\n",
       "      <td>2</td>\n",
       "      <td>3</td>\n",
       "      <td>Palsson, Miss. Torborg Danira</td>\n",
       "      <td>female</td>\n",
       "      <td>8.0</td>\n",
       "      <td>3</td>\n",
       "      <td>1</td>\n",
       "      <td>349909</td>\n",
       "      <td>21.075</td>\n",
       "      <td>NaN</td>\n",
       "      <td>S</td>\n",
       "    </tr>\n",
       "    <tr>\n",
       "      <th>26</th>\n",
       "      <td>27</td>\n",
       "      <td>4</td>\n",
       "      <td>3</td>\n",
       "      <td>Emir, Mr. Farred Chehab</td>\n",
       "      <td>male</td>\n",
       "      <td>NaN</td>\n",
       "      <td>0</td>\n",
       "      <td>0</td>\n",
       "      <td>2631</td>\n",
       "      <td>7.225</td>\n",
       "      <td>NaN</td>\n",
       "      <td>C</td>\n",
       "    </tr>\n",
       "  </tbody>\n",
       "</table>\n",
       "</div>"
      ],
      "text/plain": [
       "    PassengerId  Survived  Pclass                           Name  Gender  Age  \\\n",
       "24           25         2       3  Palsson, Miss. Torborg Danira  female  8.0   \n",
       "26           27         4       3        Emir, Mr. Farred Chehab    male  NaN   \n",
       "\n",
       "    SibSp  Parch  Ticket    Fare Cabin Embarked  \n",
       "24      3      1  349909  21.075   NaN        S  \n",
       "26      0      0    2631   7.225   NaN        C  "
      ]
     },
     "execution_count": 7,
     "metadata": {},
     "output_type": "execute_result"
    }
   ],
   "source": [
    "df.loc[(df['Survived']==2)|(df['Survived']==4)]"
   ]
  },
  {
   "cell_type": "code",
   "execution_count": 8,
   "id": "c8b51915",
   "metadata": {},
   "outputs": [
    {
     "data": {
      "text/plain": [
       "<AxesSubplot:xlabel='Survived', ylabel='count'>"
      ]
     },
     "execution_count": 8,
     "metadata": {},
     "output_type": "execute_result"
    },
    {
     "data": {
      "image/png": "[encoded data removed]",
      "text/plain": [
       "<Figure size 432x288 with 1 Axes>"
      ]
     },
     "metadata": {
      "needs_background": "light"
     },
     "output_type": "display_data"
    }
   ],
   "source": [
    "sns.countplot(x='Survived',data=df)"
   ]
  },
  {
   "cell_type": "code",
   "execution_count": 9,
   "id": "4ba195e8",
   "metadata": {},
   "outputs": [
    {
     "data": {
      "text/plain": [
       "<AxesSubplot:xlabel='Survived', ylabel='count'>"
      ]
     },
     "execution_count": 9,
     "metadata": {},
     "output_type": "execute_result"
    },
    {
     "data": {
      "image/png": "[encoded data removed]",
      "text/plain": [
       "<Figure size 432x288 with 1 Axes>"
      ]
     },
     "metadata": {
      "needs_background": "light"
     },
     "output_type": "display_data"
    }
   ],
   "source": [
    "sns.countplot(x='Survived',hue='Gender',data=df)"
   ]
  },
  {
   "cell_type": "code",
   "execution_count": 10,
   "id": "70d94528",
   "metadata": {},
   "outputs": [
    {
     "data": {
      "text/plain": [
       "<AxesSubplot:xlabel='Survived', ylabel='count'>"
      ]
     },
     "metadata": {},
     "output_type": "display_data"
    },
    {
     "data": {
      "text/plain": [
       "<AxesSubplot:xlabel='Survived', ylabel='count'>"
      ]
     },
     "metadata": {},
     "output_type": "display_data"
    },
    {
     "data": {
      "image/png": "[encoded data removed]",
      "text/plain": [
       "<Figure size 432x288 with 1 Axes>"
      ]
     },
     "metadata": {
      "needs_background": "light"
     },
     "output_type": "display_data"
    }
   ],
   "source": [
    "display(sns.countplot(x='Survived',data=df))\n",
    "display(sns.countplot(x='Survived',hue='Gender',data=df,color='Blue'))"
   ]
  },
  {
   "cell_type": "code",
   "execution_count": 11,
   "id": "dedae9fc",
   "metadata": {},
   "outputs": [],
   "source": [
    "df['Survived'].replace({2:1,4:0},inplace=True)"
   ]
  },
  {
   "cell_type": "code",
   "execution_count": 12,
   "id": "2361c0ad",
   "metadata": {},
   "outputs": [
    {
     "data": {
      "text/plain": [
       "array([0, 1], dtype=int64)"
      ]
     },
     "execution_count": 12,
     "metadata": {},
     "output_type": "execute_result"
    }
   ],
   "source": [
    "df.Survived.unique()"
   ]
  },
  {
   "cell_type": "code",
   "execution_count": 13,
   "id": "b6d90034",
   "metadata": {},
   "outputs": [
    {
     "data": {
      "text/plain": [
       "<AxesSubplot:xlabel='Pclass', ylabel='count'>"
      ]
     },
     "execution_count": 13,
     "metadata": {},
     "output_type": "execute_result"
    },
    {
     "data": {
      "image/png": "[encoded data removed]",
      "text/plain": [
       "<Figure size 432x288 with 1 Axes>"
      ]
     },
     "metadata": {
      "needs_background": "light"
     },
     "output_type": "display_data"
    }
   ],
   "source": [
    "sns.countplot(x='Pclass',data=df)"
   ]
  },
  {
   "cell_type": "code",
   "execution_count": 14,
   "id": "baaeec48",
   "metadata": {},
   "outputs": [
    {
     "data": {
      "text/plain": [
       "<AxesSubplot:xlabel='Pclass', ylabel='count'>"
      ]
     },
     "execution_count": 14,
     "metadata": {},
     "output_type": "execute_result"
    },
    {
     "data": {
      "image/png": "[encoded data removed]",
      "text/plain": [
       "<Figure size 432x288 with 1 Axes>"
      ]
     },
     "metadata": {
      "needs_background": "light"
     },
     "output_type": "display_data"
    }
   ],
   "source": [
    "sns.countplot(x='Pclass',hue='Survived',data=df)"
   ]
  },
  {
   "cell_type": "code",
   "execution_count": 15,
   "id": "8e11c372",
   "metadata": {},
   "outputs": [
    {
     "data": {
      "text/plain": [
       "<AxesSubplot:xlabel='Pclass', ylabel='count'>"
      ]
     },
     "execution_count": 15,
     "metadata": {},
     "output_type": "execute_result"
    },
    {
     "data": {
      "image/png": "[encoded data removed]",
      "text/plain": [
       "<Figure size 432x288 with 1 Axes>"
      ]
     },
     "metadata": {
      "needs_background": "light"
     },
     "output_type": "display_data"
    }
   ],
   "source": [
    "sns.countplot(x='Pclass',hue='Survived',data=df,palette='Set2')"
   ]
  },
  {
   "cell_type": "code",
   "execution_count": 16,
   "id": "a7129a2a",
   "metadata": {},
   "outputs": [
    {
     "data": {
      "text/plain": [
       "<AxesSubplot:xlabel='Fare'>"
      ]
     },
     "execution_count": 16,
     "metadata": {},
     "output_type": "execute_result"
    },
    {
     "data": {
      "image/png": "[encoded data removed]",
      "text/plain": [
       "<Figure size 432x288 with 1 Axes>"
      ]
     },
     "metadata": {
      "needs_background": "light"
     },
     "output_type": "display_data"
    }
   ],
   "source": [
    "import warnings\n",
    "warnings.filterwarnings('ignore')\n",
    "sns.boxplot('Fare',data=df)"
   ]
  },
  {
   "cell_type": "code",
   "execution_count": 17,
   "id": "eb9a8f59",
   "metadata": {},
   "outputs": [
    {
     "data": {
      "text/html": [
       "<div>\n",
       "<style scoped>\n",
       "    .dataframe tbody tr th:only-of-type {\n",
       "        vertical-align: middle;\n",
       "    }\n",
       "\n",
       "    .dataframe tbody tr th {\n",
       "        vertical-align: top;\n",
       "    }\n",
       "\n",
       "    .dataframe thead th {\n",
       "        text-align: right;\n",
       "    }\n",
       "</style>\n",
       "<table border=\"1\" class=\"dataframe\">\n",
       "  <thead>\n",
       "    <tr style=\"text-align: right;\">\n",
       "      <th></th>\n",
       "      <th>PassengerId</th>\n",
       "      <th>Survived</th>\n",
       "      <th>Pclass</th>\n",
       "      <th>Name</th>\n",
       "      <th>Gender</th>\n",
       "      <th>Age</th>\n",
       "      <th>SibSp</th>\n",
       "      <th>Parch</th>\n",
       "      <th>Ticket</th>\n",
       "      <th>Fare</th>\n",
       "      <th>Cabin</th>\n",
       "      <th>Embarked</th>\n",
       "    </tr>\n",
       "  </thead>\n",
       "  <tbody>\n",
       "    <tr>\n",
       "      <th>0</th>\n",
       "      <td>1</td>\n",
       "      <td>0</td>\n",
       "      <td>3</td>\n",
       "      <td>Braund, Mr. Owen Harris</td>\n",
       "      <td>male</td>\n",
       "      <td>22.0</td>\n",
       "      <td>1</td>\n",
       "      <td>0</td>\n",
       "      <td>A/5 21171</td>\n",
       "      <td>7.2500</td>\n",
       "      <td>NaN</td>\n",
       "      <td>S</td>\n",
       "    </tr>\n",
       "    <tr>\n",
       "      <th>1</th>\n",
       "      <td>2</td>\n",
       "      <td>1</td>\n",
       "      <td>1</td>\n",
       "      <td>Cumings, Mrs. John Bradley (Florence Briggs Th...</td>\n",
       "      <td>female</td>\n",
       "      <td>38.0</td>\n",
       "      <td>1</td>\n",
       "      <td>0</td>\n",
       "      <td>PC 17599</td>\n",
       "      <td>71.2833</td>\n",
       "      <td>C85</td>\n",
       "      <td>C</td>\n",
       "    </tr>\n",
       "    <tr>\n",
       "      <th>2</th>\n",
       "      <td>3</td>\n",
       "      <td>1</td>\n",
       "      <td>3</td>\n",
       "      <td>Heikkinen, Miss. Laina</td>\n",
       "      <td>female</td>\n",
       "      <td>26.0</td>\n",
       "      <td>0</td>\n",
       "      <td>0</td>\n",
       "      <td>STON/O2. 3101282</td>\n",
       "      <td>7.9250</td>\n",
       "      <td>NaN</td>\n",
       "      <td>S</td>\n",
       "    </tr>\n",
       "    <tr>\n",
       "      <th>3</th>\n",
       "      <td>4</td>\n",
       "      <td>1</td>\n",
       "      <td>1</td>\n",
       "      <td>Futrelle, Mrs. Jacques Heath (Lily May Peel)</td>\n",
       "      <td>female</td>\n",
       "      <td>35.0</td>\n",
       "      <td>1</td>\n",
       "      <td>0</td>\n",
       "      <td>113803</td>\n",
       "      <td>53.1000</td>\n",
       "      <td>C123</td>\n",
       "      <td>S</td>\n",
       "    </tr>\n",
       "    <tr>\n",
       "      <th>4</th>\n",
       "      <td>5</td>\n",
       "      <td>0</td>\n",
       "      <td>3</td>\n",
       "      <td>Allen, Mr. William Henry</td>\n",
       "      <td>male</td>\n",
       "      <td>35.0</td>\n",
       "      <td>0</td>\n",
       "      <td>0</td>\n",
       "      <td>373450</td>\n",
       "      <td>8.0500</td>\n",
       "      <td>NaN</td>\n",
       "      <td>S</td>\n",
       "    </tr>\n",
       "    <tr>\n",
       "      <th>...</th>\n",
       "      <td>...</td>\n",
       "      <td>...</td>\n",
       "      <td>...</td>\n",
       "      <td>...</td>\n",
       "      <td>...</td>\n",
       "      <td>...</td>\n",
       "      <td>...</td>\n",
       "      <td>...</td>\n",
       "      <td>...</td>\n",
       "      <td>...</td>\n",
       "      <td>...</td>\n",
       "      <td>...</td>\n",
       "    </tr>\n",
       "    <tr>\n",
       "      <th>886</th>\n",
       "      <td>887</td>\n",
       "      <td>0</td>\n",
       "      <td>2</td>\n",
       "      <td>Montvila, Rev. Juozas</td>\n",
       "      <td>male</td>\n",
       "      <td>27.0</td>\n",
       "      <td>0</td>\n",
       "      <td>0</td>\n",
       "      <td>211536</td>\n",
       "      <td>13.0000</td>\n",
       "      <td>NaN</td>\n",
       "      <td>S</td>\n",
       "    </tr>\n",
       "    <tr>\n",
       "      <th>887</th>\n",
       "      <td>888</td>\n",
       "      <td>1</td>\n",
       "      <td>1</td>\n",
       "      <td>Graham, Miss. Margaret Edith</td>\n",
       "      <td>female</td>\n",
       "      <td>19.0</td>\n",
       "      <td>0</td>\n",
       "      <td>0</td>\n",
       "      <td>112053</td>\n",
       "      <td>30.0000</td>\n",
       "      <td>B42</td>\n",
       "      <td>S</td>\n",
       "    </tr>\n",
       "    <tr>\n",
       "      <th>888</th>\n",
       "      <td>889</td>\n",
       "      <td>0</td>\n",
       "      <td>3</td>\n",
       "      <td>Johnston, Miss. Catherine Helen \"Carrie\"</td>\n",
       "      <td>female</td>\n",
       "      <td>NaN</td>\n",
       "      <td>1</td>\n",
       "      <td>2</td>\n",
       "      <td>W./C. 6607</td>\n",
       "      <td>23.4500</td>\n",
       "      <td>NaN</td>\n",
       "      <td>S</td>\n",
       "    </tr>\n",
       "    <tr>\n",
       "      <th>889</th>\n",
       "      <td>890</td>\n",
       "      <td>1</td>\n",
       "      <td>1</td>\n",
       "      <td>Behr, Mr. Karl Howell</td>\n",
       "      <td>male</td>\n",
       "      <td>26.0</td>\n",
       "      <td>0</td>\n",
       "      <td>0</td>\n",
       "      <td>111369</td>\n",
       "      <td>30.0000</td>\n",
       "      <td>C148</td>\n",
       "      <td>C</td>\n",
       "    </tr>\n",
       "    <tr>\n",
       "      <th>890</th>\n",
       "      <td>891</td>\n",
       "      <td>0</td>\n",
       "      <td>3</td>\n",
       "      <td>Dooley, Mr. Patrick</td>\n",
       "      <td>male</td>\n",
       "      <td>32.0</td>\n",
       "      <td>0</td>\n",
       "      <td>0</td>\n",
       "      <td>370376</td>\n",
       "      <td>7.7500</td>\n",
       "      <td>NaN</td>\n",
       "      <td>Q</td>\n",
       "    </tr>\n",
       "  </tbody>\n",
       "</table>\n",
       "<p>891 rows × 12 columns</p>\n",
       "</div>"
      ],
      "text/plain": [
       "     PassengerId  Survived  Pclass  \\\n",
       "0              1         0       3   \n",
       "1              2         1       1   \n",
       "2              3         1       3   \n",
       "3              4         1       1   \n",
       "4              5         0       3   \n",
       "..           ...       ...     ...   \n",
       "886          887         0       2   \n",
       "887          888         1       1   \n",
       "888          889         0       3   \n",
       "889          890         1       1   \n",
       "890          891         0       3   \n",
       "\n",
       "                                                  Name  Gender   Age  SibSp  \\\n",
       "0                              Braund, Mr. Owen Harris    male  22.0      1   \n",
       "1    Cumings, Mrs. John Bradley (Florence Briggs Th...  female  38.0      1   \n",
       "2                               Heikkinen, Miss. Laina  female  26.0      0   \n",
       "3         Futrelle, Mrs. Jacques Heath (Lily May Peel)  female  35.0      1   \n",
       "4                             Allen, Mr. William Henry    male  35.0      0   \n",
       "..                                                 ...     ...   ...    ...   \n",
       "886                              Montvila, Rev. Juozas    male  27.0      0   \n",
       "887                       Graham, Miss. Margaret Edith  female  19.0      0   \n",
       "888           Johnston, Miss. Catherine Helen \"Carrie\"  female   NaN      1   \n",
       "889                              Behr, Mr. Karl Howell    male  26.0      0   \n",
       "890                                Dooley, Mr. Patrick    male  32.0      0   \n",
       "\n",
       "     Parch            Ticket     Fare Cabin Embarked  \n",
       "0        0         A/5 21171   7.2500   NaN        S  \n",
       "1        0          PC 17599  71.2833   C85        C  \n",
       "2        0  STON/O2. 3101282   7.9250   NaN        S  \n",
       "3        0            113803  53.1000  C123        S  \n",
       "4        0            373450   8.0500   NaN        S  \n",
       "..     ...               ...      ...   ...      ...  \n",
       "886      0            211536  13.0000   NaN        S  \n",
       "887      0            112053  30.0000   B42        S  \n",
       "888      2        W./C. 6607  23.4500   NaN        S  \n",
       "889      0            111369  30.0000  C148        C  \n",
       "890      0            370376   7.7500   NaN        Q  \n",
       "\n",
       "[891 rows x 12 columns]"
      ]
     },
     "execution_count": 17,
     "metadata": {},
     "output_type": "execute_result"
    }
   ],
   "source": [
    "df"
   ]
  },
  {
   "cell_type": "code",
   "execution_count": 18,
   "id": "78887c32",
   "metadata": {
    "scrolled": true
   },
   "outputs": [
    {
     "data": {
      "text/plain": [
       "<AxesSubplot:xlabel='SibSp'>"
      ]
     },
     "execution_count": 18,
     "metadata": {},
     "output_type": "execute_result"
    },
    {
     "data": {
      "image/png": "[encoded data removed]",
      "text/plain": [
       "<Figure size 432x288 with 1 Axes>"
      ]
     },
     "metadata": {
      "needs_background": "light"
     },
     "output_type": "display_data"
    }
   ],
   "source": [
    "sns.boxplot('SibSp',data=df)"
   ]
  },
  {
   "cell_type": "code",
   "execution_count": 19,
   "id": "497b6637",
   "metadata": {},
   "outputs": [
    {
     "data": {
      "text/plain": [
       "[0, 1, 2, 3, 4, 5, 8]"
      ]
     },
     "execution_count": 19,
     "metadata": {},
     "output_type": "execute_result"
    }
   ],
   "source": [
    "sorted(df['SibSp'].unique())"
   ]
  },
  {
   "cell_type": "code",
   "execution_count": 20,
   "id": "50450e12",
   "metadata": {},
   "outputs": [
    {
     "data": {
      "text/plain": [
       "<AxesSubplot:xlabel='SibSp', ylabel='count'>"
      ]
     },
     "execution_count": 20,
     "metadata": {},
     "output_type": "execute_result"
    },
    {
     "data": {
      "image/png": "[encoded data removed]",
      "text/plain": [
       "<Figure size 432x288 with 1 Axes>"
      ]
     },
     "metadata": {
      "needs_background": "light"
     },
     "output_type": "display_data"
    }
   ],
   "source": [
    "sns.countplot(df['SibSp'])"
   ]
  },
  {
   "cell_type": "code",
   "execution_count": 21,
   "id": "8c88e9e2",
   "metadata": {},
   "outputs": [
    {
     "data": {
      "text/plain": [
       "(46, 12)"
      ]
     },
     "execution_count": 21,
     "metadata": {},
     "output_type": "execute_result"
    }
   ],
   "source": [
    "df[df['SibSp']>2].shape"
   ]
  },
  {
   "cell_type": "code",
   "execution_count": 22,
   "id": "062d9442",
   "metadata": {},
   "outputs": [
    {
     "data": {
      "text/plain": [
       "(20, 12)"
      ]
     },
     "execution_count": 22,
     "metadata": {},
     "output_type": "execute_result"
    }
   ],
   "source": [
    "df[df['Fare']>200].shape"
   ]
  },
  {
   "cell_type": "code",
   "execution_count": 23,
   "id": "8c76221c",
   "metadata": {},
   "outputs": [],
   "source": [
    "df = df[~(df['Fare']>200)]"
   ]
  },
  {
   "cell_type": "code",
   "execution_count": 24,
   "id": "81aa623f",
   "metadata": {},
   "outputs": [
    {
     "data": {
      "text/plain": [
       "array(['S', 'C', 'Q', nan], dtype=object)"
      ]
     },
     "execution_count": 24,
     "metadata": {},
     "output_type": "execute_result"
    }
   ],
   "source": [
    "df.Embarked.unique()"
   ]
  },
  {
   "cell_type": "code",
   "execution_count": 25,
   "id": "ec542877",
   "metadata": {},
   "outputs": [
    {
     "data": {
      "text/plain": [
       "2"
      ]
     },
     "execution_count": 25,
     "metadata": {},
     "output_type": "execute_result"
    }
   ],
   "source": [
    "df.Embarked.isna().sum()"
   ]
  },
  {
   "cell_type": "code",
   "execution_count": 26,
   "id": "f6b81d8f",
   "metadata": {},
   "outputs": [
    {
     "data": {
      "text/plain": [
       "S    636\n",
       "C    156\n",
       "Q     77\n",
       "Name: Embarked, dtype: int64"
      ]
     },
     "execution_count": 26,
     "metadata": {},
     "output_type": "execute_result"
    }
   ],
   "source": [
    "df.Embarked.value_counts()"
   ]
  },
  {
   "cell_type": "code",
   "execution_count": 27,
   "id": "1257d7fd",
   "metadata": {},
   "outputs": [],
   "source": [
    "df.Embarked = df.Embarked.fillna('S')"
   ]
  },
  {
   "cell_type": "code",
   "execution_count": 28,
   "id": "2f01acb3",
   "metadata": {},
   "outputs": [
    {
     "data": {
      "text/plain": [
       "array(['S', 'C', 'Q'], dtype=object)"
      ]
     },
     "execution_count": 28,
     "metadata": {},
     "output_type": "execute_result"
    }
   ],
   "source": [
    "df.Embarked.unique()"
   ]
  },
  {
   "cell_type": "code",
   "execution_count": 29,
   "id": "fdd0d679",
   "metadata": {},
   "outputs": [],
   "source": [
    "df['Gender']=df['Gender'].replace('male',0).replace('female',1)"
   ]
  },
  {
   "cell_type": "code",
   "execution_count": 30,
   "id": "835a532c",
   "metadata": {},
   "outputs": [
    {
     "data": {
      "text/plain": [
       "array([0, 1], dtype=int64)"
      ]
     },
     "execution_count": 30,
     "metadata": {},
     "output_type": "execute_result"
    }
   ],
   "source": [
    "df.Gender.unique()"
   ]
  },
  {
   "cell_type": "code",
   "execution_count": 31,
   "id": "a22c92ff",
   "metadata": {},
   "outputs": [
    {
     "data": {
      "text/plain": [
       "Index(['PassengerId', 'Survived', 'Pclass', 'Name', 'Gender', 'Age', 'SibSp',\n",
       "       'Parch', 'Ticket', 'Fare', 'Cabin', 'Embarked'],\n",
       "      dtype='object')"
      ]
     },
     "execution_count": 31,
     "metadata": {},
     "output_type": "execute_result"
    }
   ],
   "source": [
    "df.columns"
   ]
  },
  {
   "cell_type": "code",
   "execution_count": 32,
   "id": "d0793af2",
   "metadata": {},
   "outputs": [
    {
     "data": {
      "text/html": [
       "<div>\n",
       "<style scoped>\n",
       "    .dataframe tbody tr th:only-of-type {\n",
       "        vertical-align: middle;\n",
       "    }\n",
       "\n",
       "    .dataframe tbody tr th {\n",
       "        vertical-align: top;\n",
       "    }\n",
       "\n",
       "    .dataframe thead th {\n",
       "        text-align: right;\n",
       "    }\n",
       "</style>\n",
       "<table border=\"1\" class=\"dataframe\">\n",
       "  <thead>\n",
       "    <tr style=\"text-align: right;\">\n",
       "      <th></th>\n",
       "      <th>PassengerId</th>\n",
       "      <th>Survived</th>\n",
       "      <th>Pclass</th>\n",
       "      <th>Name</th>\n",
       "      <th>Gender</th>\n",
       "      <th>Age</th>\n",
       "      <th>SibSp</th>\n",
       "      <th>Parch</th>\n",
       "      <th>Ticket</th>\n",
       "      <th>Fare</th>\n",
       "      <th>Cabin</th>\n",
       "      <th>Embarked</th>\n",
       "    </tr>\n",
       "  </thead>\n",
       "  <tbody>\n",
       "    <tr>\n",
       "      <th>0</th>\n",
       "      <td>1</td>\n",
       "      <td>0</td>\n",
       "      <td>3</td>\n",
       "      <td>Braund, Mr. Owen Harris</td>\n",
       "      <td>0</td>\n",
       "      <td>22.0</td>\n",
       "      <td>1</td>\n",
       "      <td>0</td>\n",
       "      <td>A/5 21171</td>\n",
       "      <td>7.2500</td>\n",
       "      <td>NaN</td>\n",
       "      <td>S</td>\n",
       "    </tr>\n",
       "    <tr>\n",
       "      <th>1</th>\n",
       "      <td>2</td>\n",
       "      <td>1</td>\n",
       "      <td>1</td>\n",
       "      <td>Cumings, Mrs. John Bradley (Florence Briggs Th...</td>\n",
       "      <td>1</td>\n",
       "      <td>38.0</td>\n",
       "      <td>1</td>\n",
       "      <td>0</td>\n",
       "      <td>PC 17599</td>\n",
       "      <td>71.2833</td>\n",
       "      <td>C85</td>\n",
       "      <td>C</td>\n",
       "    </tr>\n",
       "    <tr>\n",
       "      <th>2</th>\n",
       "      <td>3</td>\n",
       "      <td>1</td>\n",
       "      <td>3</td>\n",
       "      <td>Heikkinen, Miss. Laina</td>\n",
       "      <td>1</td>\n",
       "      <td>26.0</td>\n",
       "      <td>0</td>\n",
       "      <td>0</td>\n",
       "      <td>STON/O2. 3101282</td>\n",
       "      <td>7.9250</td>\n",
       "      <td>NaN</td>\n",
       "      <td>S</td>\n",
       "    </tr>\n",
       "    <tr>\n",
       "      <th>3</th>\n",
       "      <td>4</td>\n",
       "      <td>1</td>\n",
       "      <td>1</td>\n",
       "      <td>Futrelle, Mrs. Jacques Heath (Lily May Peel)</td>\n",
       "      <td>1</td>\n",
       "      <td>35.0</td>\n",
       "      <td>1</td>\n",
       "      <td>0</td>\n",
       "      <td>113803</td>\n",
       "      <td>53.1000</td>\n",
       "      <td>C123</td>\n",
       "      <td>S</td>\n",
       "    </tr>\n",
       "    <tr>\n",
       "      <th>4</th>\n",
       "      <td>5</td>\n",
       "      <td>0</td>\n",
       "      <td>3</td>\n",
       "      <td>Allen, Mr. William Henry</td>\n",
       "      <td>0</td>\n",
       "      <td>35.0</td>\n",
       "      <td>0</td>\n",
       "      <td>0</td>\n",
       "      <td>373450</td>\n",
       "      <td>8.0500</td>\n",
       "      <td>NaN</td>\n",
       "      <td>S</td>\n",
       "    </tr>\n",
       "    <tr>\n",
       "      <th>...</th>\n",
       "      <td>...</td>\n",
       "      <td>...</td>\n",
       "      <td>...</td>\n",
       "      <td>...</td>\n",
       "      <td>...</td>\n",
       "      <td>...</td>\n",
       "      <td>...</td>\n",
       "      <td>...</td>\n",
       "      <td>...</td>\n",
       "      <td>...</td>\n",
       "      <td>...</td>\n",
       "      <td>...</td>\n",
       "    </tr>\n",
       "    <tr>\n",
       "      <th>886</th>\n",
       "      <td>887</td>\n",
       "      <td>0</td>\n",
       "      <td>2</td>\n",
       "      <td>Montvila, Rev. Juozas</td>\n",
       "      <td>0</td>\n",
       "      <td>27.0</td>\n",
       "      <td>0</td>\n",
       "      <td>0</td>\n",
       "      <td>211536</td>\n",
       "      <td>13.0000</td>\n",
       "      <td>NaN</td>\n",
       "      <td>S</td>\n",
       "    </tr>\n",
       "    <tr>\n",
       "      <th>887</th>\n",
       "      <td>888</td>\n",
       "      <td>1</td>\n",
       "      <td>1</td>\n",
       "      <td>Graham, Miss. Margaret Edith</td>\n",
       "      <td>1</td>\n",
       "      <td>19.0</td>\n",
       "      <td>0</td>\n",
       "      <td>0</td>\n",
       "      <td>112053</td>\n",
       "      <td>30.0000</td>\n",
       "      <td>B42</td>\n",
       "      <td>S</td>\n",
       "    </tr>\n",
       "    <tr>\n",
       "      <th>888</th>\n",
       "      <td>889</td>\n",
       "      <td>0</td>\n",
       "      <td>3</td>\n",
       "      <td>Johnston, Miss. Catherine Helen \"Carrie\"</td>\n",
       "      <td>1</td>\n",
       "      <td>NaN</td>\n",
       "      <td>1</td>\n",
       "      <td>2</td>\n",
       "      <td>W./C. 6607</td>\n",
       "      <td>23.4500</td>\n",
       "      <td>NaN</td>\n",
       "      <td>S</td>\n",
       "    </tr>\n",
       "    <tr>\n",
       "      <th>889</th>\n",
       "      <td>890</td>\n",
       "      <td>1</td>\n",
       "      <td>1</td>\n",
       "      <td>Behr, Mr. Karl Howell</td>\n",
       "      <td>0</td>\n",
       "      <td>26.0</td>\n",
       "      <td>0</td>\n",
       "      <td>0</td>\n",
       "      <td>111369</td>\n",
       "      <td>30.0000</td>\n",
       "      <td>C148</td>\n",
       "      <td>C</td>\n",
       "    </tr>\n",
       "    <tr>\n",
       "      <th>890</th>\n",
       "      <td>891</td>\n",
       "      <td>0</td>\n",
       "      <td>3</td>\n",
       "      <td>Dooley, Mr. Patrick</td>\n",
       "      <td>0</td>\n",
       "      <td>32.0</td>\n",
       "      <td>0</td>\n",
       "      <td>0</td>\n",
       "      <td>370376</td>\n",
       "      <td>7.7500</td>\n",
       "      <td>NaN</td>\n",
       "      <td>Q</td>\n",
       "    </tr>\n",
       "  </tbody>\n",
       "</table>\n",
       "<p>871 rows × 12 columns</p>\n",
       "</div>"
      ],
      "text/plain": [
       "     PassengerId  Survived  Pclass  \\\n",
       "0              1         0       3   \n",
       "1              2         1       1   \n",
       "2              3         1       3   \n",
       "3              4         1       1   \n",
       "4              5         0       3   \n",
       "..           ...       ...     ...   \n",
       "886          887         0       2   \n",
       "887          888         1       1   \n",
       "888          889         0       3   \n",
       "889          890         1       1   \n",
       "890          891         0       3   \n",
       "\n",
       "                                                  Name  Gender   Age  SibSp  \\\n",
       "0                              Braund, Mr. Owen Harris       0  22.0      1   \n",
       "1    Cumings, Mrs. John Bradley (Florence Briggs Th...       1  38.0      1   \n",
       "2                               Heikkinen, Miss. Laina       1  26.0      0   \n",
       "3         Futrelle, Mrs. Jacques Heath (Lily May Peel)       1  35.0      1   \n",
       "4                             Allen, Mr. William Henry       0  35.0      0   \n",
       "..                                                 ...     ...   ...    ...   \n",
       "886                              Montvila, Rev. Juozas       0  27.0      0   \n",
       "887                       Graham, Miss. Margaret Edith       1  19.0      0   \n",
       "888           Johnston, Miss. Catherine Helen \"Carrie\"       1   NaN      1   \n",
       "889                              Behr, Mr. Karl Howell       0  26.0      0   \n",
       "890                                Dooley, Mr. Patrick       0  32.0      0   \n",
       "\n",
       "     Parch            Ticket     Fare Cabin Embarked  \n",
       "0        0         A/5 21171   7.2500   NaN        S  \n",
       "1        0          PC 17599  71.2833   C85        C  \n",
       "2        0  STON/O2. 3101282   7.9250   NaN        S  \n",
       "3        0            113803  53.1000  C123        S  \n",
       "4        0            373450   8.0500   NaN        S  \n",
       "..     ...               ...      ...   ...      ...  \n",
       "886      0            211536  13.0000   NaN        S  \n",
       "887      0            112053  30.0000   B42        S  \n",
       "888      2        W./C. 6607  23.4500   NaN        S  \n",
       "889      0            111369  30.0000  C148        C  \n",
       "890      0            370376   7.7500   NaN        Q  \n",
       "\n",
       "[871 rows x 12 columns]"
      ]
     },
     "execution_count": 32,
     "metadata": {},
     "output_type": "execute_result"
    }
   ],
   "source": [
    "df"
   ]
  },
  {
   "cell_type": "code",
   "execution_count": 33,
   "id": "4be988aa",
   "metadata": {},
   "outputs": [
    {
     "name": "stdout",
     "output_type": "stream",
     "text": [
      "<class 'pandas.core.frame.DataFrame'>\n",
      "Int64Index: 871 entries, 0 to 890\n",
      "Data columns (total 12 columns):\n",
      " #   Column       Non-Null Count  Dtype  \n",
      "---  ------       --------------  -----  \n",
      " 0   PassengerId  871 non-null    int64  \n",
      " 1   Survived     871 non-null    int64  \n",
      " 2   Pclass       871 non-null    int64  \n",
      " 3   Name         871 non-null    object \n",
      " 4   Gender       871 non-null    int64  \n",
      " 5   Age          696 non-null    float64\n",
      " 6   SibSp        871 non-null    int64  \n",
      " 7   Parch        871 non-null    int64  \n",
      " 8   Ticket       871 non-null    object \n",
      " 9   Fare         871 non-null    float64\n",
      " 10  Cabin        187 non-null    object \n",
      " 11  Embarked     871 non-null    object \n",
      "dtypes: float64(2), int64(6), object(4)\n",
      "memory usage: 88.5+ KB\n"
     ]
    }
   ],
   "source": [
    "df.info()"
   ]
  },
  {
   "cell_type": "code",
   "execution_count": 34,
   "id": "16d6378f",
   "metadata": {},
   "outputs": [],
   "source": [
    "df.drop(['PassengerId','Name','Ticket','Cabin'],axis=1, inplace=True)"
   ]
  },
  {
   "cell_type": "code",
   "execution_count": 35,
   "id": "39424595",
   "metadata": {},
   "outputs": [],
   "source": [
    "df.Age = df.Age.fillna(df.Age.mean())"
   ]
  },
  {
   "cell_type": "code",
   "execution_count": 36,
   "id": "cf442681",
   "metadata": {},
   "outputs": [
    {
     "name": "stdout",
     "output_type": "stream",
     "text": [
      "<class 'pandas.core.frame.DataFrame'>\n",
      "Int64Index: 871 entries, 0 to 890\n",
      "Data columns (total 8 columns):\n",
      " #   Column    Non-Null Count  Dtype  \n",
      "---  ------    --------------  -----  \n",
      " 0   Survived  871 non-null    int64  \n",
      " 1   Pclass    871 non-null    int64  \n",
      " 2   Gender    871 non-null    int64  \n",
      " 3   Age       871 non-null    float64\n",
      " 4   SibSp     871 non-null    int64  \n",
      " 5   Parch     871 non-null    int64  \n",
      " 6   Fare      871 non-null    float64\n",
      " 7   Embarked  871 non-null    object \n",
      "dtypes: float64(2), int64(5), object(1)\n",
      "memory usage: 61.2+ KB\n"
     ]
    }
   ],
   "source": [
    "df.info()"
   ]
  },
  {
   "cell_type": "code",
   "execution_count": 37,
   "id": "f5d7ef9d",
   "metadata": {},
   "outputs": [],
   "source": [
    "df = pd.get_dummies(df,prefix=['Embarked'],drop_first=True)"
   ]
  },
  {
   "cell_type": "code",
   "execution_count": 38,
   "id": "47c08aac",
   "metadata": {},
   "outputs": [
    {
     "data": {
      "text/html": [
       "<div>\n",
       "<style scoped>\n",
       "    .dataframe tbody tr th:only-of-type {\n",
       "        vertical-align: middle;\n",
       "    }\n",
       "\n",
       "    .dataframe tbody tr th {\n",
       "        vertical-align: top;\n",
       "    }\n",
       "\n",
       "    .dataframe thead th {\n",
       "        text-align: right;\n",
       "    }\n",
       "</style>\n",
       "<table border=\"1\" class=\"dataframe\">\n",
       "  <thead>\n",
       "    <tr style=\"text-align: right;\">\n",
       "      <th></th>\n",
       "      <th>Survived</th>\n",
       "      <th>Pclass</th>\n",
       "      <th>Gender</th>\n",
       "      <th>Age</th>\n",
       "      <th>SibSp</th>\n",
       "      <th>Parch</th>\n",
       "      <th>Fare</th>\n",
       "      <th>Embarked_Q</th>\n",
       "      <th>Embarked_S</th>\n",
       "    </tr>\n",
       "  </thead>\n",
       "  <tbody>\n",
       "    <tr>\n",
       "      <th>0</th>\n",
       "      <td>0</td>\n",
       "      <td>3</td>\n",
       "      <td>0</td>\n",
       "      <td>22.000000</td>\n",
       "      <td>1</td>\n",
       "      <td>0</td>\n",
       "      <td>7.2500</td>\n",
       "      <td>0</td>\n",
       "      <td>1</td>\n",
       "    </tr>\n",
       "    <tr>\n",
       "      <th>1</th>\n",
       "      <td>1</td>\n",
       "      <td>1</td>\n",
       "      <td>1</td>\n",
       "      <td>38.000000</td>\n",
       "      <td>1</td>\n",
       "      <td>0</td>\n",
       "      <td>71.2833</td>\n",
       "      <td>0</td>\n",
       "      <td>0</td>\n",
       "    </tr>\n",
       "    <tr>\n",
       "      <th>2</th>\n",
       "      <td>1</td>\n",
       "      <td>3</td>\n",
       "      <td>1</td>\n",
       "      <td>26.000000</td>\n",
       "      <td>0</td>\n",
       "      <td>0</td>\n",
       "      <td>7.9250</td>\n",
       "      <td>0</td>\n",
       "      <td>1</td>\n",
       "    </tr>\n",
       "    <tr>\n",
       "      <th>3</th>\n",
       "      <td>1</td>\n",
       "      <td>1</td>\n",
       "      <td>1</td>\n",
       "      <td>35.000000</td>\n",
       "      <td>1</td>\n",
       "      <td>0</td>\n",
       "      <td>53.1000</td>\n",
       "      <td>0</td>\n",
       "      <td>1</td>\n",
       "    </tr>\n",
       "    <tr>\n",
       "      <th>4</th>\n",
       "      <td>0</td>\n",
       "      <td>3</td>\n",
       "      <td>0</td>\n",
       "      <td>35.000000</td>\n",
       "      <td>0</td>\n",
       "      <td>0</td>\n",
       "      <td>8.0500</td>\n",
       "      <td>0</td>\n",
       "      <td>1</td>\n",
       "    </tr>\n",
       "    <tr>\n",
       "      <th>...</th>\n",
       "      <td>...</td>\n",
       "      <td>...</td>\n",
       "      <td>...</td>\n",
       "      <td>...</td>\n",
       "      <td>...</td>\n",
       "      <td>...</td>\n",
       "      <td>...</td>\n",
       "      <td>...</td>\n",
       "      <td>...</td>\n",
       "    </tr>\n",
       "    <tr>\n",
       "      <th>886</th>\n",
       "      <td>0</td>\n",
       "      <td>2</td>\n",
       "      <td>0</td>\n",
       "      <td>27.000000</td>\n",
       "      <td>0</td>\n",
       "      <td>0</td>\n",
       "      <td>13.0000</td>\n",
       "      <td>0</td>\n",
       "      <td>1</td>\n",
       "    </tr>\n",
       "    <tr>\n",
       "      <th>887</th>\n",
       "      <td>1</td>\n",
       "      <td>1</td>\n",
       "      <td>1</td>\n",
       "      <td>19.000000</td>\n",
       "      <td>0</td>\n",
       "      <td>0</td>\n",
       "      <td>30.0000</td>\n",
       "      <td>0</td>\n",
       "      <td>1</td>\n",
       "    </tr>\n",
       "    <tr>\n",
       "      <th>888</th>\n",
       "      <td>0</td>\n",
       "      <td>3</td>\n",
       "      <td>1</td>\n",
       "      <td>29.661164</td>\n",
       "      <td>1</td>\n",
       "      <td>2</td>\n",
       "      <td>23.4500</td>\n",
       "      <td>0</td>\n",
       "      <td>1</td>\n",
       "    </tr>\n",
       "    <tr>\n",
       "      <th>889</th>\n",
       "      <td>1</td>\n",
       "      <td>1</td>\n",
       "      <td>0</td>\n",
       "      <td>26.000000</td>\n",
       "      <td>0</td>\n",
       "      <td>0</td>\n",
       "      <td>30.0000</td>\n",
       "      <td>0</td>\n",
       "      <td>0</td>\n",
       "    </tr>\n",
       "    <tr>\n",
       "      <th>890</th>\n",
       "      <td>0</td>\n",
       "      <td>3</td>\n",
       "      <td>0</td>\n",
       "      <td>32.000000</td>\n",
       "      <td>0</td>\n",
       "      <td>0</td>\n",
       "      <td>7.7500</td>\n",
       "      <td>1</td>\n",
       "      <td>0</td>\n",
       "    </tr>\n",
       "  </tbody>\n",
       "</table>\n",
       "<p>871 rows × 9 columns</p>\n",
       "</div>"
      ],
      "text/plain": [
       "     Survived  Pclass  Gender        Age  SibSp  Parch     Fare  Embarked_Q  \\\n",
       "0           0       3       0  22.000000      1      0   7.2500           0   \n",
       "1           1       1       1  38.000000      1      0  71.2833           0   \n",
       "2           1       3       1  26.000000      0      0   7.9250           0   \n",
       "3           1       1       1  35.000000      1      0  53.1000           0   \n",
       "4           0       3       0  35.000000      0      0   8.0500           0   \n",
       "..        ...     ...     ...        ...    ...    ...      ...         ...   \n",
       "886         0       2       0  27.000000      0      0  13.0000           0   \n",
       "887         1       1       1  19.000000      0      0  30.0000           0   \n",
       "888         0       3       1  29.661164      1      2  23.4500           0   \n",
       "889         1       1       0  26.000000      0      0  30.0000           0   \n",
       "890         0       3       0  32.000000      0      0   7.7500           1   \n",
       "\n",
       "     Embarked_S  \n",
       "0             1  \n",
       "1             0  \n",
       "2             1  \n",
       "3             1  \n",
       "4             1  \n",
       "..          ...  \n",
       "886           1  \n",
       "887           1  \n",
       "888           1  \n",
       "889           0  \n",
       "890           0  \n",
       "\n",
       "[871 rows x 9 columns]"
      ]
     },
     "execution_count": 38,
     "metadata": {},
     "output_type": "execute_result"
    }
   ],
   "source": [
    "df"
   ]
  },
  {
   "cell_type": "code",
   "execution_count": 39,
   "id": "6f5cfdee",
   "metadata": {},
   "outputs": [
    {
     "name": "stdout",
     "output_type": "stream",
     "text": [
      "<class 'pandas.core.frame.DataFrame'>\n",
      "Int64Index: 871 entries, 0 to 890\n",
      "Data columns (total 9 columns):\n",
      " #   Column      Non-Null Count  Dtype  \n",
      "---  ------      --------------  -----  \n",
      " 0   Survived    871 non-null    int64  \n",
      " 1   Pclass      871 non-null    int64  \n",
      " 2   Gender      871 non-null    int64  \n",
      " 3   Age         871 non-null    float64\n",
      " 4   SibSp       871 non-null    int64  \n",
      " 5   Parch       871 non-null    int64  \n",
      " 6   Fare        871 non-null    float64\n",
      " 7   Embarked_Q  871 non-null    uint8  \n",
      " 8   Embarked_S  871 non-null    uint8  \n",
      "dtypes: float64(2), int64(5), uint8(2)\n",
      "memory usage: 56.1 KB\n"
     ]
    }
   ],
   "source": [
    "df.info()"
   ]
  },
  {
   "cell_type": "code",
   "execution_count": 40,
   "id": "1c356a51",
   "metadata": {},
   "outputs": [
    {
     "data": {
      "text/html": [
       "<div>\n",
       "<style scoped>\n",
       "    .dataframe tbody tr th:only-of-type {\n",
       "        vertical-align: middle;\n",
       "    }\n",
       "\n",
       "    .dataframe tbody tr th {\n",
       "        vertical-align: top;\n",
       "    }\n",
       "\n",
       "    .dataframe thead th {\n",
       "        text-align: right;\n",
       "    }\n",
       "</style>\n",
       "<table border=\"1\" class=\"dataframe\">\n",
       "  <thead>\n",
       "    <tr style=\"text-align: right;\">\n",
       "      <th></th>\n",
       "      <th>Survived</th>\n",
       "      <th>Pclass</th>\n",
       "      <th>Gender</th>\n",
       "      <th>Age</th>\n",
       "      <th>SibSp</th>\n",
       "      <th>Parch</th>\n",
       "      <th>Fare</th>\n",
       "      <th>Embarked_Q</th>\n",
       "      <th>Embarked_S</th>\n",
       "    </tr>\n",
       "  </thead>\n",
       "  <tbody>\n",
       "    <tr>\n",
       "      <th>Survived</th>\n",
       "      <td>1.000000</td>\n",
       "      <td>-0.322983</td>\n",
       "      <td>0.532938</td>\n",
       "      <td>-0.082279</td>\n",
       "      <td>-0.028772</td>\n",
       "      <td>0.082957</td>\n",
       "      <td>0.296419</td>\n",
       "      <td>0.014483</td>\n",
       "      <td>-0.141358</td>\n",
       "    </tr>\n",
       "    <tr>\n",
       "      <th>Pclass</th>\n",
       "      <td>-0.322983</td>\n",
       "      <td>1.000000</td>\n",
       "      <td>-0.118369</td>\n",
       "      <td>-0.340795</td>\n",
       "      <td>0.094324</td>\n",
       "      <td>0.051138</td>\n",
       "      <td>-0.653248</td>\n",
       "      <td>0.216358</td>\n",
       "      <td>0.050278</td>\n",
       "    </tr>\n",
       "    <tr>\n",
       "      <th>Gender</th>\n",
       "      <td>0.532938</td>\n",
       "      <td>-0.118369</td>\n",
       "      <td>1.000000</td>\n",
       "      <td>-0.084441</td>\n",
       "      <td>0.110942</td>\n",
       "      <td>0.251004</td>\n",
       "      <td>0.232512</td>\n",
       "      <td>0.079045</td>\n",
       "      <td>-0.115601</td>\n",
       "    </tr>\n",
       "    <tr>\n",
       "      <th>Age</th>\n",
       "      <td>-0.082279</td>\n",
       "      <td>-0.340795</td>\n",
       "      <td>-0.084441</td>\n",
       "      <td>1.000000</td>\n",
       "      <td>-0.229770</td>\n",
       "      <td>-0.192121</td>\n",
       "      <td>0.127849</td>\n",
       "      <td>-0.013675</td>\n",
       "      <td>-0.017580</td>\n",
       "    </tr>\n",
       "    <tr>\n",
       "      <th>SibSp</th>\n",
       "      <td>-0.028772</td>\n",
       "      <td>0.094324</td>\n",
       "      <td>0.110942</td>\n",
       "      <td>-0.229770</td>\n",
       "      <td>1.000000</td>\n",
       "      <td>0.409380</td>\n",
       "      <td>0.246085</td>\n",
       "      <td>-0.025241</td>\n",
       "      <td>0.065138</td>\n",
       "    </tr>\n",
       "    <tr>\n",
       "      <th>Parch</th>\n",
       "      <td>0.082957</td>\n",
       "      <td>0.051138</td>\n",
       "      <td>0.251004</td>\n",
       "      <td>-0.192121</td>\n",
       "      <td>0.409380</td>\n",
       "      <td>1.000000</td>\n",
       "      <td>0.230427</td>\n",
       "      <td>-0.077635</td>\n",
       "      <td>0.066605</td>\n",
       "    </tr>\n",
       "    <tr>\n",
       "      <th>Fare</th>\n",
       "      <td>0.296419</td>\n",
       "      <td>-0.653248</td>\n",
       "      <td>0.232512</td>\n",
       "      <td>0.127849</td>\n",
       "      <td>0.246085</td>\n",
       "      <td>0.230427</td>\n",
       "      <td>1.000000</td>\n",
       "      <td>-0.140705</td>\n",
       "      <td>-0.109163</td>\n",
       "    </tr>\n",
       "    <tr>\n",
       "      <th>Embarked_Q</th>\n",
       "      <td>0.014483</td>\n",
       "      <td>0.216358</td>\n",
       "      <td>0.079045</td>\n",
       "      <td>-0.013675</td>\n",
       "      <td>-0.025241</td>\n",
       "      <td>-0.077635</td>\n",
       "      <td>-0.140705</td>\n",
       "      <td>1.000000</td>\n",
       "      <td>-0.515309</td>\n",
       "    </tr>\n",
       "    <tr>\n",
       "      <th>Embarked_S</th>\n",
       "      <td>-0.141358</td>\n",
       "      <td>0.050278</td>\n",
       "      <td>-0.115601</td>\n",
       "      <td>-0.017580</td>\n",
       "      <td>0.065138</td>\n",
       "      <td>0.066605</td>\n",
       "      <td>-0.109163</td>\n",
       "      <td>-0.515309</td>\n",
       "      <td>1.000000</td>\n",
       "    </tr>\n",
       "  </tbody>\n",
       "</table>\n",
       "</div>"
      ],
      "text/plain": [
       "            Survived    Pclass    Gender       Age     SibSp     Parch  \\\n",
       "Survived    1.000000 -0.322983  0.532938 -0.082279 -0.028772  0.082957   \n",
       "Pclass     -0.322983  1.000000 -0.118369 -0.340795  0.094324  0.051138   \n",
       "Gender      0.532938 -0.118369  1.000000 -0.084441  0.110942  0.251004   \n",
       "Age        -0.082279 -0.340795 -0.084441  1.000000 -0.229770 -0.192121   \n",
       "SibSp      -0.028772  0.094324  0.110942 -0.229770  1.000000  0.409380   \n",
       "Parch       0.082957  0.051138  0.251004 -0.192121  0.409380  1.000000   \n",
       "Fare        0.296419 -0.653248  0.232512  0.127849  0.246085  0.230427   \n",
       "Embarked_Q  0.014483  0.216358  0.079045 -0.013675 -0.025241 -0.077635   \n",
       "Embarked_S -0.141358  0.050278 -0.115601 -0.017580  0.065138  0.066605   \n",
       "\n",
       "                Fare  Embarked_Q  Embarked_S  \n",
       "Survived    0.296419    0.014483   -0.141358  \n",
       "Pclass     -0.653248    0.216358    0.050278  \n",
       "Gender      0.232512    0.079045   -0.115601  \n",
       "Age         0.127849   -0.013675   -0.017580  \n",
       "SibSp       0.246085   -0.025241    0.065138  \n",
       "Parch       0.230427   -0.077635    0.066605  \n",
       "Fare        1.000000   -0.140705   -0.109163  \n",
       "Embarked_Q -0.140705    1.000000   -0.515309  \n",
       "Embarked_S -0.109163   -0.515309    1.000000  "
      ]
     },
     "execution_count": 40,
     "metadata": {},
     "output_type": "execute_result"
    }
   ],
   "source": [
    "df.corr()"
   ]
  },
  {
   "cell_type": "code",
   "execution_count": 41,
   "id": "102d9faf",
   "metadata": {},
   "outputs": [
    {
     "data": {
      "text/plain": [
       "array([3, 1, 2], dtype=int64)"
      ]
     },
     "execution_count": 41,
     "metadata": {},
     "output_type": "execute_result"
    }
   ],
   "source": [
    "df.Pclass.unique()"
   ]
  },
  {
   "cell_type": "markdown",
   "id": "044cb01e",
   "metadata": {},
   "source": [
    "# Building Model"
   ]
  },
  {
   "cell_type": "markdown",
   "id": "fa64d570",
   "metadata": {},
   "source": [
    "## splitting the data"
   ]
  },
  {
   "cell_type": "code",
   "execution_count": 42,
   "id": "a8b4f081",
   "metadata": {},
   "outputs": [],
   "source": [
    "x = df.drop('Pclass',axis=1)\n",
    "y = df.Pclass"
   ]
  },
  {
   "cell_type": "code",
   "execution_count": 43,
   "id": "34f2eea5",
   "metadata": {},
   "outputs": [
    {
     "data": {
      "text/html": [
       "<div>\n",
       "<style scoped>\n",
       "    .dataframe tbody tr th:only-of-type {\n",
       "        vertical-align: middle;\n",
       "    }\n",
       "\n",
       "    .dataframe tbody tr th {\n",
       "        vertical-align: top;\n",
       "    }\n",
       "\n",
       "    .dataframe thead th {\n",
       "        text-align: right;\n",
       "    }\n",
       "</style>\n",
       "<table border=\"1\" class=\"dataframe\">\n",
       "  <thead>\n",
       "    <tr style=\"text-align: right;\">\n",
       "      <th></th>\n",
       "      <th>Survived</th>\n",
       "      <th>Gender</th>\n",
       "      <th>Age</th>\n",
       "      <th>SibSp</th>\n",
       "      <th>Parch</th>\n",
       "      <th>Fare</th>\n",
       "      <th>Embarked_Q</th>\n",
       "      <th>Embarked_S</th>\n",
       "    </tr>\n",
       "  </thead>\n",
       "  <tbody>\n",
       "    <tr>\n",
       "      <th>0</th>\n",
       "      <td>0</td>\n",
       "      <td>0</td>\n",
       "      <td>22.000000</td>\n",
       "      <td>1</td>\n",
       "      <td>0</td>\n",
       "      <td>7.2500</td>\n",
       "      <td>0</td>\n",
       "      <td>1</td>\n",
       "    </tr>\n",
       "    <tr>\n",
       "      <th>1</th>\n",
       "      <td>1</td>\n",
       "      <td>1</td>\n",
       "      <td>38.000000</td>\n",
       "      <td>1</td>\n",
       "      <td>0</td>\n",
       "      <td>71.2833</td>\n",
       "      <td>0</td>\n",
       "      <td>0</td>\n",
       "    </tr>\n",
       "    <tr>\n",
       "      <th>2</th>\n",
       "      <td>1</td>\n",
       "      <td>1</td>\n",
       "      <td>26.000000</td>\n",
       "      <td>0</td>\n",
       "      <td>0</td>\n",
       "      <td>7.9250</td>\n",
       "      <td>0</td>\n",
       "      <td>1</td>\n",
       "    </tr>\n",
       "    <tr>\n",
       "      <th>3</th>\n",
       "      <td>1</td>\n",
       "      <td>1</td>\n",
       "      <td>35.000000</td>\n",
       "      <td>1</td>\n",
       "      <td>0</td>\n",
       "      <td>53.1000</td>\n",
       "      <td>0</td>\n",
       "      <td>1</td>\n",
       "    </tr>\n",
       "    <tr>\n",
       "      <th>4</th>\n",
       "      <td>0</td>\n",
       "      <td>0</td>\n",
       "      <td>35.000000</td>\n",
       "      <td>0</td>\n",
       "      <td>0</td>\n",
       "      <td>8.0500</td>\n",
       "      <td>0</td>\n",
       "      <td>1</td>\n",
       "    </tr>\n",
       "    <tr>\n",
       "      <th>...</th>\n",
       "      <td>...</td>\n",
       "      <td>...</td>\n",
       "      <td>...</td>\n",
       "      <td>...</td>\n",
       "      <td>...</td>\n",
       "      <td>...</td>\n",
       "      <td>...</td>\n",
       "      <td>...</td>\n",
       "    </tr>\n",
       "    <tr>\n",
       "      <th>886</th>\n",
       "      <td>0</td>\n",
       "      <td>0</td>\n",
       "      <td>27.000000</td>\n",
       "      <td>0</td>\n",
       "      <td>0</td>\n",
       "      <td>13.0000</td>\n",
       "      <td>0</td>\n",
       "      <td>1</td>\n",
       "    </tr>\n",
       "    <tr>\n",
       "      <th>887</th>\n",
       "      <td>1</td>\n",
       "      <td>1</td>\n",
       "      <td>19.000000</td>\n",
       "      <td>0</td>\n",
       "      <td>0</td>\n",
       "      <td>30.0000</td>\n",
       "      <td>0</td>\n",
       "      <td>1</td>\n",
       "    </tr>\n",
       "    <tr>\n",
       "      <th>888</th>\n",
       "      <td>0</td>\n",
       "      <td>1</td>\n",
       "      <td>29.661164</td>\n",
       "      <td>1</td>\n",
       "      <td>2</td>\n",
       "      <td>23.4500</td>\n",
       "      <td>0</td>\n",
       "      <td>1</td>\n",
       "    </tr>\n",
       "    <tr>\n",
       "      <th>889</th>\n",
       "      <td>1</td>\n",
       "      <td>0</td>\n",
       "      <td>26.000000</td>\n",
       "      <td>0</td>\n",
       "      <td>0</td>\n",
       "      <td>30.0000</td>\n",
       "      <td>0</td>\n",
       "      <td>0</td>\n",
       "    </tr>\n",
       "    <tr>\n",
       "      <th>890</th>\n",
       "      <td>0</td>\n",
       "      <td>0</td>\n",
       "      <td>32.000000</td>\n",
       "      <td>0</td>\n",
       "      <td>0</td>\n",
       "      <td>7.7500</td>\n",
       "      <td>1</td>\n",
       "      <td>0</td>\n",
       "    </tr>\n",
       "  </tbody>\n",
       "</table>\n",
       "<p>871 rows × 8 columns</p>\n",
       "</div>"
      ],
      "text/plain": [
       "     Survived  Gender        Age  SibSp  Parch     Fare  Embarked_Q  \\\n",
       "0           0       0  22.000000      1      0   7.2500           0   \n",
       "1           1       1  38.000000      1      0  71.2833           0   \n",
       "2           1       1  26.000000      0      0   7.9250           0   \n",
       "3           1       1  35.000000      1      0  53.1000           0   \n",
       "4           0       0  35.000000      0      0   8.0500           0   \n",
       "..        ...     ...        ...    ...    ...      ...         ...   \n",
       "886         0       0  27.000000      0      0  13.0000           0   \n",
       "887         1       1  19.000000      0      0  30.0000           0   \n",
       "888         0       1  29.661164      1      2  23.4500           0   \n",
       "889         1       0  26.000000      0      0  30.0000           0   \n",
       "890         0       0  32.000000      0      0   7.7500           1   \n",
       "\n",
       "     Embarked_S  \n",
       "0             1  \n",
       "1             0  \n",
       "2             1  \n",
       "3             1  \n",
       "4             1  \n",
       "..          ...  \n",
       "886           1  \n",
       "887           1  \n",
       "888           1  \n",
       "889           0  \n",
       "890           0  \n",
       "\n",
       "[871 rows x 8 columns]"
      ]
     },
     "execution_count": 43,
     "metadata": {},
     "output_type": "execute_result"
    }
   ],
   "source": [
    "x"
   ]
  },
  {
   "cell_type": "code",
   "execution_count": 44,
   "id": "9fb246f9",
   "metadata": {},
   "outputs": [],
   "source": [
    "x_train,x_test,y_train,y_test = train_test_split(x,y,test_size=0.2,random_state=1)\n"
   ]
  },
  {
   "cell_type": "markdown",
   "id": "44f44501",
   "metadata": {},
   "source": [
    "## creating an instance of the model"
   ]
  },
  {
   "cell_type": "code",
   "execution_count": 45,
   "id": "2dd90e70",
   "metadata": {},
   "outputs": [
    {
     "data": {
      "text/plain": [
       "LogisticRegression()"
      ]
     },
     "execution_count": 45,
     "metadata": {},
     "output_type": "execute_result"
    }
   ],
   "source": [
    "Log_Reg = LogisticRegression()\n",
    "Log_Reg.fit(x_train,y_train)"
   ]
  },
  {
   "cell_type": "markdown",
   "id": "69ee0bc1",
   "metadata": {},
   "source": [
    "## predicting the values"
   ]
  },
  {
   "cell_type": "code",
   "execution_count": 46,
   "id": "6e2d5537",
   "metadata": {},
   "outputs": [
    {
     "data": {
      "text/plain": [
       "array([1, 3, 2, 3, 3, 1, 1, 3, 3, 2, 3, 1, 1, 3, 3, 1, 3, 3, 1, 2, 3, 3,\n",
       "       3, 3, 3, 3, 1, 3, 2, 3, 1, 3, 1, 2, 3, 3, 1, 3, 3, 2, 1, 3, 1, 3,\n",
       "       1, 3, 3, 1, 2, 3, 3, 3, 3, 1, 2, 3, 1, 3, 3, 3, 3, 1, 3, 3, 3, 3,\n",
       "       1, 3, 3, 3, 1, 3, 3, 3, 1, 3, 3, 3, 3, 3, 3, 1, 3, 1, 3, 3, 1, 3,\n",
       "       3, 3, 3, 3, 3, 3, 1, 1, 1, 3, 3, 2, 1, 3, 3, 2, 1, 3, 1, 3, 1, 3,\n",
       "       3, 3, 2, 1, 1, 3, 3, 3, 3, 3, 2, 3, 3, 3, 3, 3, 3, 3, 3, 3, 3, 1,\n",
       "       3, 3, 3, 3, 1, 3, 2, 3, 3, 3, 3, 3, 2, 3, 1, 3, 2, 3, 3, 1, 3, 3,\n",
       "       3, 1, 3, 3, 3, 3, 3, 1, 2, 3, 3, 3, 3, 2, 3, 3, 1, 3, 1, 1, 1],\n",
       "      dtype=int64)"
      ]
     },
     "execution_count": 46,
     "metadata": {},
     "output_type": "execute_result"
    }
   ],
   "source": [
    "y_pred = Log_Reg.predict(x_test)\n",
    "y_pred"
   ]
  },
  {
   "cell_type": "code",
   "execution_count": 47,
   "id": "e367f57f",
   "metadata": {},
   "outputs": [
    {
     "data": {
      "text/plain": [
       "295    1\n",
       "554    3\n",
       "183    2\n",
       "188    3\n",
       "444    3\n",
       "      ..\n",
       "492    1\n",
       "565    3\n",
       "599    1\n",
       "862    1\n",
       "705    2\n",
       "Name: Pclass, Length: 175, dtype: int64"
      ]
     },
     "execution_count": 47,
     "metadata": {},
     "output_type": "execute_result"
    }
   ],
   "source": [
    "y_test"
   ]
  },
  {
   "cell_type": "markdown",
   "id": "0fbc9127",
   "metadata": {},
   "source": [
    "# Model Evaluation"
   ]
  },
  {
   "cell_type": "code",
   "execution_count": 48,
   "id": "468facf9",
   "metadata": {},
   "outputs": [
    {
     "data": {
      "text/plain": [
       "array([[37,  1,  0],\n",
       "       [ 4, 12, 23],\n",
       "       [ 2,  4, 92]], dtype=int64)"
      ]
     },
     "execution_count": 48,
     "metadata": {},
     "output_type": "execute_result"
    }
   ],
   "source": [
    "cnf_matrix = confusion_matrix(y_test,y_pred)\n",
    "cnf_matrix"
   ]
  },
  {
   "attachments": {
    "image.png": {
     "image/png": "[encoded data removed]"
    }
   },
   "cell_type": "markdown",
   "id": "145bf341",
   "metadata": {},
   "source": [
    "![image.png](attachment:image.png)"
   ]
  },
  {
   "cell_type": "raw",
   "id": "df19cdba",
   "metadata": {},
   "source": [
    "      Predicted\n",
    "    1         0\n",
    "   TP        FN      1      Actual\n",
    "   FP        TN      0"
   ]
  },
  {
   "cell_type": "code",
   "execution_count": 58,
   "id": "0e6ef13b",
   "metadata": {},
   "outputs": [
    {
     "data": {
      "text/plain": [
       "array([[[131,   6],\n",
       "        [  1,  37]],\n",
       "\n",
       "       [[131,   5],\n",
       "        [ 27,  12]],\n",
       "\n",
       "       [[ 54,  23],\n",
       "        [  6,  92]]], dtype=int64)"
      ]
     },
     "execution_count": 58,
     "metadata": {},
     "output_type": "execute_result"
    }
   ],
   "source": [
    "multiclass_conf_matrix = multilabel_confusion_matrix(y_test,y_pred)\n",
    "multiclass_conf_matrix"
   ]
  },
  {
   "cell_type": "code",
   "execution_count": 62,
   "id": "8c159dfe",
   "metadata": {},
   "outputs": [
    {
     "data": {
      "text/plain": [
       "0.8604651162790697"
      ]
     },
     "execution_count": 62,
     "metadata": {},
     "output_type": "execute_result"
    }
   ],
   "source": [
    "# Precision >> Tp/Tp+Fp\n",
    "\n",
    "(37)/(37+6)   #class1 precision"
   ]
  },
  {
   "cell_type": "code",
   "execution_count": 66,
   "id": "01ff2b9b",
   "metadata": {},
   "outputs": [
    {
     "data": {
      "text/plain": [
       "0.7058823529411765"
      ]
     },
     "execution_count": 66,
     "metadata": {},
     "output_type": "execute_result"
    }
   ],
   "source": [
    "12/17   #class2 precision"
   ]
  },
  {
   "cell_type": "code",
   "execution_count": 68,
   "id": "864ae1a9",
   "metadata": {},
   "outputs": [
    {
     "data": {
      "text/plain": [
       "0.8"
      ]
     },
     "execution_count": 68,
     "metadata": {},
     "output_type": "execute_result"
    }
   ],
   "source": [
    "92/(92+23) #class3 precision"
   ]
  },
  {
   "cell_type": "code",
   "execution_count": 69,
   "id": "6d041511",
   "metadata": {},
   "outputs": [
    {
     "data": {
      "text/plain": [
       "0.9736842105263158"
      ]
     },
     "execution_count": 69,
     "metadata": {},
     "output_type": "execute_result"
    }
   ],
   "source": [
    "# Recall >> Tp/(Tp+Fn)\n",
    "37/(37+1)    #class1 recall"
   ]
  },
  {
   "cell_type": "code",
   "execution_count": 65,
   "id": "4ff0c883",
   "metadata": {},
   "outputs": [
    {
     "data": {
      "text/plain": [
       "0.8057142857142857"
      ]
     },
     "execution_count": 65,
     "metadata": {},
     "output_type": "execute_result"
    }
   ],
   "source": [
    "# accuracy >> Tp+Tn/Tp+Tn+Fp+Fn\n",
    "\n",
    "(37+92+12)/(37+92+12+23+4+1+6)"
   ]
  },
  {
   "cell_type": "code",
   "execution_count": 52,
   "id": "d7903934",
   "metadata": {},
   "outputs": [
    {
     "data": {
      "text/plain": [
       "0.8057142857142857"
      ]
     },
     "execution_count": 52,
     "metadata": {},
     "output_type": "execute_result"
    }
   ],
   "source": [
    "accuracy_score(y_test,y_pred)"
   ]
  },
  {
   "cell_type": "code",
   "execution_count": 61,
   "id": "be2203e1",
   "metadata": {},
   "outputs": [
    {
     "name": "stdout",
     "output_type": "stream",
     "text": [
      "              precision    recall  f1-score   support\n",
      "\n",
      "           1       0.86      0.97      0.91        38\n",
      "           2       0.71      0.31      0.43        39\n",
      "           3       0.80      0.94      0.86        98\n",
      "\n",
      "    accuracy                           0.81       175\n",
      "   macro avg       0.79      0.74      0.74       175\n",
      "weighted avg       0.79      0.81      0.78       175\n",
      "\n"
     ]
    }
   ],
   "source": [
    "print(classification_report(y_test,y_pred))"
   ]
  },
  {
   "cell_type": "code",
   "execution_count": 53,
   "id": "96cac87d",
   "metadata": {
    "collapsed": true
   },
   "outputs": [
    {
     "data": {
      "text/plain": [
       "array([[6.53237023e-01, 2.05835141e-01, 1.40927836e-01],\n",
       "       [3.01772179e-02, 3.63703370e-01, 6.06119412e-01],\n",
       "       [1.37051555e-02, 6.00227886e-01, 3.86066958e-01],\n",
       "       [1.45298816e-03, 7.99408224e-03, 9.90552930e-01],\n",
       "       [6.90411064e-02, 2.98333855e-01, 6.32625038e-01],\n",
       "       [7.20840065e-01, 2.72481604e-01, 6.67833123e-03],\n",
       "       [9.39043841e-01, 6.07880040e-02, 1.68155340e-04],\n",
       "       [2.77471539e-02, 7.03288889e-02, 9.01923957e-01],\n",
       "       [9.99881746e-03, 1.79838048e-01, 8.10163134e-01],\n",
       "       [2.73186047e-01, 6.98074215e-01, 2.87397373e-02],\n",
       "       [4.09664694e-02, 7.70869080e-02, 8.81946623e-01],\n",
       "       [5.60884710e-01, 3.94412222e-01, 4.47030678e-02],\n",
       "       [6.34358534e-01, 3.62929548e-01, 2.71191854e-03],\n",
       "       [7.97362480e-02, 2.95667165e-01, 6.24596587e-01],\n",
       "       [4.10554803e-02, 1.72922365e-01, 7.86022155e-01],\n",
       "       [9.85814156e-01, 1.40828826e-02, 1.02961098e-04],\n",
       "       [1.22006007e-02, 1.46852045e-01, 8.40947354e-01],\n",
       "       [4.58942723e-04, 1.49533000e-02, 9.84587757e-01],\n",
       "       [9.48827516e-01, 5.11322780e-02, 4.02055200e-05],\n",
       "       [1.15186379e-02, 5.19048688e-01, 4.69432674e-01],\n",
       "       [1.47982129e-02, 3.24514360e-02, 9.52750351e-01],\n",
       "       [3.84980145e-02, 5.73861697e-02, 9.04115816e-01],\n",
       "       [4.75296458e-03, 1.93767828e-01, 8.01479208e-01],\n",
       "       [6.27184331e-03, 2.58037479e-02, 9.67924409e-01],\n",
       "       [2.23305653e-02, 1.69314898e-01, 8.08354537e-01],\n",
       "       [1.73713281e-02, 7.57572671e-02, 9.06871405e-01],\n",
       "       [8.00444599e-01, 1.86928849e-01, 1.26265516e-02],\n",
       "       [6.85836441e-03, 2.70714925e-01, 7.22426710e-01],\n",
       "       [3.44487705e-01, 6.52289012e-01, 3.22328299e-03],\n",
       "       [1.46829312e-02, 2.18461384e-01, 7.66855685e-01],\n",
       "       [6.08592358e-01, 3.89401705e-01, 2.00593710e-03],\n",
       "       [4.16508173e-04, 9.70687833e-02, 9.02514709e-01],\n",
       "       [9.68035727e-01, 2.98389193e-02, 2.12535351e-03],\n",
       "       [1.55838110e-01, 5.29059976e-01, 3.15101913e-01],\n",
       "       [1.68820265e-02, 2.70523896e-01, 7.12594078e-01],\n",
       "       [2.71562336e-02, 1.79708638e-01, 7.93135128e-01],\n",
       "       [9.71108608e-01, 2.55983317e-02, 3.29306054e-03],\n",
       "       [5.01328751e-02, 8.45415075e-02, 8.65325617e-01],\n",
       "       [1.40460770e-02, 1.46831395e-01, 8.39122528e-01],\n",
       "       [8.70048204e-03, 5.23235050e-01, 4.68064468e-01],\n",
       "       [5.50215423e-01, 4.44960826e-01, 4.82375048e-03],\n",
       "       [1.85141288e-02, 2.13455460e-02, 9.60140325e-01],\n",
       "       [9.92894731e-01, 7.09804742e-03, 7.22146626e-06],\n",
       "       [5.91508461e-06, 1.49148904e-01, 8.50845180e-01],\n",
       "       [5.94032150e-01, 3.98126109e-01, 7.84174168e-03],\n",
       "       [1.84987637e-02, 1.93371642e-01, 7.88129595e-01],\n",
       "       [1.33337069e-02, 1.51422364e-01, 8.35243929e-01],\n",
       "       [7.25892326e-01, 2.72810769e-01, 1.29690539e-03],\n",
       "       [3.43534831e-03, 5.97022425e-01, 3.99542226e-01],\n",
       "       [5.07298320e-03, 6.89392290e-02, 9.25987788e-01],\n",
       "       [8.87265045e-02, 3.36035195e-01, 5.75238301e-01],\n",
       "       [4.15901939e-02, 2.28882476e-01, 7.29527330e-01],\n",
       "       [4.92074245e-02, 2.64476512e-01, 6.86316063e-01],\n",
       "       [7.50903860e-01, 2.48725929e-01, 3.70210418e-04],\n",
       "       [1.40230457e-01, 6.13746749e-01, 2.46022794e-01],\n",
       "       [1.43508065e-01, 4.10083942e-01, 4.46407994e-01],\n",
       "       [9.94122315e-01, 5.87761399e-03, 7.09228751e-08],\n",
       "       [4.38884545e-02, 7.83056062e-02, 8.77805939e-01],\n",
       "       [1.68268998e-03, 1.17958136e-01, 8.80359174e-01],\n",
       "       [7.27865221e-02, 2.04809836e-01, 7.22403642e-01],\n",
       "       [7.99580889e-02, 8.88577753e-02, 8.31184136e-01],\n",
       "       [9.80097768e-01, 1.99014338e-02, 7.97987044e-07],\n",
       "       [1.30191835e-02, 1.49369470e-01, 8.37611347e-01],\n",
       "       [2.10760602e-01, 2.72945539e-01, 5.16293859e-01],\n",
       "       [9.74206160e-02, 3.57557031e-01, 5.45022353e-01],\n",
       "       [8.09866034e-02, 2.86145878e-02, 8.90398809e-01],\n",
       "       [6.17970349e-01, 3.05049432e-01, 7.69802185e-02],\n",
       "       [2.10226275e-03, 6.93138238e-02, 9.28583913e-01],\n",
       "       [1.90638234e-02, 2.88424975e-01, 6.92511202e-01],\n",
       "       [2.76270028e-02, 4.16152986e-01, 5.56220012e-01],\n",
       "       [6.54837869e-01, 2.81528098e-01, 6.36340325e-02],\n",
       "       [1.37574545e-02, 1.60475138e-01, 8.25767408e-01],\n",
       "       [1.04610471e-02, 3.56335085e-01, 6.33203868e-01],\n",
       "       [1.61884387e-01, 3.16026705e-01, 5.22088908e-01],\n",
       "       [9.99666210e-01, 3.33789048e-04, 8.46208648e-10],\n",
       "       [1.52190636e-02, 1.47637620e-01, 8.37143316e-01],\n",
       "       [3.30545327e-03, 8.98516315e-03, 9.87709384e-01],\n",
       "       [4.80500050e-02, 1.95836073e-01, 7.56113922e-01],\n",
       "       [3.58824299e-02, 2.65983183e-01, 6.98134387e-01],\n",
       "       [1.40780170e-03, 5.84721682e-02, 9.40120030e-01],\n",
       "       [2.51025864e-02, 1.74895542e-01, 8.00001872e-01],\n",
       "       [9.98936012e-01, 1.06396029e-03, 2.78367872e-08],\n",
       "       [7.51800904e-03, 3.42294345e-02, 9.58252557e-01],\n",
       "       [7.18650571e-01, 2.70190892e-01, 1.11585374e-02],\n",
       "       [9.38124059e-03, 7.83565146e-02, 9.12262245e-01],\n",
       "       [1.74546131e-02, 1.69500803e-01, 8.13044584e-01],\n",
       "       [9.92427086e-01, 7.44659064e-03, 1.26322944e-04],\n",
       "       [9.33693347e-02, 2.00861780e-01, 7.05768885e-01],\n",
       "       [1.25352900e-02, 4.57147257e-02, 9.41749984e-01],\n",
       "       [1.65181027e-02, 1.46500887e-01, 8.36981010e-01],\n",
       "       [5.72214547e-03, 1.04439647e-02, 9.83833890e-01],\n",
       "       [6.66639474e-02, 4.62925174e-01, 4.70410879e-01],\n",
       "       [2.84657922e-06, 1.42221213e-03, 9.98574941e-01],\n",
       "       [2.02677806e-01, 3.49730992e-01, 4.47591202e-01],\n",
       "       [9.99662222e-01, 3.37774250e-04, 3.31483083e-09],\n",
       "       [8.72800622e-01, 1.26373605e-01, 8.25772702e-04],\n",
       "       [9.67539765e-01, 3.24540718e-02, 6.16365586e-06],\n",
       "       [1.47470786e-02, 1.54049876e-01, 8.31203045e-01],\n",
       "       [3.16764314e-03, 1.73492016e-01, 8.23340341e-01],\n",
       "       [1.07826243e-01, 4.62531137e-01, 4.29642621e-01],\n",
       "       [9.87320299e-01, 1.26788625e-02, 8.38545296e-07],\n",
       "       [1.58353399e-02, 2.51704808e-01, 7.32459852e-01],\n",
       "       [1.55294832e-05, 4.39486896e-02, 9.56035781e-01],\n",
       "       [1.81477654e-02, 5.65422784e-01, 4.16429450e-01],\n",
       "       [4.00300341e-01, 3.21099735e-01, 2.78599924e-01],\n",
       "       [1.20443342e-01, 3.94021497e-01, 4.85535161e-01],\n",
       "       [9.90768643e-01, 9.23108256e-03, 2.74604562e-07],\n",
       "       [1.46802818e-02, 3.22951296e-02, 9.53024589e-01],\n",
       "       [9.97775621e-01, 2.22429967e-03, 7.90747094e-08],\n",
       "       [2.25835544e-02, 1.70389079e-01, 8.07027366e-01],\n",
       "       [1.27009722e-02, 1.47267991e-01, 8.40031037e-01],\n",
       "       [5.70578683e-03, 2.90489788e-01, 7.03804425e-01],\n",
       "       [7.47918240e-02, 7.21061477e-01, 2.04146699e-01],\n",
       "       [4.95203981e-01, 4.89337025e-01, 1.54589936e-02],\n",
       "       [9.95742650e-01, 4.25716527e-03, 1.84723637e-07],\n",
       "       [3.51900997e-02, 1.97316142e-01, 7.67493759e-01],\n",
       "       [1.46280576e-02, 3.22257452e-02, 9.53146197e-01],\n",
       "       [2.08419494e-02, 1.69510619e-01, 8.09647432e-01],\n",
       "       [1.90863765e-03, 1.47294184e-01, 8.50797178e-01],\n",
       "       [9.86702006e-04, 1.70649053e-01, 8.28364245e-01],\n",
       "       [4.22300147e-01, 4.91650612e-01, 8.60492408e-02],\n",
       "       [1.14765301e-02, 2.19832450e-01, 7.68691020e-01],\n",
       "       [4.73678233e-03, 3.35196923e-01, 6.60066295e-01],\n",
       "       [9.43620014e-02, 2.01902077e-01, 7.03735922e-01],\n",
       "       [6.83739489e-02, 9.02785005e-02, 8.41347551e-01],\n",
       "       [3.47777560e-02, 1.77616039e-01, 7.87606205e-01],\n",
       "       [1.66151142e-02, 1.55213989e-01, 8.28170897e-01],\n",
       "       [1.67252181e-03, 1.48695102e-01, 8.49632376e-01],\n",
       "       [2.63728219e-02, 1.78569399e-01, 7.95057779e-01],\n",
       "       [9.06743314e-04, 9.32682100e-02, 9.05825047e-01],\n",
       "       [1.64399784e-02, 1.60608287e-01, 8.22951734e-01],\n",
       "       [7.46518783e-01, 2.12476249e-01, 4.10049688e-02],\n",
       "       [2.58543049e-02, 1.77797983e-01, 7.96347712e-01],\n",
       "       [4.53992714e-02, 9.94234550e-02, 8.55177274e-01],\n",
       "       [1.37103136e-04, 1.08309206e-01, 8.91553691e-01],\n",
       "       [1.54891750e-02, 1.58415265e-01, 8.26095560e-01],\n",
       "       [9.85157392e-01, 1.48369150e-02, 5.69321531e-06],\n",
       "       [1.33337069e-02, 1.51422364e-01, 8.35243929e-01],\n",
       "       [1.70101543e-01, 5.26908760e-01, 3.02989697e-01],\n",
       "       [3.42181796e-03, 2.10140135e-01, 7.86438047e-01],\n",
       "       [8.97271972e-04, 9.07765241e-02, 9.08326204e-01],\n",
       "       [6.86502020e-06, 2.72452365e-03, 9.97268611e-01],\n",
       "       [6.43171142e-02, 2.86471873e-01, 6.49211012e-01],\n",
       "       [5.82195260e-03, 1.05551606e-02, 9.83622887e-01],\n",
       "       [4.87646321e-01, 4.89520386e-01, 2.28332927e-02],\n",
       "       [2.71268226e-05, 5.93404409e-02, 9.40632432e-01],\n",
       "       [7.17873867e-01, 2.34435781e-01, 4.76903520e-02],\n",
       "       [2.23302415e-03, 1.58010349e-01, 8.39756627e-01],\n",
       "       [1.08040771e-01, 5.29218705e-01, 3.62740524e-01],\n",
       "       [2.55794856e-02, 4.27811260e-01, 5.46609254e-01],\n",
       "       [4.07505254e-02, 1.93746415e-01, 7.65503059e-01],\n",
       "       [6.74131868e-01, 3.09746506e-01, 1.61216263e-02],\n",
       "       [4.65687967e-02, 2.33836631e-01, 7.19594573e-01],\n",
       "       [2.07240409e-02, 1.94140146e-01, 7.85135813e-01],\n",
       "       [1.03580580e-01, 3.05432656e-01, 5.90986764e-01],\n",
       "       [9.32605055e-01, 6.72012542e-02, 1.93690402e-04],\n",
       "       [2.30667781e-02, 3.41918670e-01, 6.35014552e-01],\n",
       "       [1.95007723e-01, 3.16929375e-01, 4.88062902e-01],\n",
       "       [3.25576536e-01, 2.94393595e-01, 3.80029870e-01],\n",
       "       [7.51800904e-03, 3.42294345e-02, 9.58252557e-01],\n",
       "       [5.75369290e-02, 3.31122080e-01, 6.11340991e-01],\n",
       "       [5.14375705e-01, 4.82717893e-01, 2.90640217e-03],\n",
       "       [2.18529930e-01, 4.76497214e-01, 3.04972855e-01],\n",
       "       [1.50381624e-02, 4.25241828e-01, 5.59720009e-01],\n",
       "       [4.38514816e-02, 7.82674483e-02, 8.77881070e-01],\n",
       "       [2.63951824e-03, 1.36711358e-02, 9.83689346e-01],\n",
       "       [5.45895664e-02, 2.78978790e-01, 6.66431644e-01],\n",
       "       [1.10618685e-01, 5.29571961e-01, 3.59809355e-01],\n",
       "       [6.22425911e-03, 1.06843621e-02, 9.83091379e-01],\n",
       "       [4.37258032e-02, 2.68415428e-01, 6.87858769e-01],\n",
       "       [7.32357648e-01, 2.35974288e-01, 3.16680641e-02],\n",
       "       [5.37143553e-03, 1.94936700e-01, 7.99691865e-01],\n",
       "       [9.72800224e-01, 2.68820025e-02, 3.17773352e-04],\n",
       "       [5.38253420e-01, 4.24130376e-01, 3.76162033e-02],\n",
       "       [4.34035436e-01, 4.26047760e-01, 1.39916804e-01]])"
      ]
     },
     "execution_count": 53,
     "metadata": {},
     "output_type": "execute_result"
    }
   ],
   "source": [
    "y_pred_prob = Log_Reg.predict_proba(x_test)\n",
    "y_pred_prob"
   ]
  },
  {
   "cell_type": "code",
   "execution_count": null,
   "id": "c16f8400",
   "metadata": {},
   "outputs": [],
   "source": [
    "# dfx= pd.DataFrame(y_pred_prob)\n",
    "# dfx[dfx[1]>0.7]"
   ]
  }
 ],
 "metadata": {
  "kernelspec": {
   "display_name": "Python 3 (ipykernel)",
   "language": "python",
   "name": "python3"
  },
  "language_info": {
   "codemirror_mode": {
    "name": "ipython",
    "version": 3
   },
   "file_extension": ".py",
   "mimetype": "text/x-python",
   "name": "python",
   "nbconvert_exporter": "python",
   "pygments_lexer": "ipython3",
   "version": "3.9.7"
  },
  "toc": {
   "base_numbering": 1,
   "nav_menu": {},
   "number_sections": true,
   "sideBar": true,
   "skip_h1_title": false,
   "title_cell": "Table of Contents",
   "title_sidebar": "Contents",
   "toc_cell": false,
   "toc_position": {},
   "toc_section_display": true,
   "toc_window_display": false
  }
 },
 "nbformat": 4,
 "nbformat_minor": 5
}
