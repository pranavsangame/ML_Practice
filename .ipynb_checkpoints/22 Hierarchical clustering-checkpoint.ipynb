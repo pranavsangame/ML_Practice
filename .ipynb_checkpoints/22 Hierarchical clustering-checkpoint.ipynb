{
 "cells": [
  {
   "cell_type": "raw",
   "id": "8f3ea91b",
   "metadata": {},
   "source": [
    "Hierarchical Clustering\n",
    "Hierarchical is an unsupervised mahine learning algorithm. Used on unlabelled data.\n",
    "\n",
    "\n",
    "Hierarchical is a centroid based algorithm.\n",
    "Purpose >>  Cohesion - Grouping data points that are similar to each other. (points from the same cluster)\n",
    "            & Separtion - separating data points that are different from each other. (points from the differnt cluster)\n",
    "    \n",
    "Why we use?\n",
    "    We do not ground truth (target values) so, we can not evaluate model accuracy.\n",
    "    Feature scaling is required."
   ]
  },
  {
   "cell_type": "raw",
   "id": "a6719d80",
   "metadata": {},
   "source": [
    "There are 2 types in Hierarchical clustering:\n",
    "    1. Agglomerative ( Bottom to top approch)\n",
    "    2. Divisive    (Top to bottom approch)"
   ]
  },
  {
   "cell_type": "code",
   "execution_count": 1,
   "id": "f9613a10",
   "metadata": {},
   "outputs": [],
   "source": [
    "import pandas as pd\n",
    "import numpy as np\n",
    "import matplotlib.pyplot as plt\n",
    "%matplotlib inline\n",
    "from sklearn.metrics import silhouette_score"
   ]
  },
  {
   "cell_type": "code",
   "execution_count": 2,
   "id": "0c9fd8d1",
   "metadata": {},
   "outputs": [],
   "source": [
    "# Importing dataset by pandas\n",
    "data = pd.read_csv('Country_clusters.csv')"
   ]
  },
  {
   "cell_type": "code",
   "execution_count": 3,
   "id": "1e7bef87",
   "metadata": {},
   "outputs": [
    {
     "data": {
      "text/html": [
       "<div>\n",
       "<style scoped>\n",
       "    .dataframe tbody tr th:only-of-type {\n",
       "        vertical-align: middle;\n",
       "    }\n",
       "\n",
       "    .dataframe tbody tr th {\n",
       "        vertical-align: top;\n",
       "    }\n",
       "\n",
       "    .dataframe thead th {\n",
       "        text-align: right;\n",
       "    }\n",
       "</style>\n",
       "<table border=\"1\" class=\"dataframe\">\n",
       "  <thead>\n",
       "    <tr style=\"text-align: right;\">\n",
       "      <th></th>\n",
       "      <th>Unnamed: 0</th>\n",
       "      <th>Country</th>\n",
       "      <th>Lattitude</th>\n",
       "      <th>Longitude</th>\n",
       "      <th>Language</th>\n",
       "    </tr>\n",
       "  </thead>\n",
       "  <tbody>\n",
       "    <tr>\n",
       "      <th>0</th>\n",
       "      <td>0</td>\n",
       "      <td>USA</td>\n",
       "      <td>44.97</td>\n",
       "      <td>-103.77</td>\n",
       "      <td>English</td>\n",
       "    </tr>\n",
       "    <tr>\n",
       "      <th>1</th>\n",
       "      <td>1</td>\n",
       "      <td>Canada</td>\n",
       "      <td>62.40</td>\n",
       "      <td>-96.80</td>\n",
       "      <td>Canadian</td>\n",
       "    </tr>\n",
       "    <tr>\n",
       "      <th>2</th>\n",
       "      <td>2</td>\n",
       "      <td>France</td>\n",
       "      <td>46.75</td>\n",
       "      <td>2.40</td>\n",
       "      <td>French0</td>\n",
       "    </tr>\n",
       "    <tr>\n",
       "      <th>3</th>\n",
       "      <td>3</td>\n",
       "      <td>UK</td>\n",
       "      <td>54.01</td>\n",
       "      <td>-2.53</td>\n",
       "      <td>English</td>\n",
       "    </tr>\n",
       "    <tr>\n",
       "      <th>4</th>\n",
       "      <td>4</td>\n",
       "      <td>Germany</td>\n",
       "      <td>51.15</td>\n",
       "      <td>10.40</td>\n",
       "      <td>German</td>\n",
       "    </tr>\n",
       "    <tr>\n",
       "      <th>5</th>\n",
       "      <td>5</td>\n",
       "      <td>Austrelia</td>\n",
       "      <td>-25.45</td>\n",
       "      <td>133.11</td>\n",
       "      <td>English</td>\n",
       "    </tr>\n",
       "  </tbody>\n",
       "</table>\n",
       "</div>"
      ],
      "text/plain": [
       "   Unnamed: 0    Country  Lattitude  Longitude  Language\n",
       "0           0        USA      44.97    -103.77   English\n",
       "1           1     Canada      62.40     -96.80  Canadian\n",
       "2           2     France      46.75       2.40   French0\n",
       "3           3         UK      54.01      -2.53   English\n",
       "4           4    Germany      51.15      10.40    German\n",
       "5           5  Austrelia     -25.45     133.11   English"
      ]
     },
     "execution_count": 3,
     "metadata": {},
     "output_type": "execute_result"
    }
   ],
   "source": [
    "data"
   ]
  },
  {
   "cell_type": "code",
   "execution_count": 4,
   "id": "7bbc218c",
   "metadata": {},
   "outputs": [
    {
     "name": "stdout",
     "output_type": "stream",
     "text": [
      "<class 'pandas.core.frame.DataFrame'>\n",
      "RangeIndex: 6 entries, 0 to 5\n",
      "Data columns (total 5 columns):\n",
      " #   Column      Non-Null Count  Dtype  \n",
      "---  ------      --------------  -----  \n",
      " 0   Unnamed: 0  6 non-null      int64  \n",
      " 1   Country     6 non-null      object \n",
      " 2   Lattitude   6 non-null      float64\n",
      " 3   Longitude   6 non-null      float64\n",
      " 4   Language    6 non-null      object \n",
      "dtypes: float64(2), int64(1), object(2)\n",
      "memory usage: 368.0+ bytes\n"
     ]
    }
   ],
   "source": [
    "data.info()"
   ]
  },
  {
   "cell_type": "code",
   "execution_count": 5,
   "id": "7af01c5a",
   "metadata": {
    "scrolled": true
   },
   "outputs": [
    {
     "data": {
      "text/html": [
       "<div>\n",
       "<style scoped>\n",
       "    .dataframe tbody tr th:only-of-type {\n",
       "        vertical-align: middle;\n",
       "    }\n",
       "\n",
       "    .dataframe tbody tr th {\n",
       "        vertical-align: top;\n",
       "    }\n",
       "\n",
       "    .dataframe thead th {\n",
       "        text-align: right;\n",
       "    }\n",
       "</style>\n",
       "<table border=\"1\" class=\"dataframe\">\n",
       "  <thead>\n",
       "    <tr style=\"text-align: right;\">\n",
       "      <th></th>\n",
       "      <th>Lattitude</th>\n",
       "      <th>Longitude</th>\n",
       "    </tr>\n",
       "  </thead>\n",
       "  <tbody>\n",
       "    <tr>\n",
       "      <th>0</th>\n",
       "      <td>44.97</td>\n",
       "      <td>-103.77</td>\n",
       "    </tr>\n",
       "    <tr>\n",
       "      <th>1</th>\n",
       "      <td>62.40</td>\n",
       "      <td>-96.80</td>\n",
       "    </tr>\n",
       "    <tr>\n",
       "      <th>2</th>\n",
       "      <td>46.75</td>\n",
       "      <td>2.40</td>\n",
       "    </tr>\n",
       "    <tr>\n",
       "      <th>3</th>\n",
       "      <td>54.01</td>\n",
       "      <td>-2.53</td>\n",
       "    </tr>\n",
       "    <tr>\n",
       "      <th>4</th>\n",
       "      <td>51.15</td>\n",
       "      <td>10.40</td>\n",
       "    </tr>\n",
       "    <tr>\n",
       "      <th>5</th>\n",
       "      <td>-25.45</td>\n",
       "      <td>133.11</td>\n",
       "    </tr>\n",
       "  </tbody>\n",
       "</table>\n",
       "</div>"
      ],
      "text/plain": [
       "   Lattitude  Longitude\n",
       "0      44.97    -103.77\n",
       "1      62.40     -96.80\n",
       "2      46.75       2.40\n",
       "3      54.01      -2.53\n",
       "4      51.15      10.40\n",
       "5     -25.45     133.11"
      ]
     },
     "execution_count": 5,
     "metadata": {},
     "output_type": "execute_result"
    }
   ],
   "source": [
    "datasubset = data.loc[:, [\"Lattitude\",\"Longitude\"]]\n",
    "datasubset"
   ]
  },
  {
   "cell_type": "code",
   "execution_count": 12,
   "id": "e6d3c5f1",
   "metadata": {},
   "outputs": [
    {
     "data": {
      "text/plain": [
       "<matplotlib.collections.PathCollection at 0x1e8b15fdaf0>"
      ]
     },
     "execution_count": 12,
     "metadata": {},
     "output_type": "execute_result"
    },
    {
     "data": {
      "image/png": "[encoded data removed]",
      "text/plain": [
       "<Figure size 720x504 with 1 Axes>"
      ]
     },
     "metadata": {
      "needs_background": "light"
     },
     "output_type": "display_data"
    }
   ],
   "source": [
    "plt.figure(figsize=(10, 7))\n",
    "plt.scatter(datasubset[[\"Lattitude\"]], datasubset[[\"Longitude\"]], s=300, c='blue')"
   ]
  },
  {
   "cell_type": "code",
   "execution_count": 9,
   "id": "eae584e5",
   "metadata": {},
   "outputs": [
    {
     "data": {
      "image/png": "[encoded data removed]",
      "text/plain": [
       "<Figure size 720x504 with 1 Axes>"
      ]
     },
     "metadata": {
      "needs_background": "light"
     },
     "output_type": "display_data"
    }
   ],
   "source": [
    "import scipy.cluster.hierarchy as sch\n",
    "plt.figure(figsize=(10, 7))\n",
    "\n",
    "\n",
    "dendrogram = sch.dendrogram(sch.linkage(datasubset, method  = \"ward\"))\n",
    "plt.title('Dendrogram')\n",
    "plt.xlabel('Lattitude')\n",
    "plt.ylabel('Longitude')\n",
    "plt.show()\n",
    "\n",
    "#check for largest distance vertically without crossing any horizontal line"
   ]
  },
  {
   "cell_type": "markdown",
   "id": "3fc78c8b",
   "metadata": {},
   "source": [
    "# Algomerative Clustering"
   ]
  },
  {
   "cell_type": "code",
   "execution_count": 14,
   "id": "84474d53",
   "metadata": {},
   "outputs": [
    {
     "data": {
      "text/plain": [
       "array([0, 0, 0, 0, 0, 1], dtype=int64)"
      ]
     },
     "execution_count": 14,
     "metadata": {},
     "output_type": "execute_result"
    }
   ],
   "source": [
    "from sklearn.cluster import AgglomerativeClustering\n",
    "\n",
    "cluster = AgglomerativeClustering(n_clusters=2, affinity='euclidean', linkage='ward')  \n",
    "cl = cluster.fit_predict(datasubset)\n",
    "cl"
   ]
  },
  {
   "cell_type": "code",
   "execution_count": 16,
   "id": "6a33ae26",
   "metadata": {},
   "outputs": [
    {
     "data": {
      "text/plain": [
       "0.5304645611596158"
      ]
     },
     "execution_count": 16,
     "metadata": {},
     "output_type": "execute_result"
    }
   ],
   "source": [
    "silhouette_score(datasubset,cl)"
   ]
  },
  {
   "cell_type": "code",
   "execution_count": 24,
   "id": "7a3b52de",
   "metadata": {},
   "outputs": [
    {
     "name": "stdout",
     "output_type": "stream",
     "text": [
      "value of k is 2 & value of seilhoutte score is 0.5304645611596158\n",
      "value of k is 3 & value of seilhoutte score is 0.7232813961472381\n",
      "value of k is 4 & value of seilhoutte score is 0.4484580204468096\n",
      "value of k is 5 & value of seilhoutte score is 0.06268959249436608\n"
     ]
    }
   ],
   "source": [
    "sc_list=[]\n",
    "\n",
    "for i in range(2,6):\n",
    "    cluster = AgglomerativeClustering(n_clusters=i, affinity='euclidean', linkage='ward')  \n",
    "    cls = cluster.fit_predict(datasubset)\n",
    "    sc = silhouette_score(datasubset,cls)\n",
    "    sc_list.append(sc)\n",
    "    \n",
    "    print(f'value of k is {i} & value of seilhoutte score is {sc}')"
   ]
  },
  {
   "cell_type": "code",
   "execution_count": 23,
   "id": "56896e3f",
   "metadata": {},
   "outputs": [
    {
     "data": {
      "text/plain": [
       "[0.5304645611596158,\n",
       " 0.7232813961472381,\n",
       " 0.4484580204468096,\n",
       " 0.06268959249436608]"
      ]
     },
     "execution_count": 23,
     "metadata": {},
     "output_type": "execute_result"
    }
   ],
   "source": [
    "sc_list"
   ]
  },
  {
   "cell_type": "code",
   "execution_count": 35,
   "id": "af7ca65d",
   "metadata": {},
   "outputs": [],
   "source": [
    "X = datasubset.values"
   ]
  },
  {
   "cell_type": "code",
   "execution_count": 36,
   "id": "6ae93092",
   "metadata": {},
   "outputs": [
    {
     "data": {
      "text/plain": [
       "array([[  44.97, -103.77],\n",
       "       [  62.4 ,  -96.8 ],\n",
       "       [  46.75,    2.4 ],\n",
       "       [  54.01,   -2.53],\n",
       "       [  51.15,   10.4 ],\n",
       "       [ -25.45,  133.11]])"
      ]
     },
     "execution_count": 36,
     "metadata": {},
     "output_type": "execute_result"
    }
   ],
   "source": [
    "X"
   ]
  },
  {
   "cell_type": "code",
   "execution_count": 29,
   "id": "e796a4d8",
   "metadata": {},
   "outputs": [
    {
     "data": {
      "text/plain": [
       "array([[0],\n",
       "       [0],\n",
       "       [0],\n",
       "       [0],\n",
       "       [0],\n",
       "       [1]], dtype=int64)"
      ]
     },
     "execution_count": 29,
     "metadata": {},
     "output_type": "execute_result"
    }
   ],
   "source": [
    "cl.reshape(6,1)"
   ]
  },
  {
   "cell_type": "code",
   "execution_count": 22,
   "id": "8d054240",
   "metadata": {},
   "outputs": [
    {
     "data": {
      "image/png": "[encoded data removed]",
      "text/plain": [
       "<Figure size 720x504 with 1 Axes>"
      ]
     },
     "metadata": {
      "needs_background": "light"
     },
     "output_type": "display_data"
    }
   ],
   "source": [
    "plt.figure(figsize=(10, 7))  \n",
    "plt.scatter(X[cl==0, 0], X[cl==0, 1], s=100, c='red', label ='Cluster 1')\n",
    "plt.scatter(X[cl==1, 0], X[cl==1, 1], s=100, c='blue', label ='Cluster 2')\n",
    "plt.title('Customer segmentation')\n",
    "plt.xlabel('Latitude')\n",
    "plt.ylabel('Longitude')\n",
    "plt.show()"
   ]
  },
  {
   "cell_type": "code",
   "execution_count": 31,
   "id": "34bed7e3",
   "metadata": {},
   "outputs": [],
   "source": [
    "from sklearn.cluster import AgglomerativeClustering\n",
    "\n",
    "cluster = AgglomerativeClustering(n_clusters=3, affinity='euclidean', linkage='ward')  \n",
    "zzz = cluster.fit_predict(datasubset)"
   ]
  },
  {
   "cell_type": "code",
   "execution_count": 32,
   "id": "aa270879",
   "metadata": {},
   "outputs": [
    {
     "data": {
      "text/plain": [
       "0.7232813961472381"
      ]
     },
     "execution_count": 32,
     "metadata": {},
     "output_type": "execute_result"
    }
   ],
   "source": [
    "silhouette_score(datasubset,zzz)"
   ]
  },
  {
   "cell_type": "code",
   "execution_count": 33,
   "id": "e0a895d6",
   "metadata": {},
   "outputs": [
    {
     "data": {
      "text/plain": [
       "array([0, 0, 2, 2, 2, 1], dtype=int64)"
      ]
     },
     "execution_count": 33,
     "metadata": {},
     "output_type": "execute_result"
    }
   ],
   "source": [
    "zzz"
   ]
  },
  {
   "cell_type": "code",
   "execution_count": 42,
   "id": "4573229c",
   "metadata": {},
   "outputs": [
    {
     "data": {
      "image/png": "[encoded data removed]",
      "text/plain": [
       "<Figure size 720x504 with 1 Axes>"
      ]
     },
     "metadata": {
      "needs_background": "light"
     },
     "output_type": "display_data"
    }
   ],
   "source": [
    "plt.figure(figsize=(10, 7))  \n",
    "plt.scatter(X[cl==0, 0], X[cl==0, 1], s=100, c='red', label ='Cluster 1')\n",
    "plt.scatter(X[cl==2, 0], X[cl==2, 1], s=100, c='blue', label ='Cluster 2')\n",
    "plt.scatter(X[cl==1, 0], X[cl==1, 1], s=100, c='green', label ='Cluster 3')\n",
    "plt.title('Customer segmentation')\n",
    "plt.xlabel('Latitude')\n",
    "plt.ylabel('Longitude')\n",
    "plt.show()"
   ]
  },
  {
   "cell_type": "markdown",
   "id": "1c0c6eab",
   "metadata": {},
   "source": [
    "# K-Means Model Building"
   ]
  },
  {
   "cell_type": "code",
   "execution_count": 44,
   "id": "28717659",
   "metadata": {},
   "outputs": [
    {
     "name": "stderr",
     "output_type": "stream",
     "text": [
      "C:\\Users\\Pratik\\anaconda3\\lib\\site-packages\\sklearn\\cluster\\_kmeans.py:1332: UserWarning: KMeans is known to have a memory leak on Windows with MKL, when there are less chunks than available threads. You can avoid it by setting the environment variable OMP_NUM_THREADS=1.\n",
      "  warnings.warn(\n"
     ]
    },
    {
     "data": {
      "text/plain": [
       "array([0, 0, 0, 0, 0, 1])"
      ]
     },
     "execution_count": 44,
     "metadata": {},
     "output_type": "execute_result"
    }
   ],
   "source": [
    "from sklearn.cluster import KMeans\n",
    "\n",
    "kmeans= KMeans(n_clusters = 2, random_state = 42)\n",
    "\n",
    "\n",
    "kmeans.fit(X)\n",
    "\n",
    "\n",
    "pred = kmeans.predict(X)\n",
    "\n",
    "pred"
   ]
  },
  {
   "cell_type": "code",
   "execution_count": 45,
   "id": "9ebb4bc3",
   "metadata": {},
   "outputs": [
    {
     "data": {
      "text/plain": [
       "0.5304645611596158"
      ]
     },
     "execution_count": 45,
     "metadata": {},
     "output_type": "execute_result"
    }
   ],
   "source": [
    "silhouette_score(X,pred)"
   ]
  },
  {
   "cell_type": "code",
   "execution_count": 47,
   "id": "d1093437",
   "metadata": {},
   "outputs": [
    {
     "data": {
      "text/html": [
       "<div>\n",
       "<style scoped>\n",
       "    .dataframe tbody tr th:only-of-type {\n",
       "        vertical-align: middle;\n",
       "    }\n",
       "\n",
       "    .dataframe tbody tr th {\n",
       "        vertical-align: top;\n",
       "    }\n",
       "\n",
       "    .dataframe thead th {\n",
       "        text-align: right;\n",
       "    }\n",
       "</style>\n",
       "<table border=\"1\" class=\"dataframe\">\n",
       "  <thead>\n",
       "    <tr style=\"text-align: right;\">\n",
       "      <th></th>\n",
       "      <th>0</th>\n",
       "      <th>1</th>\n",
       "    </tr>\n",
       "  </thead>\n",
       "  <tbody>\n",
       "    <tr>\n",
       "      <th>0</th>\n",
       "      <td>0.397630</td>\n",
       "      <td>-0.917546</td>\n",
       "    </tr>\n",
       "    <tr>\n",
       "      <th>1</th>\n",
       "      <td>0.541810</td>\n",
       "      <td>-0.840501</td>\n",
       "    </tr>\n",
       "    <tr>\n",
       "      <th>2</th>\n",
       "      <td>0.998685</td>\n",
       "      <td>0.051269</td>\n",
       "    </tr>\n",
       "    <tr>\n",
       "      <th>3</th>\n",
       "      <td>0.998905</td>\n",
       "      <td>-0.046792</td>\n",
       "    </tr>\n",
       "    <tr>\n",
       "      <th>4</th>\n",
       "      <td>0.979949</td>\n",
       "      <td>0.199247</td>\n",
       "    </tr>\n",
       "  </tbody>\n",
       "</table>\n",
       "</div>"
      ],
      "text/plain": [
       "          0         1\n",
       "0  0.397630 -0.917546\n",
       "1  0.541810 -0.840501\n",
       "2  0.998685  0.051269\n",
       "3  0.998905 -0.046792\n",
       "4  0.979949  0.199247"
      ]
     },
     "execution_count": 47,
     "metadata": {},
     "output_type": "execute_result"
    }
   ],
   "source": [
    "#Result on scaled data\n",
    "\n",
    "from sklearn.preprocessing import normalize\n",
    "scaled = normalize(X)\n",
    "scaled = pd.DataFrame(scaled)\n",
    "scaled.head()"
   ]
  },
  {
   "cell_type": "code",
   "execution_count": 54,
   "id": "5ea5aebb",
   "metadata": {},
   "outputs": [
    {
     "data": {
      "image/png": "[encoded data removed]",
      "text/plain": [
       "<Figure size 720x432 with 1 Axes>"
      ]
     },
     "metadata": {
      "needs_background": "light"
     },
     "output_type": "display_data"
    }
   ],
   "source": [
    "import warnings\n",
    "warnings.filterwarnings('ignore')\n",
    "individual_clustering_score = []\n",
    "for i in range(1, 6):\n",
    "    kmeans = KMeans(n_clusters = i, init = 'random', random_state = 42)\n",
    "    kmeans.fit(scaled)\n",
    "    individual_clustering_score.append(kmeans.inertia_) \n",
    "    \n",
    "\n",
    "plt.figure(figsize=(10,6))\n",
    "plt.plot(range(1, 6), individual_clustering_score)\n",
    "plt.title('Elbow Method')\n",
    "plt.xlabel('Number of Clusters')\n",
    "plt.ylabel('Clustering Score')\n",
    "plt.show()"
   ]
  },
  {
   "cell_type": "code",
   "execution_count": null,
   "id": "0c71fc53",
   "metadata": {},
   "outputs": [],
   "source": [
    "from sklearn.cluster import "
   ]
  },
  {
   "cell_type": "code",
   "execution_count": null,
   "id": "75256a5e",
   "metadata": {},
   "outputs": [],
   "source": []
  }
 ],
 "metadata": {
  "kernelspec": {
   "display_name": "Python 3 (ipykernel)",
   "language": "python",
   "name": "python3"
  },
  "language_info": {
   "codemirror_mode": {
    "name": "ipython",
    "version": 3
   },
   "file_extension": ".py",
   "mimetype": "text/x-python",
   "name": "python",
   "nbconvert_exporter": "python",
   "pygments_lexer": "ipython3",
   "version": "3.9.7"
  },
  "toc": {
   "base_numbering": 1,
   "nav_menu": {},
   "number_sections": true,
   "sideBar": true,
   "skip_h1_title": false,
   "title_cell": "Table of Contents",
   "title_sidebar": "Contents",
   "toc_cell": false,
   "toc_position": {},
   "toc_section_display": true,
   "toc_window_display": false
  }
 },
 "nbformat": 4,
 "nbformat_minor": 5
}
