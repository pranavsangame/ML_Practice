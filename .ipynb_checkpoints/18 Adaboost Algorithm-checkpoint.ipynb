{
 "cells": [
  {
   "cell_type": "code",
   "execution_count": null,
   "id": "208f90c7",
   "metadata": {},
   "outputs": [],
   "source": [
    "Ensemble Methods:\n",
    "    Bagging .. Random Forest >> Parallel Approch\n",
    "    \n",
    "    Boosting .. Adaboost >> Sequential Approch"
   ]
  },
  {
   "cell_type": "code",
   "execution_count": null,
   "id": "d3164f0d",
   "metadata": {},
   "outputs": [],
   "source": [
    "Adaboost:\n",
    "    Adaptive Boosting Algorithm\n",
    "    Supervised Machine Learning Alorithm\n",
    "    Is a boosting algorithm is a part of ensembling method"
   ]
  },
  {
   "cell_type": "code",
   "execution_count": null,
   "id": "5aa40212",
   "metadata": {},
   "outputs": [],
   "source": [
    "wt       ht        Obesity   misclassified    wt        new weights     proportions    Range             Randomly picked no.\n",
    "\n",
    "55       155         y           y           0.14           0.058       0.083          0 - 0.083\n",
    "65       165         y           y           0.14           0.058       0.083          0.083 - 0.166\n",
    "75       175         n           n           0.14           0.058       0.083          0.166 - 0.249\n",
    "85       185         y           n           0.14           0.35        0.5            0.249 - 0.749\n",
    "80       180         n           n           0.14           0.058       0.083          0.749 - 0.832\n",
    "60       160         y           y           0.14           0.058       0.083          0.832 - 0.915\n",
    "70       170         n           n           0.14           0.058       0.083          0.915 - 1"
   ]
  },
  {
   "cell_type": "code",
   "execution_count": null,
   "id": "7c649bc8",
   "metadata": {},
   "outputs": [],
   "source": [
    "Total Error (TE): (1/7)  = 0.14"
   ]
  },
  {
   "cell_type": "code",
   "execution_count": null,
   "id": "af2f197f",
   "metadata": {},
   "outputs": [],
   "source": [
    "Performance of the model = 0.5 * np.log((1-TE)/TE"
   ]
  },
  {
   "cell_type": "code",
   "execution_count": 2,
   "id": "d5a80909",
   "metadata": {},
   "outputs": [
    {
     "data": {
      "text/plain": [
       "0.8958797346140276"
      ]
     },
     "execution_count": 2,
     "metadata": {},
     "output_type": "execute_result"
    }
   ],
   "source": [
    "import numpy as np\n",
    "Performance_say = 0.5 * np.log((1-(1/7))/(1/7))\n",
    "Performance_say"
   ]
  },
  {
   "cell_type": "code",
   "execution_count": null,
   "id": "d8698954",
   "metadata": {},
   "outputs": [],
   "source": [
    "sample weight of rightly classified = wt * e^(-Performance_say)\n",
    "\n",
    "sample weight of wrongly classified = wt * e^(+Performance_say)"
   ]
  },
  {
   "cell_type": "code",
   "execution_count": 6,
   "id": "52071588",
   "metadata": {},
   "outputs": [
    {
     "data": {
      "text/plain": [
       "0.05832118435198043"
      ]
     },
     "execution_count": 6,
     "metadata": {},
     "output_type": "execute_result"
    }
   ],
   "source": [
    "righly_classified= (1/7)*np.e**(-Performance_say)\n",
    "righly_classified"
   ]
  },
  {
   "cell_type": "code",
   "execution_count": 7,
   "id": "e142621e",
   "metadata": {},
   "outputs": [
    {
     "data": {
      "text/plain": [
       "0.3499271061118826"
      ]
     },
     "execution_count": 7,
     "metadata": {},
     "output_type": "execute_result"
    }
   ],
   "source": [
    "wrongly_classified= (1/7)*np.e**(+Performance_say)\n",
    "wrongly_classified"
   ]
  },
  {
   "cell_type": "code",
   "execution_count": 9,
   "id": "66b8aa05",
   "metadata": {},
   "outputs": [
    {
     "data": {
      "text/plain": [
       "0.6998542122237652"
      ]
     },
     "execution_count": 9,
     "metadata": {},
     "output_type": "execute_result"
    }
   ],
   "source": [
    "# Sum of new assigned weights\n",
    "total_weight=(6*righly_classified)+(1*wrongly_classified)\n",
    "total_weight"
   ]
  },
  {
   "cell_type": "code",
   "execution_count": 10,
   "id": "032ce337",
   "metadata": {},
   "outputs": [
    {
     "data": {
      "text/plain": [
       "0.08333333333333333"
      ]
     },
     "execution_count": 10,
     "metadata": {},
     "output_type": "execute_result"
    }
   ],
   "source": [
    "righly_classified/total_weight"
   ]
  },
  {
   "cell_type": "code",
   "execution_count": 11,
   "id": "ab849361",
   "metadata": {},
   "outputs": [
    {
     "data": {
      "text/plain": [
       "0.5"
      ]
     },
     "execution_count": 11,
     "metadata": {},
     "output_type": "execute_result"
    }
   ],
   "source": [
    "wrongly_classified/total_weight"
   ]
  },
  {
   "cell_type": "raw",
   "id": "c7d90b2e",
   "metadata": {},
   "source": [
    "Assumptions:\n",
    "    No Assumptions\n",
    "    \n",
    "Pros:\n",
    "    1. Tackes the overfitting issue.\n",
    "    2. Adaboost handles missing values.\n",
    "    3. Very good when the data is low biased & high variance.\n",
    "    4. It has a few numbers of parameters also to tune.\n",
    "    5. Doesnt require feature scaliing\n",
    "    \n",
    "cons:\n",
    "    1. For regression it doesn't perform that well.\n",
    "    2. Time complexity & memory storage is high.\n",
    "    3. It is complex compared to other algorithms.\n",
    "    4. Adaboost is sensitive to outliers.\n",
    "\n",
    "    \n",
    "    \n",
    "    \n",
    "Difference between Bagging & Boosting Algos:\n",
    "    \n",
    "Bagging:\n",
    "    1. The weak learners (trees) are connected in parallel to each other. (Parallel approch)\n",
    "    2. Bootstrap is used as resampling stategy.\n",
    "    3. Resampling is done not on the basis on weights assigned.\n",
    "    4. Variours data sets for every learner is randommly drawn from the original data. & they have no dependencies.\n",
    "    5. Bagging is used to mainly for overfittingng issues.\n",
    "    6. Every model is assigned equal weight.\n",
    "    7. Every model is constructed indepndently.\n",
    "    \n",
    "    \n",
    "Boosting:\n",
    "    1. The weak learners (trees) are connected in Series to each other. (Sequential approch)\n",
    "    2. Sampling is done based such that any random number is chosen & to whichever weight that number belongs that sample is chosen. However same sample is repeated multiple times beacause of high weights.\n",
    "    3. Resampling is done based on assigned weights.\n",
    "    4. There lies a data dependency of any learner on its previous learner.\n",
    "    5. boosting is good for both overfitting & underfitting. Adaboost does good for overfitting issue & GBoost & XGBoost are good for underfittingerfitting issue.\n",
    "    6. Models are weighted by their preformance.\n",
    "    7. New modelels are affected by the performance of the previous model."
   ]
  },
  {
   "cell_type": "code",
   "execution_count": 1,
   "id": "51c95a6c",
   "metadata": {},
   "outputs": [],
   "source": [
    "import pandas as pd\n",
    "import numpy as np\n",
    "from sklearn.model_selection import train_test_split\n",
    "from sklearn.ensemble import AdaBoostClassifier, AdaBoostRegressor\n",
    "from sklearn.metrics import accuracy_score, r2_score\n",
    "import seaborn as sns\n",
    "import matplotlib.pyplot as plt"
   ]
  },
  {
   "cell_type": "code",
   "execution_count": 2,
   "id": "fc0078b0",
   "metadata": {},
   "outputs": [
    {
     "data": {
      "text/html": [
       "<div>\n",
       "<style scoped>\n",
       "    .dataframe tbody tr th:only-of-type {\n",
       "        vertical-align: middle;\n",
       "    }\n",
       "\n",
       "    .dataframe tbody tr th {\n",
       "        vertical-align: top;\n",
       "    }\n",
       "\n",
       "    .dataframe thead th {\n",
       "        text-align: right;\n",
       "    }\n",
       "</style>\n",
       "<table border=\"1\" class=\"dataframe\">\n",
       "  <thead>\n",
       "    <tr style=\"text-align: right;\">\n",
       "      <th></th>\n",
       "      <th>Id</th>\n",
       "      <th>SepalLengthCm</th>\n",
       "      <th>SepalWidthCm</th>\n",
       "      <th>PetalLengthCm</th>\n",
       "      <th>PetalWidthCm</th>\n",
       "      <th>Species</th>\n",
       "    </tr>\n",
       "  </thead>\n",
       "  <tbody>\n",
       "    <tr>\n",
       "      <th>0</th>\n",
       "      <td>1</td>\n",
       "      <td>5.1</td>\n",
       "      <td>3.5</td>\n",
       "      <td>1.4</td>\n",
       "      <td>0.2</td>\n",
       "      <td>Iris-setosa</td>\n",
       "    </tr>\n",
       "    <tr>\n",
       "      <th>1</th>\n",
       "      <td>2</td>\n",
       "      <td>4.9</td>\n",
       "      <td>3.0</td>\n",
       "      <td>1.4</td>\n",
       "      <td>0.2</td>\n",
       "      <td>Iris-setosa</td>\n",
       "    </tr>\n",
       "    <tr>\n",
       "      <th>2</th>\n",
       "      <td>3</td>\n",
       "      <td>4.7</td>\n",
       "      <td>3.2</td>\n",
       "      <td>1.3</td>\n",
       "      <td>0.2</td>\n",
       "      <td>Iris-setosa</td>\n",
       "    </tr>\n",
       "    <tr>\n",
       "      <th>3</th>\n",
       "      <td>4</td>\n",
       "      <td>4.6</td>\n",
       "      <td>3.1</td>\n",
       "      <td>1.5</td>\n",
       "      <td>0.2</td>\n",
       "      <td>Iris-setosa</td>\n",
       "    </tr>\n",
       "    <tr>\n",
       "      <th>4</th>\n",
       "      <td>5</td>\n",
       "      <td>5.0</td>\n",
       "      <td>3.6</td>\n",
       "      <td>1.4</td>\n",
       "      <td>0.2</td>\n",
       "      <td>Iris-setosa</td>\n",
       "    </tr>\n",
       "    <tr>\n",
       "      <th>...</th>\n",
       "      <td>...</td>\n",
       "      <td>...</td>\n",
       "      <td>...</td>\n",
       "      <td>...</td>\n",
       "      <td>...</td>\n",
       "      <td>...</td>\n",
       "    </tr>\n",
       "    <tr>\n",
       "      <th>145</th>\n",
       "      <td>146</td>\n",
       "      <td>6.7</td>\n",
       "      <td>3.0</td>\n",
       "      <td>5.2</td>\n",
       "      <td>2.3</td>\n",
       "      <td>Iris-virginica</td>\n",
       "    </tr>\n",
       "    <tr>\n",
       "      <th>146</th>\n",
       "      <td>147</td>\n",
       "      <td>6.3</td>\n",
       "      <td>2.5</td>\n",
       "      <td>5.0</td>\n",
       "      <td>1.9</td>\n",
       "      <td>Iris-virginica</td>\n",
       "    </tr>\n",
       "    <tr>\n",
       "      <th>147</th>\n",
       "      <td>148</td>\n",
       "      <td>6.5</td>\n",
       "      <td>3.0</td>\n",
       "      <td>5.2</td>\n",
       "      <td>2.0</td>\n",
       "      <td>Iris-virginica</td>\n",
       "    </tr>\n",
       "    <tr>\n",
       "      <th>148</th>\n",
       "      <td>149</td>\n",
       "      <td>6.2</td>\n",
       "      <td>3.4</td>\n",
       "      <td>5.4</td>\n",
       "      <td>2.3</td>\n",
       "      <td>Iris-virginica</td>\n",
       "    </tr>\n",
       "    <tr>\n",
       "      <th>149</th>\n",
       "      <td>150</td>\n",
       "      <td>5.9</td>\n",
       "      <td>3.0</td>\n",
       "      <td>5.1</td>\n",
       "      <td>1.8</td>\n",
       "      <td>Iris-virginica</td>\n",
       "    </tr>\n",
       "  </tbody>\n",
       "</table>\n",
       "<p>150 rows × 6 columns</p>\n",
       "</div>"
      ],
      "text/plain": [
       "      Id  SepalLengthCm  SepalWidthCm  PetalLengthCm  PetalWidthCm  \\\n",
       "0      1            5.1           3.5            1.4           0.2   \n",
       "1      2            4.9           3.0            1.4           0.2   \n",
       "2      3            4.7           3.2            1.3           0.2   \n",
       "3      4            4.6           3.1            1.5           0.2   \n",
       "4      5            5.0           3.6            1.4           0.2   \n",
       "..   ...            ...           ...            ...           ...   \n",
       "145  146            6.7           3.0            5.2           2.3   \n",
       "146  147            6.3           2.5            5.0           1.9   \n",
       "147  148            6.5           3.0            5.2           2.0   \n",
       "148  149            6.2           3.4            5.4           2.3   \n",
       "149  150            5.9           3.0            5.1           1.8   \n",
       "\n",
       "            Species  \n",
       "0       Iris-setosa  \n",
       "1       Iris-setosa  \n",
       "2       Iris-setosa  \n",
       "3       Iris-setosa  \n",
       "4       Iris-setosa  \n",
       "..              ...  \n",
       "145  Iris-virginica  \n",
       "146  Iris-virginica  \n",
       "147  Iris-virginica  \n",
       "148  Iris-virginica  \n",
       "149  Iris-virginica  \n",
       "\n",
       "[150 rows x 6 columns]"
      ]
     },
     "execution_count": 2,
     "metadata": {},
     "output_type": "execute_result"
    }
   ],
   "source": [
    "df = pd.read_csv('Iris.csv')\n",
    "df"
   ]
  },
  {
   "cell_type": "code",
   "execution_count": 3,
   "id": "045c5f29",
   "metadata": {},
   "outputs": [],
   "source": [
    "df.drop('Id',axis=1,inplace=True)"
   ]
  },
  {
   "cell_type": "code",
   "execution_count": 4,
   "id": "d6f3786d",
   "metadata": {},
   "outputs": [
    {
     "data": {
      "text/plain": [
       "Iris-virginica     50\n",
       "Iris-versicolor    50\n",
       "Iris-setosa        50\n",
       "Name: Species, dtype: int64"
      ]
     },
     "execution_count": 4,
     "metadata": {},
     "output_type": "execute_result"
    }
   ],
   "source": [
    "df['Species'].value_counts()"
   ]
  },
  {
   "cell_type": "code",
   "execution_count": 5,
   "id": "ad00b0e7",
   "metadata": {},
   "outputs": [],
   "source": [
    "df['Species'].replace({'Iris-virginica':0,'Iris-versicolor':1,'Iris-setosa':2},inplace=True)"
   ]
  },
  {
   "cell_type": "code",
   "execution_count": 6,
   "id": "13127551",
   "metadata": {},
   "outputs": [
    {
     "name": "stdout",
     "output_type": "stream",
     "text": [
      "<class 'pandas.core.frame.DataFrame'>\n",
      "RangeIndex: 150 entries, 0 to 149\n",
      "Data columns (total 5 columns):\n",
      " #   Column         Non-Null Count  Dtype  \n",
      "---  ------         --------------  -----  \n",
      " 0   SepalLengthCm  150 non-null    float64\n",
      " 1   SepalWidthCm   150 non-null    float64\n",
      " 2   PetalLengthCm  150 non-null    float64\n",
      " 3   PetalWidthCm   150 non-null    float64\n",
      " 4   Species        150 non-null    int64  \n",
      "dtypes: float64(4), int64(1)\n",
      "memory usage: 6.0 KB\n"
     ]
    }
   ],
   "source": [
    "df.info()"
   ]
  },
  {
   "cell_type": "markdown",
   "id": "ac58176d",
   "metadata": {},
   "source": [
    "### Ada Classifier"
   ]
  },
  {
   "cell_type": "code",
   "execution_count": 7,
   "id": "1af121de",
   "metadata": {},
   "outputs": [],
   "source": [
    "x = df.drop('Species',axis=1)\n",
    "y = df.Species"
   ]
  },
  {
   "cell_type": "code",
   "execution_count": 8,
   "id": "ef9849cc",
   "metadata": {},
   "outputs": [],
   "source": [
    "x_train,x_test,y_train,y_test= train_test_split(x,y,test_size=0.15,random_state=2)"
   ]
  },
  {
   "cell_type": "code",
   "execution_count": 9,
   "id": "2acd61f8",
   "metadata": {},
   "outputs": [
    {
     "data": {
      "text/plain": [
       "AdaBoostClassifier(random_state=1)"
      ]
     },
     "execution_count": 9,
     "metadata": {},
     "output_type": "execute_result"
    }
   ],
   "source": [
    "ab_model= AdaBoostClassifier(random_state=1)\n",
    "ab_model.fit(x_train,y_train)"
   ]
  },
  {
   "cell_type": "code",
   "execution_count": 10,
   "id": "e8e2540d",
   "metadata": {},
   "outputs": [],
   "source": [
    "ada_y_prediction=ab_model.predict(x_test)"
   ]
  },
  {
   "cell_type": "code",
   "execution_count": 11,
   "id": "7e7ce60a",
   "metadata": {},
   "outputs": [
    {
     "data": {
      "text/plain": [
       "0.9130434782608695"
      ]
     },
     "execution_count": 11,
     "metadata": {},
     "output_type": "execute_result"
    }
   ],
   "source": [
    "accuracy_score(y_test,ada_y_prediction)"
   ]
  },
  {
   "cell_type": "code",
   "execution_count": 12,
   "id": "accbf68f",
   "metadata": {},
   "outputs": [
    {
     "data": {
      "text/plain": [
       "0.968503937007874"
      ]
     },
     "execution_count": 12,
     "metadata": {},
     "output_type": "execute_result"
    }
   ],
   "source": [
    "ada_y_prediction_train=ab_model.predict(x_train)\n",
    "accuracy_score(y_train,ada_y_prediction_train)"
   ]
  },
  {
   "cell_type": "markdown",
   "id": "2eceecb3",
   "metadata": {},
   "source": [
    "### Ada Regressor"
   ]
  },
  {
   "cell_type": "code",
   "execution_count": 13,
   "id": "c5d47644",
   "metadata": {},
   "outputs": [
    {
     "data": {
      "text/plain": [
       "Index(['SepalLengthCm', 'SepalWidthCm', 'PetalLengthCm', 'PetalWidthCm',\n",
       "       'Species'],\n",
       "      dtype='object')"
      ]
     },
     "execution_count": 13,
     "metadata": {},
     "output_type": "execute_result"
    }
   ],
   "source": [
    "df.columns"
   ]
  },
  {
   "cell_type": "code",
   "execution_count": 14,
   "id": "1aa4e08c",
   "metadata": {},
   "outputs": [],
   "source": [
    "x = df.drop('SepalLengthCm',axis=1)\n",
    "y = df.SepalLengthCm"
   ]
  },
  {
   "cell_type": "code",
   "execution_count": 16,
   "id": "ee799223",
   "metadata": {},
   "outputs": [
    {
     "data": {
      "text/plain": [
       "0.8600988109420696"
      ]
     },
     "execution_count": 16,
     "metadata": {},
     "output_type": "execute_result"
    }
   ],
   "source": [
    "x_train,x_test,y_train,y_test= train_test_split(x,y,test_size=0.15,random_state=2)\n",
    "ab_model_reg= AdaBoostRegressor(random_state=1)\n",
    "ab_model_reg.fit(x_train,y_train)\n",
    "ada_reg_y_pred=ab_model_reg.predict(x_test)\n",
    "test_r2score = r2_score(y_test,ada_reg_y_pred)\n",
    "test_r2score"
   ]
  },
  {
   "cell_type": "code",
   "execution_count": 18,
   "id": "0204f107",
   "metadata": {},
   "outputs": [
    {
     "data": {
      "text/plain": [
       "0.8974773448359818"
      ]
     },
     "execution_count": 18,
     "metadata": {},
     "output_type": "execute_result"
    }
   ],
   "source": [
    "x_train,x_test,y_train,y_test = train_test_split(x,y,test_size=0.15,random_state=2)\n",
    "ab_model_reg = AdaBoostRegressor(random_state=1)\n",
    "ab_model_reg.fit(x_train,y_train)\n",
    "ada_reg_y_pred_train = ab_model_reg.predict(x_train)\n",
    "train_r2score = r2_score(y_train,ada_reg_y_pred_train)\n",
    "train_r2score"
   ]
  },
  {
   "cell_type": "code",
   "execution_count": null,
   "id": "75b897fe",
   "metadata": {},
   "outputs": [],
   "source": []
  },
  {
   "cell_type": "code",
   "execution_count": null,
   "id": "63e1ee5b",
   "metadata": {},
   "outputs": [],
   "source": []
  }
 ],
 "metadata": {
  "kernelspec": {
   "display_name": "Python 3 (ipykernel)",
   "language": "python",
   "name": "python3"
  },
  "language_info": {
   "codemirror_mode": {
    "name": "ipython",
    "version": 3
   },
   "file_extension": ".py",
   "mimetype": "text/x-python",
   "name": "python",
   "nbconvert_exporter": "python",
   "pygments_lexer": "ipython3",
   "version": "3.9.7"
  },
  "toc": {
   "base_numbering": 1,
   "nav_menu": {},
   "number_sections": true,
   "sideBar": true,
   "skip_h1_title": false,
   "title_cell": "Table of Contents",
   "title_sidebar": "Contents",
   "toc_cell": false,
   "toc_position": {},
   "toc_section_display": true,
   "toc_window_display": false
  }
 },
 "nbformat": 4,
 "nbformat_minor": 5
}
