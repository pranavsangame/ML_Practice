{
 "cells": [
  {
   "cell_type": "raw",
   "id": "685409d1",
   "metadata": {},
   "source": [
    "Data Science:\n",
    "    It is a process of extracting knowledge & insights from data by using scientific methods."
   ]
  },
  {
   "cell_type": "raw",
   "id": "206db81a",
   "metadata": {},
   "source": [
    "Machine Learning:\n",
    "    ML is a subset of Artificial Inteligence that uses various Maths & stats to enable machine to learn & improve with experience.\n",
    "    Machine gets its experience from the increasing data that it works on.\n",
    "    ML uses different algorithm & programs to make data driven dicisions & they imporve as they are exposed to new data."
   ]
  },
  {
   "cell_type": "raw",
   "id": "e62feff6",
   "metadata": {},
   "source": [
    "Data & Types of ML:\n",
    "    structured data(labeled data):supervised ML algorithms\n",
    "    unstructed data(unlabeled data): unsupervised ML algorithms\n",
    "    both(labelled & unlabbeled data):semi-supervised Ml algorithms / reinforcement learning.\n",
    "    reward base algo. "
   ]
  },
  {
   "cell_type": "raw",
   "id": "b31f1f49",
   "metadata": {},
   "source": [
    "Method:\n",
    "    ML : Data is small, numeric data #machine Learning\n",
    "    DL : Data is huge, numeric as well as non numeric (text,image,audio,video) #Deep Learning\n",
    "    NLP: text data #Natural Language Processing`\n",
    "    Time Series: Timestamp data ( data in time format)\n",
    "        "
   ]
  },
  {
   "cell_type": "raw",
   "id": "cb30412b",
   "metadata": {},
   "source": [
    "Machine Learning :\n",
    "    Training data: (80% > data)\n",
    "    Testing data: (20% < data)"
   ]
  },
  {
   "cell_type": "raw",
   "id": "a7ebf3eb",
   "metadata": {},
   "source": [
    "Real Time Applications of ML:\n",
    "    Medical field: cancer,covid,cataract\n",
    "    House Price prediction\n",
    "    Stock Price\n",
    "    market analysis\n",
    "    customer segmentation\n",
    "    customer churn\n",
    "    whether analysis\n",
    "    sport industry\n",
    "    Banking domains\n",
    "    aviation sector\n",
    "    Advertising\n",
    "    chatboat, conversional AI"
   ]
  },
  {
   "cell_type": "code",
   "execution_count": null,
   "id": "3b69879f",
   "metadata": {},
   "outputs": [],
   "source": [
    "Supervised Algorithms:\n",
    "    Linear regression\n",
    "    Logistic Regression\n",
    "    KNN (k-nearest neighbours)\n",
    "    Decision Tree\n",
    "    Random Forest\n",
    "    Boosting algotihms\n",
    "    support vector machine\n",
    "    \n",
    "Unsupervised Algorithms:\n",
    "    k-means clustering\n",
    "    hierarchical clusering\n",
    "    PCA\n",
    "    algomerative clustering\n",
    "    divisive clustering"
   ]
  },
  {
   "cell_type": "raw",
   "id": "c17f6068",
   "metadata": {},
   "source": [
    "1. Supervised ML >> Structured Data (Labled)\n",
    "2. Unsupervised ML >> Unstructured Data (Unlabled)\n",
    "3. Reinforcement ML >> Rewards Based. \n",
    "\n",
    "\n",
    "Types variables in ML:\n",
    "    1. Independent variables (Input Variables, Predictors)\n",
    "    2. Dependent Variables(Output variables, Target Variable)"
   ]
  },
  {
   "cell_type": "code",
   "execution_count": null,
   "id": "02e6adee",
   "metadata": {},
   "outputs": [],
   "source": [
    "Data Science:\n",
    "    It is a process of extracting knowledge & insights from data by using scientific methods.\n",
    "\n",
    "Machine Learning:\n",
    "    ML is a subset of Artificial Inteligence that uses various Maths & stats to enable machine to learn & improve with experience.\n",
    "    Machine gets its experience from the increasing data that it works on.\n",
    "    ML uses different algorithm & programs to make data driven dicisions & they imporve as they are exposed to new data.\n",
    "\n",
    "Data & Types of ML:\n",
    "    structured data(labeled data):supervised ML algorithms\n",
    "    unstructed data(unlabeled data): unsupervised ML algorithms\n",
    "    both(labelled & unlabbeled data):semi-supervised Ml algorithms / reinforcement learning.\n",
    "\n",
    "Method:\n",
    "    ML : Data is small, numeric data #machine Learning\n",
    "    DL : Data is huge, numeric as well as non numeric (text,image,audio,video) #Deep Learning\n",
    "    NLP: text data #Natural Language Processing\n",
    "    Time Series: Timestamp data ( data in time format)\n",
    "        \n",
    "\n",
    "Machine Learning :\n",
    "    Training data: (80% > data)\n",
    "    Testing data: (20% < data)\n",
    "\n",
    "Real Time Applications of ML:\n",
    "    Medical field: cancer,covid,cataract\n",
    "    House Price prediction\n",
    "    Stock Price\n",
    "    market analysis\n",
    "    customer segmentation\n",
    "    customer churn\n",
    "    whether analysis\n",
    "    sport industry\n",
    "    Banking domains\n",
    "    aviation sector\n",
    "    Advertising\n",
    "    chatboat, conversional AI\n",
    "\n",
    "Supervised Algorithms:\n",
    "    Linear regression\n",
    "    Logistic Regression\n",
    "    KNN (k-nearest neighbours)\n",
    "    Decision Tree\n",
    "    Random Forest\n",
    "    Boosting algotihms\n",
    "    support vector machine\n",
    "    \n",
    "Unsupervised Algorithms:\n",
    "    k-means clustering\n",
    "    hierarchical clusering\n",
    "    PCA\n",
    "    algomerative clustering\n",
    "    divisive clustering\n",
    "\n",
    "Project flow:\n",
    "    Prablem statement\n",
    "    Data Gathering\n",
    "    EDA\n",
    "    Data Preprocessing\n",
    "    Feature Selection\n",
    "    Model Building\n",
    "    Model Testing\n",
    "    Model Dump\n",
    "    API created\n",
    "    loading model into cloud (AWS,Google GCP,Azure)\n"
   ]
  }
 ],
 "metadata": {
  "kernelspec": {
   "display_name": "Python 3 (ipykernel)",
   "language": "python",
   "name": "python3"
  },
  "language_info": {
   "codemirror_mode": {
    "name": "ipython",
    "version": 3
   },
   "file_extension": ".py",
   "mimetype": "text/x-python",
   "name": "python",
   "nbconvert_exporter": "python",
   "pygments_lexer": "ipython3",
   "version": "3.9.7"
  },
  "toc": {
   "base_numbering": 1,
   "nav_menu": {},
   "number_sections": true,
   "sideBar": true,
   "skip_h1_title": false,
   "title_cell": "Table of Contents",
   "title_sidebar": "Contents",
   "toc_cell": false,
   "toc_position": {},
   "toc_section_display": true,
   "toc_window_display": false
  }
 },
 "nbformat": 4,
 "nbformat_minor": 5
}
