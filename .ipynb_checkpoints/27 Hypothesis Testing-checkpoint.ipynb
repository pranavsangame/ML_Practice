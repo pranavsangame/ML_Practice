{
 "cells": [
  {
   "cell_type": "markdown",
   "id": "beb4d0ec-8ec3-4ca2-8ed5-a3b4ce27fb39",
   "metadata": {},
   "source": [
    "# Hypothesis Testing "
   ]
  },
  {
   "cell_type": "raw",
   "id": "24c6713a",
   "metadata": {},
   "source": [
    "A statement about a population or the data that have either true or false. \n",
    "We can check from insights from the population or data weather to accept or reject the hypothesis\n",
    "\n",
    "\n",
    "e.g. \n",
    "the avg income of indian people is 12000 per month during last FY 21-22 [finance]\n",
    "\n",
    "the avg of people gets flu in last winter season is 50000 [Medical]\n",
    "\n",
    "ABC party going to get 45% votes in upcoming elections [election] "
   ]
  },
  {
   "cell_type": "raw",
   "id": "df4cd37a",
   "metadata": {},
   "source": [
    "H0 -->> Null Hypothesis\n",
    "H1 -->> Alternative Hypothesis"
   ]
  },
  {
   "cell_type": "raw",
   "id": "01b59b8a",
   "metadata": {},
   "source": [
    "        Actual\n",
    "         1    0\n",
    "pred 1  TP   FP\n",
    "pred 0  FN   TN\n",
    "\n",
    "FP ->> Type-I\n",
    "FN ->> Type-II\n",
    "\n",
    "\n",
    "Null Hypothesis \n",
    "Type - I = Reject the null hypothesis \n",
    "Type - II == Accept the null Hypothesis\n",
    "\n",
    "\n",
    "person is guilty >> H0 [Null Hypothesis]\n",
    "\n",
    "                     Real \n",
    "             guilty         not guilty\n",
    "court_d_g   Correct[TP]     FP [Type-I]\n",
    "court_d_n   FN[Type-II]     correct[TN]\n"
   ]
  },
  {
   "cell_type": "markdown",
   "id": "63ee54d9-ef5f-4c70-a588-4eb818cbdae9",
   "metadata": {},
   "source": [
    "## Test \n"
   ]
  },
  {
   "cell_type": "raw",
   "id": "9f3c1f2f",
   "metadata": {},
   "source": [
    "1. shapiro test\n",
    "2. kstest test\n",
    "3. normal test\n",
    "4. chi-square test\n",
    "5. ANOVA Test\n",
    "6. T - test\n",
    "7. Z - test"
   ]
  },
  {
   "cell_type": "raw",
   "id": "5048244b",
   "metadata": {},
   "source": [
    "p - value >> its  probabilty value \n",
    "\n",
    "\n",
    "p_val > 0.05 : True \n",
    "    We are going to accept Null Hypothesis.\n",
    "P_val > 0.05 : Flase\n",
    "     we are going to reject Null Hypothesis.\n"
   ]
  },
  {
   "cell_type": "code",
   "execution_count": 15,
   "id": "470082cd-9e11-48db-9046-4e673116c1a7",
   "metadata": {},
   "outputs": [],
   "source": [
    "import pandas as pd\n",
    "import numpy as np "
   ]
  },
  {
   "cell_type": "markdown",
   "id": "ae7010c9-2b42-4e32-b1e6-ba98ea5025fc",
   "metadata": {},
   "source": [
    "# 1. Shapiro Test"
   ]
  },
  {
   "cell_type": "code",
   "execution_count": 16,
   "id": "2057d500-df16-4dc6-a460-88ead09610cb",
   "metadata": {},
   "outputs": [],
   "source": [
    "from scipy.stats import shapiro"
   ]
  },
  {
   "cell_type": "code",
   "execution_count": 17,
   "id": "97e70bfa-8930-44ab-bf0a-957bb69bb0dc",
   "metadata": {},
   "outputs": [],
   "source": [
    "df = pd.read_csv('diabetes.csv')"
   ]
  },
  {
   "cell_type": "code",
   "execution_count": 18,
   "id": "36f7aa0a-9100-4da7-b84f-67804257965f",
   "metadata": {},
   "outputs": [
    {
     "data": {
      "text/html": [
       "<div>\n",
       "<style scoped>\n",
       "    .dataframe tbody tr th:only-of-type {\n",
       "        vertical-align: middle;\n",
       "    }\n",
       "\n",
       "    .dataframe tbody tr th {\n",
       "        vertical-align: top;\n",
       "    }\n",
       "\n",
       "    .dataframe thead th {\n",
       "        text-align: right;\n",
       "    }\n",
       "</style>\n",
       "<table border=\"1\" class=\"dataframe\">\n",
       "  <thead>\n",
       "    <tr style=\"text-align: right;\">\n",
       "      <th></th>\n",
       "      <th>Glucose</th>\n",
       "      <th>BloodPressure</th>\n",
       "      <th>SkinThickness</th>\n",
       "      <th>Insulin</th>\n",
       "      <th>BMI</th>\n",
       "      <th>DiabetesPedigreeFunction</th>\n",
       "      <th>Age</th>\n",
       "      <th>Outcome</th>\n",
       "    </tr>\n",
       "  </thead>\n",
       "  <tbody>\n",
       "    <tr>\n",
       "      <th>0</th>\n",
       "      <td>148</td>\n",
       "      <td>50</td>\n",
       "      <td>35</td>\n",
       "      <td>0</td>\n",
       "      <td>33.6</td>\n",
       "      <td>0.627</td>\n",
       "      <td>50</td>\n",
       "      <td>1</td>\n",
       "    </tr>\n",
       "    <tr>\n",
       "      <th>1</th>\n",
       "      <td>85</td>\n",
       "      <td>66</td>\n",
       "      <td>29</td>\n",
       "      <td>0</td>\n",
       "      <td>26.6</td>\n",
       "      <td>0.351</td>\n",
       "      <td>31</td>\n",
       "      <td>0</td>\n",
       "    </tr>\n",
       "    <tr>\n",
       "      <th>2</th>\n",
       "      <td>183</td>\n",
       "      <td>64</td>\n",
       "      <td>0</td>\n",
       "      <td>0</td>\n",
       "      <td>23.3</td>\n",
       "      <td>0.672</td>\n",
       "      <td>102</td>\n",
       "      <td>1</td>\n",
       "    </tr>\n",
       "    <tr>\n",
       "      <th>3</th>\n",
       "      <td>150</td>\n",
       "      <td>66</td>\n",
       "      <td>23</td>\n",
       "      <td>94</td>\n",
       "      <td>28.1</td>\n",
       "      <td>0.167</td>\n",
       "      <td>21</td>\n",
       "      <td>0</td>\n",
       "    </tr>\n",
       "    <tr>\n",
       "      <th>4</th>\n",
       "      <td>150</td>\n",
       "      <td>40</td>\n",
       "      <td>35</td>\n",
       "      <td>168</td>\n",
       "      <td>43.1</td>\n",
       "      <td>2.288</td>\n",
       "      <td>33</td>\n",
       "      <td>1</td>\n",
       "    </tr>\n",
       "    <tr>\n",
       "      <th>...</th>\n",
       "      <td>...</td>\n",
       "      <td>...</td>\n",
       "      <td>...</td>\n",
       "      <td>...</td>\n",
       "      <td>...</td>\n",
       "      <td>...</td>\n",
       "      <td>...</td>\n",
       "      <td>...</td>\n",
       "    </tr>\n",
       "    <tr>\n",
       "      <th>763</th>\n",
       "      <td>101</td>\n",
       "      <td>76</td>\n",
       "      <td>48</td>\n",
       "      <td>180</td>\n",
       "      <td>32.9</td>\n",
       "      <td>0.171</td>\n",
       "      <td>63</td>\n",
       "      <td>0</td>\n",
       "    </tr>\n",
       "    <tr>\n",
       "      <th>764</th>\n",
       "      <td>122</td>\n",
       "      <td>70</td>\n",
       "      <td>27</td>\n",
       "      <td>0</td>\n",
       "      <td>36.8</td>\n",
       "      <td>0.340</td>\n",
       "      <td>27</td>\n",
       "      <td>0</td>\n",
       "    </tr>\n",
       "    <tr>\n",
       "      <th>765</th>\n",
       "      <td>121</td>\n",
       "      <td>72</td>\n",
       "      <td>23</td>\n",
       "      <td>112</td>\n",
       "      <td>26.2</td>\n",
       "      <td>0.245</td>\n",
       "      <td>30</td>\n",
       "      <td>0</td>\n",
       "    </tr>\n",
       "    <tr>\n",
       "      <th>766</th>\n",
       "      <td>126</td>\n",
       "      <td>60</td>\n",
       "      <td>0</td>\n",
       "      <td>0</td>\n",
       "      <td>30.1</td>\n",
       "      <td>0.349</td>\n",
       "      <td>47</td>\n",
       "      <td>1</td>\n",
       "    </tr>\n",
       "    <tr>\n",
       "      <th>767</th>\n",
       "      <td>93</td>\n",
       "      <td>70</td>\n",
       "      <td>31</td>\n",
       "      <td>0</td>\n",
       "      <td>30.4</td>\n",
       "      <td>0.315</td>\n",
       "      <td>23</td>\n",
       "      <td>0</td>\n",
       "    </tr>\n",
       "  </tbody>\n",
       "</table>\n",
       "<p>768 rows × 8 columns</p>\n",
       "</div>"
      ],
      "text/plain": [
       "     Glucose  BloodPressure  SkinThickness  Insulin   BMI  \\\n",
       "0        148             50             35        0  33.6   \n",
       "1         85             66             29        0  26.6   \n",
       "2        183             64              0        0  23.3   \n",
       "3        150             66             23       94  28.1   \n",
       "4        150             40             35      168  43.1   \n",
       "..       ...            ...            ...      ...   ...   \n",
       "763      101             76             48      180  32.9   \n",
       "764      122             70             27        0  36.8   \n",
       "765      121             72             23      112  26.2   \n",
       "766      126             60              0        0  30.1   \n",
       "767       93             70             31        0  30.4   \n",
       "\n",
       "     DiabetesPedigreeFunction  Age  Outcome  \n",
       "0                       0.627   50        1  \n",
       "1                       0.351   31        0  \n",
       "2                       0.672  102        1  \n",
       "3                       0.167   21        0  \n",
       "4                       2.288   33        1  \n",
       "..                        ...  ...      ...  \n",
       "763                     0.171   63        0  \n",
       "764                     0.340   27        0  \n",
       "765                     0.245   30        0  \n",
       "766                     0.349   47        1  \n",
       "767                     0.315   23        0  \n",
       "\n",
       "[768 rows x 8 columns]"
      ]
     },
     "execution_count": 18,
     "metadata": {},
     "output_type": "execute_result"
    }
   ],
   "source": [
    "df"
   ]
  },
  {
   "cell_type": "markdown",
   "id": "fc83f754",
   "metadata": {},
   "source": [
    "H0 - Age Data is normally distribute\n",
    "H1 - Age data is randomly distributed"
   ]
  },
  {
   "cell_type": "code",
   "execution_count": 20,
   "id": "ec1b4545-684a-41fd-a064-94c48aa58a57",
   "metadata": {},
   "outputs": [],
   "source": [
    "import seaborn as sns"
   ]
  },
  {
   "cell_type": "code",
   "execution_count": 21,
   "id": "87c907d5-582e-4167-abe2-f3f5808ac2d8",
   "metadata": {},
   "outputs": [
    {
     "data": {
      "text/plain": [
       "<AxesSubplot:xlabel='Age', ylabel='Density'>"
      ]
     },
     "execution_count": 21,
     "metadata": {},
     "output_type": "execute_result"
    },
    {
     "data": {
      "image/png": "[encoded data removed]",
      "text/plain": [
       "<Figure size 432x288 with 1 Axes>"
      ]
     },
     "metadata": {
      "needs_background": "light"
     },
     "output_type": "display_data"
    }
   ],
   "source": [
    "sns.kdeplot(df['Age'],fill=True)"
   ]
  },
  {
   "cell_type": "code",
   "execution_count": 22,
   "id": "577828ba-bad2-4b7d-b690-91300a9feea7",
   "metadata": {},
   "outputs": [
    {
     "name": "stderr",
     "output_type": "stream",
     "text": [
      "C:\\ProgramData\\Anaconda3\\lib\\site-packages\\seaborn\\distributions.py:2619: FutureWarning: `distplot` is a deprecated function and will be removed in a future version. Please adapt your code to use either `displot` (a figure-level function with similar flexibility) or `histplot` (an axes-level function for histograms).\n",
      "  warnings.warn(msg, FutureWarning)\n"
     ]
    },
    {
     "data": {
      "text/plain": [
       "<AxesSubplot:xlabel='Age', ylabel='Density'>"
      ]
     },
     "execution_count": 22,
     "metadata": {},
     "output_type": "execute_result"
    },
    {
     "data": {
      "image/png": "[encoded data removed]",
      "text/plain": [
       "<Figure size 432x288 with 1 Axes>"
      ]
     },
     "metadata": {
      "needs_background": "light"
     },
     "output_type": "display_data"
    }
   ],
   "source": [
    "sns.distplot(df['Age'])"
   ]
  },
  {
   "cell_type": "code",
   "execution_count": 23,
   "id": "157bf25d-aa44-49fb-850d-743407223583",
   "metadata": {},
   "outputs": [
    {
     "name": "stdout",
     "output_type": "stream",
     "text": [
      "5.926408269476952e-25\n"
     ]
    }
   ],
   "source": [
    "from scipy.stats import shapiro\n",
    "\n",
    "_,p_val = shapiro(df['Age'])\n",
    "print(p_val)"
   ]
  },
  {
   "cell_type": "code",
   "execution_count": 24,
   "id": "7436c1b5-463d-48f2-922c-e18cd511d036",
   "metadata": {},
   "outputs": [
    {
     "name": "stdout",
     "output_type": "stream",
     "text": [
      "We are rejecting Null hypothesis\n",
      "Age data is randomly distributed\n",
      "Type - I = Reject the null hypothesis \n"
     ]
    }
   ],
   "source": [
    "if p_val > 0.05:\n",
    "    print(\"We are accepting Null Hypothesis\")\n",
    "    print(\"Age Data is normally distribute\")\n",
    "    print(\"Type - II = Accept the null hypothesis\")\n",
    "else:\n",
    "    print(\"We are rejecting Null hypothesis\")\n",
    "    print(\"Age data is randomly distributed\")\n",
    "    print(\"Type - I = Reject the null hypothesis \")"
   ]
  },
  {
   "cell_type": "markdown",
   "id": "532c4b36-ef6a-4b99-bcc1-0fb02f1fb6a6",
   "metadata": {},
   "source": [
    "# 2. kstest test"
   ]
  },
  {
   "cell_type": "code",
   "execution_count": 25,
   "id": "d5038738-1a0b-4a3a-800f-6d76124c0e75",
   "metadata": {},
   "outputs": [
    {
     "name": "stdout",
     "output_type": "stream",
     "text": [
      "P-Value = 0.0\n",
      "We are rejecting Null hypothesis\n",
      "Age data is randomly distributed\n",
      "Type - I = Reject the null hypothesis \n"
     ]
    }
   ],
   "source": [
    "from scipy.stats import kstest\n",
    "\n",
    "_,p_val = kstest(df['Age'],'norm')\n",
    "print(f\"P-Value = {p_val}\")\n",
    "if p_val > 0.05:\n",
    "    print(\"We are accepting Null Hypothesis\")\n",
    "    print(\"Age Data is normally distribute\")\n",
    "    print(\"Type - II = Accept the null hypothesis\")\n",
    "else:\n",
    "    print(\"We are rejecting Null hypothesis\")\n",
    "    print(\"Age data is randomly distributed\")\n",
    "    print(\"Type - I = Reject the null hypothesis \")"
   ]
  },
  {
   "cell_type": "code",
   "execution_count": 26,
   "id": "eafb1f0c-bc5b-443c-bd9f-1fd13bdcb98a",
   "metadata": {},
   "outputs": [],
   "source": [
    "array = np.random.randint(30,40,size=25)"
   ]
  },
  {
   "cell_type": "code",
   "execution_count": 27,
   "id": "6dbbe2cf-205a-4b9a-9475-0bd9a323983b",
   "metadata": {},
   "outputs": [
    {
     "name": "stdout",
     "output_type": "stream",
     "text": [
      "Array = [37 36 39 31 38 34 30 36 33 38 37 39 32 33 31 39 31 37 36 32 37 31 36 31\n",
      " 31]\n",
      "P-Value = 0.0\n",
      "We are rejecting Null hypothesis\n",
      "Age data is randomly distributed\n",
      "Type - I = Reject the null hypothesis \n"
     ]
    }
   ],
   "source": [
    "from scipy.stats import kstest\n",
    "print(f\"Array = {array}\")\n",
    "\n",
    "_,p_val = kstest(array,'norm')\n",
    "\n",
    "print(f\"P-Value = {p_val}\")\n",
    "if p_val > 0.05:\n",
    "    print(\"We are accepting Null Hypothesis\")\n",
    "    print(\"Age Data is normally distribute\")\n",
    "    print(\"Type - II = Accept the null hypothesis\")\n",
    "else:\n",
    "    print(\"We are rejecting Null hypothesis\")\n",
    "    print(\"Age data is randomly distributed\")\n",
    "    print(\"Type - I = Reject the null hypothesis \")"
   ]
  },
  {
   "cell_type": "code",
   "execution_count": 66,
   "id": "bdc3103a",
   "metadata": {},
   "outputs": [
    {
     "data": {
      "text/plain": [
       "<AxesSubplot:ylabel='Density'>"
      ]
     },
     "execution_count": 66,
     "metadata": {},
     "output_type": "execute_result"
    },
    {
     "data": {
      "image/png": "[encoded data removed]",
      "text/plain": [
       "<Figure size 432x288 with 1 Axes>"
      ]
     },
     "metadata": {
      "needs_background": "light"
     },
     "output_type": "display_data"
    }
   ],
   "source": [
    "sns.kdeplot(array,fill=True)"
   ]
  },
  {
   "cell_type": "code",
   "execution_count": 28,
   "id": "39cd866a-30aa-42a8-aa91-e0e2f60dbd9b",
   "metadata": {},
   "outputs": [
    {
     "name": "stdout",
     "output_type": "stream",
     "text": [
      "P-Value = 0.03885014008678811\n",
      "We are rejecting Null hypothesis\n",
      "Age data is randomly distributed\n",
      "Type - I = Reject the null hypothesis \n"
     ]
    }
   ],
   "source": [
    "x = np.linspace(-15, 15, 9)\n",
    "\n",
    "\n",
    "_,p_val = kstest(x,'norm')\n",
    "\n",
    "print(f\"P-Value = {p_val}\")\n",
    "if p_val > 0.05:\n",
    "    print(\"We are accepting Null Hypothesis\")\n",
    "    print(\"Age Data is normally distribute\")\n",
    "    print(\"Type - II = Accept the null hypothesis\")\n",
    "else:\n",
    "    print(\"We are rejecting Null hypothesis\")\n",
    "    print(\"Age data is randomly distributed\")\n",
    "    print(\"Type - I = Reject the null hypothesis \")"
   ]
  },
  {
   "cell_type": "code",
   "execution_count": 29,
   "id": "b8df6ef4-9b12-4300-8c1f-0516b9fd5408",
   "metadata": {},
   "outputs": [
    {
     "name": "stdout",
     "output_type": "stream",
     "text": [
      "Array = [ 0.44740601  0.32279146  0.95630852  0.88208101  0.37485739  0.42732385\n",
      "  0.44807955  0.02503777  1.1497199  -0.93353949 -0.1591087   0.02010703\n",
      " -0.01832611  0.78589369 -0.18926453  0.22674663  1.48084683 -0.72379075\n",
      " -1.7414028   0.67349719 -0.89443641  0.10588961 -0.14739459 -0.59007583\n",
      " -0.70037251]\n",
      "P-Value = 0.3190659551152578\n",
      "We are accepting Null Hypothesis\n",
      "Type - II = Accept the null hypothesis\n"
     ]
    }
   ],
   "source": [
    "from scipy.stats import kstest\n",
    "\n",
    "array = np.random.randn(25)\n",
    "print(f\"Array = {array}\")\n",
    "\n",
    "_,p_val = kstest(array,'norm')\n",
    "\n",
    "print(f\"P-Value = {p_val}\")\n",
    "if p_val > 0.05:\n",
    "    print(\"We are accepting Null Hypothesis\")\n",
    "    \n",
    "    print(\"Type - II = Accept the null hypothesis\")\n",
    "else:\n",
    "    print(\"We are rejecting Null hypothesis\")\n",
    "\n",
    "    print(\"Type - I = Reject the null hypothesis \")"
   ]
  },
  {
   "cell_type": "markdown",
   "id": "e098a9da-f8af-4164-af16-fa1ecd9c0643",
   "metadata": {},
   "source": [
    "## 3. normal test"
   ]
  },
  {
   "cell_type": "code",
   "execution_count": 30,
   "id": "e741eec6-4f6a-4eb3-ba62-6a243c726278",
   "metadata": {},
   "outputs": [
    {
     "name": "stdout",
     "output_type": "stream",
     "text": [
      "Array = [ 1.09015409e-02  6.00093297e-02 -1.40563396e+00  1.16344193e+00\n",
      " -3.78786274e-01 -6.70627180e-01  3.17122937e-01 -3.12430363e+00\n",
      "  3.69471792e-01 -4.44637524e-01  1.23264564e+00  5.20395374e-01\n",
      " -3.79357692e-01  2.02421031e+00 -1.01540684e+00  6.96973325e-01\n",
      " -3.85222457e-01  1.80764782e-03  4.81614732e-02 -7.13472506e-01\n",
      "  4.37577643e-01 -7.68442017e-01 -1.96630036e+00 -1.79870862e-01\n",
      "  2.16140064e-01]\n",
      "P-Value = 0.06524584387559959\n",
      "We are accepting Null Hypothesis\n",
      "Type - II = Accept the null hypothesis\n"
     ]
    }
   ],
   "source": [
    "from scipy.stats import normaltest\n",
    "\n",
    "array = np.random.randn(25)\n",
    "print(f\"Array = {array}\")\n",
    "\n",
    "_,p_val = normaltest(array)\n",
    "\n",
    "print(f\"P-Value = {p_val}\")\n",
    "if p_val > 0.05:\n",
    "    print(\"We are accepting Null Hypothesis\")\n",
    "    \n",
    "    print(\"Type - II = Accept the null hypothesis\")\n",
    "else:\n",
    "    print(\"We are rejecting Null hypothesis\")\n",
    "\n",
    "    print(\"Type - I = Reject the null hypothesis \")"
   ]
  },
  {
   "cell_type": "code",
   "execution_count": 31,
   "id": "2fdc4313-ff56-4591-8c38-912f7ce7b81f",
   "metadata": {},
   "outputs": [
    {
     "name": "stdout",
     "output_type": "stream",
     "text": [
      "P-Value = 6.451894371977907e-37\n",
      "We are rejecting Null hypothesis\n",
      "Age data is randomly distributed\n",
      "Type - I = Reject the null hypothesis \n"
     ]
    }
   ],
   "source": [
    "_,p_val = normaltest(df['Age'])\n",
    "print(f\"P-Value = {p_val}\")\n",
    "if p_val > 0.05:\n",
    "    print(\"We are accepting Null Hypothesis\")\n",
    "    print(\"Age Data is normally distribute\")\n",
    "    print(\"Type - II = Accept the null hypothesis\")\n",
    "else:\n",
    "    print(\"We are rejecting Null hypothesis\")\n",
    "    print(\"Age data is randomly distributed\")\n",
    "    print(\"Type - I = Reject the null hypothesis \")"
   ]
  },
  {
   "cell_type": "markdown",
   "id": "b1471c1c-fc4a-4ff9-866d-4e7c5f93de35",
   "metadata": {},
   "source": [
    "### Skewness"
   ]
  },
  {
   "cell_type": "code",
   "execution_count": 32,
   "id": "4b2a2ccc-16b2-4708-be9a-0a771ec94b69",
   "metadata": {},
   "outputs": [
    {
     "ename": "SyntaxError",
     "evalue": "invalid syntax (Temp/ipykernel_3148/173854969.py, line 1)",
     "output_type": "error",
     "traceback": [
      "\u001b[1;36m  File \u001b[1;32m\"C:\\Users\\Pranav\\AppData\\Local\\Temp/ipykernel_3148/173854969.py\"\u001b[1;36m, line \u001b[1;32m1\u001b[0m\n\u001b[1;33m    Positive Skewness >> tail of distribution is longer towards right side [right skew]\u001b[0m\n\u001b[1;37m             ^\u001b[0m\n\u001b[1;31mSyntaxError\u001b[0m\u001b[1;31m:\u001b[0m invalid syntax\n"
     ]
    }
   ],
   "source": [
    "Positive Skewness >> tail of distribution is longer towards right side [right skew]\n",
    "Negative Skewness >> Tail of distribution is longer towards left side [left skew]\n",
    "\n",
    "Symmetrical Data : Bell shape curv\n",
    "\n",
    "-0.5 to 0.5 >> Symmetrical distribution \n",
    "-1 to -0.5  >> Negative Skewed distribution \n",
    "-1 >        >> highly negative skewed distribution (-1.2,-1.5)\n",
    "\n",
    "\n",
    "+0.5 to 1.0 >> Positive Skewd Data \n",
    "> 1.0       >> Highly Positive Skewed DFata (1.3, 1.5)\n"
   ]
  },
  {
   "cell_type": "code",
   "execution_count": 33,
   "id": "76557003-6165-473f-9baa-af105be70ba4",
   "metadata": {},
   "outputs": [
    {
     "data": {
      "text/plain": [
       "<AxesSubplot:xlabel='Age', ylabel='Density'>"
      ]
     },
     "execution_count": 33,
     "metadata": {},
     "output_type": "execute_result"
    },
    {
     "data": {
      "image/png": "[encoded data removed]",
      "text/plain": [
       "<Figure size 432x288 with 1 Axes>"
      ]
     },
     "metadata": {
      "needs_background": "light"
     },
     "output_type": "display_data"
    }
   ],
   "source": [
    "sns.kdeplot(df['Age'])"
   ]
  },
  {
   "cell_type": "code",
   "execution_count": 34,
   "id": "612a1f54-585a-4604-99a5-fad78500abf9",
   "metadata": {},
   "outputs": [
    {
     "data": {
      "text/plain": [
       "1.2869449073768346"
      ]
     },
     "execution_count": 34,
     "metadata": {},
     "output_type": "execute_result"
    }
   ],
   "source": [
    "skew = df['Age'].skew()\n",
    "skew"
   ]
  },
  {
   "cell_type": "code",
   "execution_count": 35,
   "id": "ca38846f-46ea-4757-a70c-fcc41718d64b",
   "metadata": {},
   "outputs": [
    {
     "data": {
      "text/plain": [
       "33.30859375"
      ]
     },
     "execution_count": 35,
     "metadata": {},
     "output_type": "execute_result"
    }
   ],
   "source": [
    "df['Age'].mean()"
   ]
  },
  {
   "cell_type": "code",
   "execution_count": 36,
   "id": "40dd881a-7062-48ce-8403-c1a09d0dd0ae",
   "metadata": {},
   "outputs": [
    {
     "data": {
      "text/plain": [
       "29.0"
      ]
     },
     "execution_count": 36,
     "metadata": {},
     "output_type": "execute_result"
    }
   ],
   "source": [
    "df['Age'].median()"
   ]
  },
  {
   "cell_type": "code",
   "execution_count": 37,
   "id": "d66cfc9f-20b9-4206-a88c-b4bcd215d1d7",
   "metadata": {},
   "outputs": [
    {
     "data": {
      "text/html": [
       "<div>\n",
       "<style scoped>\n",
       "    .dataframe tbody tr th:only-of-type {\n",
       "        vertical-align: middle;\n",
       "    }\n",
       "\n",
       "    .dataframe tbody tr th {\n",
       "        vertical-align: top;\n",
       "    }\n",
       "\n",
       "    .dataframe thead th {\n",
       "        text-align: right;\n",
       "    }\n",
       "</style>\n",
       "<table border=\"1\" class=\"dataframe\">\n",
       "  <thead>\n",
       "    <tr style=\"text-align: right;\">\n",
       "      <th></th>\n",
       "      <th>Glucose</th>\n",
       "      <th>BloodPressure</th>\n",
       "      <th>SkinThickness</th>\n",
       "      <th>Insulin</th>\n",
       "      <th>BMI</th>\n",
       "      <th>DiabetesPedigreeFunction</th>\n",
       "      <th>Age</th>\n",
       "      <th>Outcome</th>\n",
       "    </tr>\n",
       "  </thead>\n",
       "  <tbody>\n",
       "    <tr>\n",
       "      <th>0</th>\n",
       "      <td>148</td>\n",
       "      <td>50</td>\n",
       "      <td>35</td>\n",
       "      <td>0</td>\n",
       "      <td>33.6</td>\n",
       "      <td>0.627</td>\n",
       "      <td>50</td>\n",
       "      <td>1</td>\n",
       "    </tr>\n",
       "    <tr>\n",
       "      <th>1</th>\n",
       "      <td>85</td>\n",
       "      <td>66</td>\n",
       "      <td>29</td>\n",
       "      <td>0</td>\n",
       "      <td>26.6</td>\n",
       "      <td>0.351</td>\n",
       "      <td>31</td>\n",
       "      <td>0</td>\n",
       "    </tr>\n",
       "    <tr>\n",
       "      <th>2</th>\n",
       "      <td>183</td>\n",
       "      <td>64</td>\n",
       "      <td>0</td>\n",
       "      <td>0</td>\n",
       "      <td>23.3</td>\n",
       "      <td>0.672</td>\n",
       "      <td>102</td>\n",
       "      <td>1</td>\n",
       "    </tr>\n",
       "    <tr>\n",
       "      <th>3</th>\n",
       "      <td>150</td>\n",
       "      <td>66</td>\n",
       "      <td>23</td>\n",
       "      <td>94</td>\n",
       "      <td>28.1</td>\n",
       "      <td>0.167</td>\n",
       "      <td>21</td>\n",
       "      <td>0</td>\n",
       "    </tr>\n",
       "    <tr>\n",
       "      <th>4</th>\n",
       "      <td>150</td>\n",
       "      <td>40</td>\n",
       "      <td>35</td>\n",
       "      <td>168</td>\n",
       "      <td>43.1</td>\n",
       "      <td>2.288</td>\n",
       "      <td>33</td>\n",
       "      <td>1</td>\n",
       "    </tr>\n",
       "  </tbody>\n",
       "</table>\n",
       "</div>"
      ],
      "text/plain": [
       "   Glucose  BloodPressure  SkinThickness  Insulin   BMI  \\\n",
       "0      148             50             35        0  33.6   \n",
       "1       85             66             29        0  26.6   \n",
       "2      183             64              0        0  23.3   \n",
       "3      150             66             23       94  28.1   \n",
       "4      150             40             35      168  43.1   \n",
       "\n",
       "   DiabetesPedigreeFunction  Age  Outcome  \n",
       "0                     0.627   50        1  \n",
       "1                     0.351   31        0  \n",
       "2                     0.672  102        1  \n",
       "3                     0.167   21        0  \n",
       "4                     2.288   33        1  "
      ]
     },
     "execution_count": 37,
     "metadata": {},
     "output_type": "execute_result"
    }
   ],
   "source": [
    "df.head()"
   ]
  },
  {
   "cell_type": "code",
   "execution_count": 38,
   "id": "b28f930b-438a-4b5d-af4e-6bab0db4d409",
   "metadata": {},
   "outputs": [
    {
     "data": {
      "text/plain": [
       "-0.42898158845356543"
      ]
     },
     "execution_count": 38,
     "metadata": {},
     "output_type": "execute_result"
    }
   ],
   "source": [
    "df['BMI'].skew()"
   ]
  },
  {
   "cell_type": "code",
   "execution_count": 39,
   "id": "99982c50-a951-4757-98e3-5738069b1e0f",
   "metadata": {},
   "outputs": [
    {
     "data": {
      "text/plain": [
       "<AxesSubplot:xlabel='BMI', ylabel='Density'>"
      ]
     },
     "execution_count": 39,
     "metadata": {},
     "output_type": "execute_result"
    },
    {
     "data": {
      "image/png": "[encoded data removed]",
      "text/plain": [
       "<Figure size 432x288 with 1 Axes>"
      ]
     },
     "metadata": {
      "needs_background": "light"
     },
     "output_type": "display_data"
    }
   ],
   "source": [
    "sns.kdeplot(df['BMI'])"
   ]
  },
  {
   "cell_type": "code",
   "execution_count": 40,
   "id": "18b826ba-1692-4bac-8b86-ce1a120c2d89",
   "metadata": {},
   "outputs": [
    {
     "data": {
      "text/plain": [
       "0.13293447905204128"
      ]
     },
     "execution_count": 40,
     "metadata": {},
     "output_type": "execute_result"
    }
   ],
   "source": [
    "df['Glucose'].skew()"
   ]
  },
  {
   "cell_type": "code",
   "execution_count": 41,
   "id": "5c5931e3-9119-4fef-9b20-7bbd01d58b45",
   "metadata": {},
   "outputs": [
    {
     "data": {
      "text/plain": [
       "<AxesSubplot:xlabel='Glucose', ylabel='Density'>"
      ]
     },
     "execution_count": 41,
     "metadata": {},
     "output_type": "execute_result"
    },
    {
     "data": {
      "image/png": "[encoded data removed]",
      "text/plain": [
       "<Figure size 432x288 with 1 Axes>"
      ]
     },
     "metadata": {
      "needs_background": "light"
     },
     "output_type": "display_data"
    }
   ],
   "source": [
    "sns.kdeplot(df['Glucose'])"
   ]
  },
  {
   "cell_type": "markdown",
   "id": "1fd7148d-db68-4840-8b7a-e14a9b0ba6c7",
   "metadata": {},
   "source": [
    "# 4. chi-square test\n"
   ]
  },
  {
   "cell_type": "code",
   "execution_count": 42,
   "id": "ab419974-2ccc-4128-9b2a-7e7329f581d0",
   "metadata": {},
   "outputs": [],
   "source": [
    "from sklearn.feature_selection import chi2\n",
    "\n",
    "# H0 : Two variables are indepedent \n",
    "# H1 : Two Variable are depedent "
   ]
  },
  {
   "cell_type": "code",
   "execution_count": 43,
   "id": "ebc58d5d-ee2f-481a-bff4-48017fbe1ba3",
   "metadata": {},
   "outputs": [
    {
     "data": {
      "text/html": [
       "<div>\n",
       "<style scoped>\n",
       "    .dataframe tbody tr th:only-of-type {\n",
       "        vertical-align: middle;\n",
       "    }\n",
       "\n",
       "    .dataframe tbody tr th {\n",
       "        vertical-align: top;\n",
       "    }\n",
       "\n",
       "    .dataframe thead th {\n",
       "        text-align: right;\n",
       "    }\n",
       "</style>\n",
       "<table border=\"1\" class=\"dataframe\">\n",
       "  <thead>\n",
       "    <tr style=\"text-align: right;\">\n",
       "      <th></th>\n",
       "      <th>Glucose</th>\n",
       "      <th>BloodPressure</th>\n",
       "      <th>SkinThickness</th>\n",
       "      <th>Insulin</th>\n",
       "      <th>BMI</th>\n",
       "      <th>DiabetesPedigreeFunction</th>\n",
       "      <th>Age</th>\n",
       "      <th>Outcome</th>\n",
       "    </tr>\n",
       "  </thead>\n",
       "  <tbody>\n",
       "    <tr>\n",
       "      <th>0</th>\n",
       "      <td>148</td>\n",
       "      <td>50</td>\n",
       "      <td>35</td>\n",
       "      <td>0</td>\n",
       "      <td>33.6</td>\n",
       "      <td>0.627</td>\n",
       "      <td>50</td>\n",
       "      <td>1</td>\n",
       "    </tr>\n",
       "    <tr>\n",
       "      <th>1</th>\n",
       "      <td>85</td>\n",
       "      <td>66</td>\n",
       "      <td>29</td>\n",
       "      <td>0</td>\n",
       "      <td>26.6</td>\n",
       "      <td>0.351</td>\n",
       "      <td>31</td>\n",
       "      <td>0</td>\n",
       "    </tr>\n",
       "    <tr>\n",
       "      <th>2</th>\n",
       "      <td>183</td>\n",
       "      <td>64</td>\n",
       "      <td>0</td>\n",
       "      <td>0</td>\n",
       "      <td>23.3</td>\n",
       "      <td>0.672</td>\n",
       "      <td>102</td>\n",
       "      <td>1</td>\n",
       "    </tr>\n",
       "    <tr>\n",
       "      <th>3</th>\n",
       "      <td>150</td>\n",
       "      <td>66</td>\n",
       "      <td>23</td>\n",
       "      <td>94</td>\n",
       "      <td>28.1</td>\n",
       "      <td>0.167</td>\n",
       "      <td>21</td>\n",
       "      <td>0</td>\n",
       "    </tr>\n",
       "    <tr>\n",
       "      <th>4</th>\n",
       "      <td>150</td>\n",
       "      <td>40</td>\n",
       "      <td>35</td>\n",
       "      <td>168</td>\n",
       "      <td>43.1</td>\n",
       "      <td>2.288</td>\n",
       "      <td>33</td>\n",
       "      <td>1</td>\n",
       "    </tr>\n",
       "    <tr>\n",
       "      <th>...</th>\n",
       "      <td>...</td>\n",
       "      <td>...</td>\n",
       "      <td>...</td>\n",
       "      <td>...</td>\n",
       "      <td>...</td>\n",
       "      <td>...</td>\n",
       "      <td>...</td>\n",
       "      <td>...</td>\n",
       "    </tr>\n",
       "    <tr>\n",
       "      <th>763</th>\n",
       "      <td>101</td>\n",
       "      <td>76</td>\n",
       "      <td>48</td>\n",
       "      <td>180</td>\n",
       "      <td>32.9</td>\n",
       "      <td>0.171</td>\n",
       "      <td>63</td>\n",
       "      <td>0</td>\n",
       "    </tr>\n",
       "    <tr>\n",
       "      <th>764</th>\n",
       "      <td>122</td>\n",
       "      <td>70</td>\n",
       "      <td>27</td>\n",
       "      <td>0</td>\n",
       "      <td>36.8</td>\n",
       "      <td>0.340</td>\n",
       "      <td>27</td>\n",
       "      <td>0</td>\n",
       "    </tr>\n",
       "    <tr>\n",
       "      <th>765</th>\n",
       "      <td>121</td>\n",
       "      <td>72</td>\n",
       "      <td>23</td>\n",
       "      <td>112</td>\n",
       "      <td>26.2</td>\n",
       "      <td>0.245</td>\n",
       "      <td>30</td>\n",
       "      <td>0</td>\n",
       "    </tr>\n",
       "    <tr>\n",
       "      <th>766</th>\n",
       "      <td>126</td>\n",
       "      <td>60</td>\n",
       "      <td>0</td>\n",
       "      <td>0</td>\n",
       "      <td>30.1</td>\n",
       "      <td>0.349</td>\n",
       "      <td>47</td>\n",
       "      <td>1</td>\n",
       "    </tr>\n",
       "    <tr>\n",
       "      <th>767</th>\n",
       "      <td>93</td>\n",
       "      <td>70</td>\n",
       "      <td>31</td>\n",
       "      <td>0</td>\n",
       "      <td>30.4</td>\n",
       "      <td>0.315</td>\n",
       "      <td>23</td>\n",
       "      <td>0</td>\n",
       "    </tr>\n",
       "  </tbody>\n",
       "</table>\n",
       "<p>768 rows × 8 columns</p>\n",
       "</div>"
      ],
      "text/plain": [
       "     Glucose  BloodPressure  SkinThickness  Insulin   BMI  \\\n",
       "0        148             50             35        0  33.6   \n",
       "1         85             66             29        0  26.6   \n",
       "2        183             64              0        0  23.3   \n",
       "3        150             66             23       94  28.1   \n",
       "4        150             40             35      168  43.1   \n",
       "..       ...            ...            ...      ...   ...   \n",
       "763      101             76             48      180  32.9   \n",
       "764      122             70             27        0  36.8   \n",
       "765      121             72             23      112  26.2   \n",
       "766      126             60              0        0  30.1   \n",
       "767       93             70             31        0  30.4   \n",
       "\n",
       "     DiabetesPedigreeFunction  Age  Outcome  \n",
       "0                       0.627   50        1  \n",
       "1                       0.351   31        0  \n",
       "2                       0.672  102        1  \n",
       "3                       0.167   21        0  \n",
       "4                       2.288   33        1  \n",
       "..                        ...  ...      ...  \n",
       "763                     0.171   63        0  \n",
       "764                     0.340   27        0  \n",
       "765                     0.245   30        0  \n",
       "766                     0.349   47        1  \n",
       "767                     0.315   23        0  \n",
       "\n",
       "[768 rows x 8 columns]"
      ]
     },
     "execution_count": 43,
     "metadata": {},
     "output_type": "execute_result"
    }
   ],
   "source": [
    "df"
   ]
  },
  {
   "cell_type": "code",
   "execution_count": 44,
   "id": "18a78095-86b5-4c33-bc22-8d9e50e5d213",
   "metadata": {},
   "outputs": [
    {
     "name": "stdout",
     "output_type": "stream",
     "text": [
      "We are rejecting Null hypothesis\n"
     ]
    }
   ],
   "source": [
    "chi, p_val = chi2(df[['Age']],df['Outcome'])\n",
    "\n",
    "if p_val > 0.05:\n",
    "    print(\"We are accepting Null Hypothesis\")\n",
    "    print(\"Two Variables are indpedent\")\n",
    "    \n",
    "else:\n",
    "    print(\"We are rejecting Null hypothesis\")\n",
    "   "
   ]
  },
  {
   "cell_type": "code",
   "execution_count": 45,
   "id": "05a606f8-e9ed-4db3-899d-eabae8fe1cbe",
   "metadata": {},
   "outputs": [
    {
     "name": "stdout",
     "output_type": "stream",
     "text": [
      "Value of p = [6.76447895e-44]\n",
      "Value of chi = [193.07920687]\n",
      "We are rejecting Null hypothesis\n"
     ]
    }
   ],
   "source": [
    "chi, p_val = chi2(df[['Age']],df['Outcome'])\n",
    "print(f\"Value of p = {p_val}\")\n",
    "print(f\"Value of chi = {chi}\")\n",
    "if p_val > 0.05:\n",
    "    print(\"We are accepting Null Hypothesis\")\n",
    "    print(\"Two Variables are indpedent\")\n",
    "    \n",
    "else:\n",
    "    print(\"We are rejecting Null hypothesis\")\n",
    "   "
   ]
  },
  {
   "cell_type": "code",
   "execution_count": 46,
   "id": "8b2d4551-7103-4a9d-8b97-6c601473eba2",
   "metadata": {},
   "outputs": [
    {
     "ename": "SyntaxError",
     "evalue": "invalid syntax (Temp/ipykernel_3148/3090349829.py, line 1)",
     "output_type": "error",
     "traceback": [
      "\u001b[1;36m  File \u001b[1;32m\"C:\\Users\\Pranav\\AppData\\Local\\Temp/ipykernel_3148/3090349829.py\"\u001b[1;36m, line \u001b[1;32m1\u001b[0m\n\u001b[1;33m    5. ANOVA Test\u001b[0m\n\u001b[1;37m       ^\u001b[0m\n\u001b[1;31mSyntaxError\u001b[0m\u001b[1;31m:\u001b[0m invalid syntax\n"
     ]
    }
   ],
   "source": [
    "5. ANOVA Test\n",
    "6. T - test\n",
    "7. Z - test"
   ]
  },
  {
   "cell_type": "markdown",
   "id": "9cb9be07-54bc-4223-9252-c280bd698dbb",
   "metadata": {},
   "source": [
    "# T-test"
   ]
  },
  {
   "cell_type": "code",
   "execution_count": 47,
   "id": "e7930de3-64dc-4928-9681-6a6793b43293",
   "metadata": {},
   "outputs": [
    {
     "ename": "SyntaxError",
     "evalue": "invalid syntax (Temp/ipykernel_3148/4007370685.py, line 1)",
     "output_type": "error",
     "traceback": [
      "\u001b[1;36m  File \u001b[1;32m\"C:\\Users\\Pranav\\AppData\\Local\\Temp/ipykernel_3148/4007370685.py\"\u001b[1;36m, line \u001b[1;32m1\u001b[0m\n\u001b[1;33m    If number of samples / data points / row are less than 30\u001b[0m\n\u001b[1;37m       ^\u001b[0m\n\u001b[1;31mSyntaxError\u001b[0m\u001b[1;31m:\u001b[0m invalid syntax\n"
     ]
    }
   ],
   "source": [
    "If number of samples / data points / row are less than 30"
   ]
  },
  {
   "cell_type": "code",
   "execution_count": 48,
   "id": "5f7422c3-c528-4aa6-b894-0dfa7efafb0a",
   "metadata": {},
   "outputs": [],
   "source": [
    "from scipy.stats import ttest_1samp\n"
   ]
  },
  {
   "cell_type": "code",
   "execution_count": 49,
   "id": "a93003f3-9da5-4bda-9a0f-940af504f926",
   "metadata": {},
   "outputs": [
    {
     "data": {
      "text/plain": [
       "(768,)"
      ]
     },
     "execution_count": 49,
     "metadata": {},
     "output_type": "execute_result"
    }
   ],
   "source": [
    "df['Age'].shape"
   ]
  },
  {
   "cell_type": "code",
   "execution_count": 50,
   "id": "6d482be4-141c-4e7f-9d75-a4f97e0ecd05",
   "metadata": {},
   "outputs": [
    {
     "data": {
      "text/plain": [
       "(25,)"
      ]
     },
     "execution_count": 50,
     "metadata": {},
     "output_type": "execute_result"
    }
   ],
   "source": [
    "arr = df['Age'].head(25)\n",
    "arr.shape"
   ]
  },
  {
   "cell_type": "code",
   "execution_count": 51,
   "id": "1b260334-4db2-40e4-a3f1-649f4c39a77d",
   "metadata": {},
   "outputs": [
    {
     "data": {
      "text/plain": [
       "39.96"
      ]
     },
     "execution_count": 51,
     "metadata": {},
     "output_type": "execute_result"
    }
   ],
   "source": [
    "arr.mean()"
   ]
  },
  {
   "cell_type": "code",
   "execution_count": 52,
   "id": "52564897-c84b-4aad-9dc7-808a2f405dc1",
   "metadata": {},
   "outputs": [
    {
     "name": "stdout",
     "output_type": "stream",
     "text": [
      "1.0\n"
     ]
    }
   ],
   "source": [
    "_, p_val = ttest_1samp(arr,39.96)\n",
    "print(p_val)"
   ]
  },
  {
   "cell_type": "code",
   "execution_count": 53,
   "id": "0605bba9-441b-43a9-9568-50cc177de93b",
   "metadata": {},
   "outputs": [
    {
     "name": "stdout",
     "output_type": "stream",
     "text": [
      "3.1420705498351705e-08\n"
     ]
    }
   ],
   "source": [
    "_, p_val = ttest_1samp(arr,12.96)\n",
    "print(p_val)"
   ]
  },
  {
   "cell_type": "code",
   "execution_count": 54,
   "id": "8b14f34a-3d52-4ad6-b664-284ff37ca81f",
   "metadata": {},
   "outputs": [
    {
     "name": "stdout",
     "output_type": "stream",
     "text": [
      "3.443506792769514e-10\n"
     ]
    }
   ],
   "source": [
    "_, p_val = ttest_1samp(arr,5.6)\n",
    "print(p_val)"
   ]
  },
  {
   "cell_type": "code",
   "execution_count": 55,
   "id": "4d309387-8e5c-4700-ae03-99b6095c0a33",
   "metadata": {},
   "outputs": [
    {
     "name": "stdout",
     "output_type": "stream",
     "text": [
      "0.9906394446379614\n"
     ]
    }
   ],
   "source": [
    "_, p_val = ttest_1samp(arr,40)\n",
    "print(p_val)"
   ]
  },
  {
   "cell_type": "code",
   "execution_count": 56,
   "id": "1c45b90b-8343-44d2-9f26-e5b5f70f3367",
   "metadata": {},
   "outputs": [
    {
     "name": "stdout",
     "output_type": "stream",
     "text": [
      "3.443506792769514e-10\n",
      "Alternate Hypothesis is True\n"
     ]
    }
   ],
   "source": [
    "_, p_val = ttest_1samp(arr,5.6)\n",
    "print(p_val)\n",
    "\n",
    "if p_val > 0.05:\n",
    "    print(\"Null Hypothesis is True\")\n",
    "else:\n",
    "    print(\"Alternate Hypothesis is True\")"
   ]
  },
  {
   "cell_type": "markdown",
   "id": "ed217f36-ee84-44a8-ba65-16218d368bd1",
   "metadata": {},
   "source": [
    "## 7. z-test"
   ]
  },
  {
   "cell_type": "code",
   "execution_count": 57,
   "id": "e0e6172c-3ad8-45f9-9151-7cac28cc421c",
   "metadata": {},
   "outputs": [
    {
     "ename": "SyntaxError",
     "evalue": "invalid syntax (Temp/ipykernel_3148/2966246027.py, line 1)",
     "output_type": "error",
     "traceback": [
      "\u001b[1;36m  File \u001b[1;32m\"C:\\Users\\Pranav\\AppData\\Local\\Temp/ipykernel_3148/2966246027.py\"\u001b[1;36m, line \u001b[1;32m1\u001b[0m\n\u001b[1;33m    If the number of sample are more than 30\u001b[0m\n\u001b[1;37m       ^\u001b[0m\n\u001b[1;31mSyntaxError\u001b[0m\u001b[1;31m:\u001b[0m invalid syntax\n"
     ]
    }
   ],
   "source": [
    "If the number of sample are more than 30 "
   ]
  },
  {
   "cell_type": "code",
   "execution_count": 58,
   "id": "e0c2594a-462a-41fc-99d5-2f57cbd39f3a",
   "metadata": {},
   "outputs": [],
   "source": [
    "from statsmodels.stats.weightstats import ztest"
   ]
  },
  {
   "cell_type": "code",
   "execution_count": 59,
   "id": "e6e1fc2e-1d51-44f6-93e8-04763adecb00",
   "metadata": {},
   "outputs": [
    {
     "data": {
      "text/plain": [
       "33.30859375"
      ]
     },
     "execution_count": 59,
     "metadata": {},
     "output_type": "execute_result"
    }
   ],
   "source": [
    "df['Age'].mean()"
   ]
  },
  {
   "cell_type": "code",
   "execution_count": 60,
   "id": "c32a6863-dc61-41ae-b8b9-dbbea4c5bca1",
   "metadata": {},
   "outputs": [
    {
     "data": {
      "text/plain": [
       "(768,)"
      ]
     },
     "execution_count": 60,
     "metadata": {},
     "output_type": "execute_result"
    }
   ],
   "source": [
    "df['Age'].shape"
   ]
  },
  {
   "cell_type": "code",
   "execution_count": 61,
   "id": "3b620e51-5e25-4597-9786-c5988180bb4e",
   "metadata": {},
   "outputs": [
    {
     "name": "stdout",
     "output_type": "stream",
     "text": [
      "0.0\n"
     ]
    }
   ],
   "source": [
    "_,p_val = ztest(df['Age'],value=15)\n",
    "print(p_val)"
   ]
  },
  {
   "cell_type": "code",
   "execution_count": 62,
   "id": "b21cd394-f495-4ab9-aefb-36dcb95139f9",
   "metadata": {},
   "outputs": [
    {
     "name": "stdout",
     "output_type": "stream",
     "text": [
      "1.0\n"
     ]
    }
   ],
   "source": [
    "_,p_val = ztest(df['Age'],value=33.30859375)\n",
    "print(p_val)"
   ]
  },
  {
   "cell_type": "code",
   "execution_count": 63,
   "id": "2f35353c-9206-471a-be66-ea7cbdbd64d0",
   "metadata": {},
   "outputs": [
    {
     "name": "stdout",
     "output_type": "stream",
     "text": [
      "4.896613659721383e-118\n"
     ]
    }
   ],
   "source": [
    "_,p_val = ztest(df['Age'],value=43.30859375)\n",
    "print(p_val)"
   ]
  },
  {
   "cell_type": "code",
   "execution_count": 64,
   "id": "78ba44f4-c75c-4869-9915-25a5806a60b2",
   "metadata": {},
   "outputs": [
    {
     "name": "stdout",
     "output_type": "stream",
     "text": [
      "3.675623401449963e-12\n",
      "Alternate Hypothesis is True\n"
     ]
    }
   ],
   "source": [
    "_,p_val = ztest(df['Age'],value=30.30)\n",
    "print(p_val)\n",
    "\n",
    "if p_val > 0.05:\n",
    "    print(\"Null Hypothesis is True\")\n",
    "else:\n",
    "    print(\"Alternate Hypothesis is True\")"
   ]
  },
  {
   "cell_type": "markdown",
   "id": "1e9307d6",
   "metadata": {},
   "source": [
    "# Central Limit Therom"
   ]
  },
  {
   "cell_type": "code",
   "execution_count": null,
   "id": "b6c4047d-f50c-43a7-953e-542473700304",
   "metadata": {},
   "outputs": [],
   "source": [
    "Engg College >> 7 department >> 120\n",
    "\n",
    "population size = 7 * 120 = 840 * 4 = 3360\n",
    "\n",
    "\n",
    "height & weight measure >> \n",
    "\n",
    "sample 1 >> 30 >> mean \n",
    "sample 2 >> 30  \n",
    "sample 3 >> 30\n",
    "sample 4 >> 30\n",
    "sample 5 >> 30\n",
    "\n",
    "\n",
    "sample >> mean()\n",
    "                "
   ]
  },
  {
   "cell_type": "raw",
   "id": "6bfe857f",
   "metadata": {},
   "source": [
    "Def : CLT\n",
    "The Central Limit Theorem states that the sampling distribution of the sample means approaches a normal distribution as the sample size gets larger — no matter what the shape of the population distribution. \n",
    "\n",
    "This fact holds especially true for sample sizes over 30."
   ]
  }
 ],
 "metadata": {
  "kernelspec": {
   "display_name": "Python 3 (ipykernel)",
   "language": "python",
   "name": "python3"
  },
  "language_info": {
   "codemirror_mode": {
    "name": "ipython",
    "version": 3
   },
   "file_extension": ".py",
   "mimetype": "text/x-python",
   "name": "python",
   "nbconvert_exporter": "python",
   "pygments_lexer": "ipython3",
   "version": "3.9.7"
  },
  "toc": {
   "base_numbering": 1,
   "nav_menu": {},
   "number_sections": true,
   "sideBar": true,
   "skip_h1_title": false,
   "title_cell": "Table of Contents",
   "title_sidebar": "Contents",
   "toc_cell": false,
   "toc_position": {},
   "toc_section_display": true,
   "toc_window_display": false
  }
 },
 "nbformat": 4,
 "nbformat_minor": 5
}
